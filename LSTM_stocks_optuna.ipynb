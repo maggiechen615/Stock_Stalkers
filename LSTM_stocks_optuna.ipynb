{
 "cells": [
  {
   "cell_type": "code",
   "execution_count": 1,
   "metadata": {},
   "outputs": [],
   "source": [
    "# Example from https://github.com/wcneill/jn-ml-textbook/blob/master/Deep%20Learning/04%20Recurrent%20Networks/pytorch13b_LSTM.ipynb\n",
    "\n",
    "import torch\n",
    "from torch import nn, optim\n",
    "import optuna\n",
    "\n",
    "import numpy as np\n",
    "import pandas as pd\n",
    "from sklearn.preprocessing import OneHotEncoder, MinMaxScaler\n",
    "from sklearn.model_selection import TimeSeriesSplit\n",
    "\n",
    "import matplotlib as mpl\n",
    "import matplotlib.pyplot as plt\n",
    "import seaborn as sns\n",
    "\n",
    "from ta import add_all_ta_features #pip install --upgrade ta https://github.com/bukosabino/ta https://medium.datadriveninvestor.com/predicting-the-stock-market-with-python-bba3cf4c56ef\n",
    "from fastai.tabular.all import add_datepart #pip install fastai https://docs.fast.ai/tabular.core.html https://www.analyticsvidhya.com/blog/2018/10/predicting-stock-price-machine-learningnd-deep-learning-techniques-python/\n",
    "\n",
    "mpl.rcParams['figure.figsize'] = [12,8]\n",
    "viz_dict = {\n",
    "    'axes.titlesize':18,\n",
    "    'axes.labelsize':16,\n",
    "}\n",
    "sns.set_context(\"notebook\", rc=viz_dict)\n",
    "sns.set_style(\"whitegrid\")"
   ]
  },
  {
   "cell_type": "code",
   "execution_count": 2,
   "metadata": {},
   "outputs": [
    {
     "name": "stdout",
     "output_type": "stream",
     "text": [
      "Number of Entries: 1260\n"
     ]
    },
    {
     "name": "stderr",
     "output_type": "stream",
     "text": [
      "/Users/alejandrosaenz/opt/anaconda3/lib/python3.9/site-packages/ta/trend.py:769: RuntimeWarning: invalid value encountered in double_scalars\n",
      "  dip[idx] = 100 * (self._dip[idx] / value)\n",
      "/Users/alejandrosaenz/opt/anaconda3/lib/python3.9/site-packages/ta/trend.py:774: RuntimeWarning: invalid value encountered in double_scalars\n",
      "  din[idx] = 100 * (self._din[idx] / value)\n"
     ]
    },
    {
     "data": {
      "text/html": [
       "<div>\n",
       "<style scoped>\n",
       "    .dataframe tbody tr th:only-of-type {\n",
       "        vertical-align: middle;\n",
       "    }\n",
       "\n",
       "    .dataframe tbody tr th {\n",
       "        vertical-align: top;\n",
       "    }\n",
       "\n",
       "    .dataframe thead th {\n",
       "        text-align: right;\n",
       "    }\n",
       "</style>\n",
       "<table border=\"1\" class=\"dataframe\">\n",
       "  <thead>\n",
       "    <tr style=\"text-align: right;\">\n",
       "      <th></th>\n",
       "      <th>Date</th>\n",
       "      <th>High</th>\n",
       "      <th>Low</th>\n",
       "      <th>Open</th>\n",
       "      <th>Close</th>\n",
       "      <th>Volume</th>\n",
       "      <th>Adj Close</th>\n",
       "      <th>Year</th>\n",
       "      <th>Month</th>\n",
       "      <th>Week</th>\n",
       "      <th>...</th>\n",
       "      <th>momentum_ppo</th>\n",
       "      <th>momentum_ppo_signal</th>\n",
       "      <th>momentum_ppo_hist</th>\n",
       "      <th>momentum_pvo</th>\n",
       "      <th>momentum_pvo_signal</th>\n",
       "      <th>momentum_pvo_hist</th>\n",
       "      <th>momentum_kama</th>\n",
       "      <th>others_dr</th>\n",
       "      <th>others_dlr</th>\n",
       "      <th>others_cr</th>\n",
       "    </tr>\n",
       "    <tr>\n",
       "      <th>Date</th>\n",
       "      <th></th>\n",
       "      <th></th>\n",
       "      <th></th>\n",
       "      <th></th>\n",
       "      <th></th>\n",
       "      <th></th>\n",
       "      <th></th>\n",
       "      <th></th>\n",
       "      <th></th>\n",
       "      <th></th>\n",
       "      <th></th>\n",
       "      <th></th>\n",
       "      <th></th>\n",
       "      <th></th>\n",
       "      <th></th>\n",
       "      <th></th>\n",
       "      <th></th>\n",
       "      <th></th>\n",
       "      <th></th>\n",
       "      <th></th>\n",
       "      <th></th>\n",
       "    </tr>\n",
       "  </thead>\n",
       "  <tbody>\n",
       "    <tr>\n",
       "      <th>2017-04-28</th>\n",
       "      <td>2017-04-28</td>\n",
       "      <td>36.075001</td>\n",
       "      <td>35.817501</td>\n",
       "      <td>36.022499</td>\n",
       "      <td>35.912498</td>\n",
       "      <td>83441600.0</td>\n",
       "      <td>33.907143</td>\n",
       "      <td>2017</td>\n",
       "      <td>4</td>\n",
       "      <td>17</td>\n",
       "      <td>...</td>\n",
       "      <td>NaN</td>\n",
       "      <td>NaN</td>\n",
       "      <td>NaN</td>\n",
       "      <td>NaN</td>\n",
       "      <td>NaN</td>\n",
       "      <td>NaN</td>\n",
       "      <td>NaN</td>\n",
       "      <td>-56.906234</td>\n",
       "      <td>NaN</td>\n",
       "      <td>0.000000</td>\n",
       "    </tr>\n",
       "    <tr>\n",
       "      <th>2017-05-01</th>\n",
       "      <td>2017-05-01</td>\n",
       "      <td>36.799999</td>\n",
       "      <td>36.240002</td>\n",
       "      <td>36.275002</td>\n",
       "      <td>36.645000</td>\n",
       "      <td>134411600.0</td>\n",
       "      <td>34.598736</td>\n",
       "      <td>2017</td>\n",
       "      <td>5</td>\n",
       "      <td>18</td>\n",
       "      <td>...</td>\n",
       "      <td>NaN</td>\n",
       "      <td>NaN</td>\n",
       "      <td>NaN</td>\n",
       "      <td>NaN</td>\n",
       "      <td>NaN</td>\n",
       "      <td>NaN</td>\n",
       "      <td>NaN</td>\n",
       "      <td>2.039685</td>\n",
       "      <td>2.019162</td>\n",
       "      <td>2.039685</td>\n",
       "    </tr>\n",
       "    <tr>\n",
       "      <th>2017-05-02</th>\n",
       "      <td>2017-05-02</td>\n",
       "      <td>37.022499</td>\n",
       "      <td>36.709999</td>\n",
       "      <td>36.884998</td>\n",
       "      <td>36.877499</td>\n",
       "      <td>181408800.0</td>\n",
       "      <td>34.818253</td>\n",
       "      <td>2017</td>\n",
       "      <td>5</td>\n",
       "      <td>18</td>\n",
       "      <td>...</td>\n",
       "      <td>NaN</td>\n",
       "      <td>NaN</td>\n",
       "      <td>NaN</td>\n",
       "      <td>NaN</td>\n",
       "      <td>NaN</td>\n",
       "      <td>NaN</td>\n",
       "      <td>NaN</td>\n",
       "      <td>0.634461</td>\n",
       "      <td>0.632457</td>\n",
       "      <td>2.687087</td>\n",
       "    </tr>\n",
       "    <tr>\n",
       "      <th>2017-05-03</th>\n",
       "      <td>2017-05-03</td>\n",
       "      <td>36.872501</td>\n",
       "      <td>36.067501</td>\n",
       "      <td>36.397499</td>\n",
       "      <td>36.764999</td>\n",
       "      <td>182788000.0</td>\n",
       "      <td>34.712040</td>\n",
       "      <td>2017</td>\n",
       "      <td>5</td>\n",
       "      <td>18</td>\n",
       "      <td>...</td>\n",
       "      <td>NaN</td>\n",
       "      <td>NaN</td>\n",
       "      <td>NaN</td>\n",
       "      <td>NaN</td>\n",
       "      <td>NaN</td>\n",
       "      <td>NaN</td>\n",
       "      <td>NaN</td>\n",
       "      <td>-0.305062</td>\n",
       "      <td>-0.305528</td>\n",
       "      <td>2.373828</td>\n",
       "    </tr>\n",
       "    <tr>\n",
       "      <th>2017-05-04</th>\n",
       "      <td>2017-05-04</td>\n",
       "      <td>36.785000</td>\n",
       "      <td>36.452499</td>\n",
       "      <td>36.630001</td>\n",
       "      <td>36.632500</td>\n",
       "      <td>93487600.0</td>\n",
       "      <td>34.586937</td>\n",
       "      <td>2017</td>\n",
       "      <td>5</td>\n",
       "      <td>18</td>\n",
       "      <td>...</td>\n",
       "      <td>NaN</td>\n",
       "      <td>NaN</td>\n",
       "      <td>NaN</td>\n",
       "      <td>NaN</td>\n",
       "      <td>NaN</td>\n",
       "      <td>NaN</td>\n",
       "      <td>NaN</td>\n",
       "      <td>-0.360396</td>\n",
       "      <td>-0.361047</td>\n",
       "      <td>2.004876</td>\n",
       "    </tr>\n",
       "  </tbody>\n",
       "</table>\n",
       "<p>5 rows × 105 columns</p>\n",
       "</div>"
      ],
      "text/plain": [
       "                 Date       High        Low       Open      Close  \\\n",
       "Date                                                                \n",
       "2017-04-28 2017-04-28  36.075001  35.817501  36.022499  35.912498   \n",
       "2017-05-01 2017-05-01  36.799999  36.240002  36.275002  36.645000   \n",
       "2017-05-02 2017-05-02  37.022499  36.709999  36.884998  36.877499   \n",
       "2017-05-03 2017-05-03  36.872501  36.067501  36.397499  36.764999   \n",
       "2017-05-04 2017-05-04  36.785000  36.452499  36.630001  36.632500   \n",
       "\n",
       "                 Volume  Adj Close  Year  Month  Week  ...  momentum_ppo  \\\n",
       "Date                                                   ...                 \n",
       "2017-04-28   83441600.0  33.907143  2017      4    17  ...           NaN   \n",
       "2017-05-01  134411600.0  34.598736  2017      5    18  ...           NaN   \n",
       "2017-05-02  181408800.0  34.818253  2017      5    18  ...           NaN   \n",
       "2017-05-03  182788000.0  34.712040  2017      5    18  ...           NaN   \n",
       "2017-05-04   93487600.0  34.586937  2017      5    18  ...           NaN   \n",
       "\n",
       "            momentum_ppo_signal  momentum_ppo_hist  momentum_pvo  \\\n",
       "Date                                                               \n",
       "2017-04-28                  NaN                NaN           NaN   \n",
       "2017-05-01                  NaN                NaN           NaN   \n",
       "2017-05-02                  NaN                NaN           NaN   \n",
       "2017-05-03                  NaN                NaN           NaN   \n",
       "2017-05-04                  NaN                NaN           NaN   \n",
       "\n",
       "            momentum_pvo_signal  momentum_pvo_hist  momentum_kama  others_dr  \\\n",
       "Date                                                                           \n",
       "2017-04-28                  NaN                NaN            NaN -56.906234   \n",
       "2017-05-01                  NaN                NaN            NaN   2.039685   \n",
       "2017-05-02                  NaN                NaN            NaN   0.634461   \n",
       "2017-05-03                  NaN                NaN            NaN  -0.305062   \n",
       "2017-05-04                  NaN                NaN            NaN  -0.360396   \n",
       "\n",
       "            others_dlr  others_cr  \n",
       "Date                               \n",
       "2017-04-28         NaN   0.000000  \n",
       "2017-05-01    2.019162   2.039685  \n",
       "2017-05-02    0.632457   2.687087  \n",
       "2017-05-03   -0.305528   2.373828  \n",
       "2017-05-04   -0.361047   2.004876  \n",
       "\n",
       "[5 rows x 105 columns]"
      ]
     },
     "execution_count": 2,
     "metadata": {},
     "output_type": "execute_result"
    }
   ],
   "source": [
    "df = pd.read_csv('data/AAPL_data.csv')\n",
    "df.dropna()\n",
    "\n",
    "df[\"Date\"]=pd.to_datetime(df.Date, format=\"%Y-%m-%d\")\n",
    "df.index=df['Date']\n",
    "data = df.sort_index(ascending=True, axis=0)\n",
    "add_datepart(df, 'Date', drop=False)\n",
    "df.drop('Elapsed', axis=1, inplace=True)\n",
    "\n",
    "df = add_all_ta_features(\n",
    "    df, high=\"High\", low=\"Low\", open=\"Open\", close=\"Close\", volume=\"Volume\")\n",
    "\n",
    "print(f'Number of Entries: {len(df)}')\n",
    "df.head()"
   ]
  },
  {
   "cell_type": "code",
   "execution_count": 3,
   "metadata": {},
   "outputs": [
    {
     "name": "stderr",
     "output_type": "stream",
     "text": [
      "/Users/alejandrosaenz/opt/anaconda3/lib/python3.9/site-packages/seaborn/_decorators.py:36: FutureWarning: Pass the following variables as keyword args: x, y. From version 0.12, the only valid positional argument will be `data`, and passing other arguments without an explicit keyword will result in an error or misinterpretation.\n",
      "  warnings.warn(\n"
     ]
    },
    {
     "data": {
      "image/png": "[encoded data removed]",
      "text/plain": [
       "<Figure size 864x360 with 1 Axes>"
      ]
     },
     "metadata": {},
     "output_type": "display_data"
    }
   ],
   "source": [
    "plt.figure(figsize=[12., 5.])\n",
    "ax = sns.lineplot(df.index, df.Close, data=df)\n",
    "#ax.set_xlabel('months');"
   ]
  },
  {
   "cell_type": "code",
   "execution_count": 4,
   "metadata": {},
   "outputs": [],
   "source": [
    "# Select time frame\n",
    "df = df[df['Date'] >= '2022-01-01']\n",
    "\n",
    "# Create y variable\n",
    "y = np.where(df['Close'].shift(-1) > df['Close'], 1, -1)\n",
    "\n",
    "# Select features \n",
    "selected_features = ['trend_sma_fast', 'trend_ema_fast', 'momentum_stoch_rsi_k', 'momentum_stoch_rsi_d', 'momentum_rsi', \\\n",
    "                    'trend_macd', 'momentum_wr', 'volume_adi', 'momentum_roc', 'volume_obv', \\\n",
    "                    'volatility_bbh', 'volatility_bbl']\n",
    "basic_features = ['High', 'Low', 'Open', 'Volume', 'Year', 'Month', 'Week', 'Day', 'Dayofweek']\n",
    "\n",
    "reduced_df = df[selected_features + basic_features]\n",
    "\n"
   ]
  },
  {
   "cell_type": "code",
   "execution_count": 5,
   "metadata": {},
   "outputs": [
    {
     "data": {
      "text/plain": [
       "TimeSeriesSplit(gap=0, max_train_size=None, n_splits=5, test_size=None)"
      ]
     },
     "execution_count": 5,
     "metadata": {},
     "output_type": "execute_result"
    }
   ],
   "source": [
    "tscv = TimeSeriesSplit(n_splits=5)\n",
    "tscv"
   ]
  },
  {
   "cell_type": "code",
   "execution_count": 6,
   "metadata": {},
   "outputs": [],
   "source": [
    "# Convert data to float32 for PyTorch\n",
    "reduced_df = reduced_df.astype(np.float32)\n",
    "\n",
    "# I'm going to convert this to train and test instead of train and valid.\n",
    "# Train will include validation set through cross validation.\n",
    "\n",
    "# Split training and validation data\n",
    "split = int(0.8 * len(df))\n",
    "x_train = reduced_df[:split].to_numpy() #.reshape(-1, 1)\n",
    "x_test = reduced_df[split:].to_numpy() #.reshape(-1, 1)\n",
    "\n",
    "y_train = y[:split].reshape(-1, 1)\n",
    "y_test = y[split:].reshape(-1, 1)\n",
    "\n",
    "# scale data: MOVED THIS TO HAPPEN WITHIN CROSS VALIDATION\n",
    "\n",
    "# t_scaler = MinMaxScaler(feature_range=(-1, 1))\n",
    "# v_scaler = MinMaxScaler(feature_range=(-1, 1))\n",
    "# x_train = t_scaler.fit_transform(x_train)\n",
    "# x_test = v_scaler.fit_transform(x_test)\n",
    "\n",
    "# convert training data to tensor\n",
    "x_train = torch.tensor(x_train, dtype=torch.float32)\n",
    "x_test = torch.tensor(x_test, dtype=torch.float32)\n",
    "\n",
    "y_train = torch.tensor(y_train, dtype=torch.float32)\n",
    "y_test = torch.tensor(y_test, dtype=torch.float32)"
   ]
  },
  {
   "cell_type": "code",
   "execution_count": 7,
   "metadata": {},
   "outputs": [],
   "source": [
    "# Create training and validation set:\n",
    "train_data = (x_train, y_train)\n",
    "test_data = (x_test, y_test)"
   ]
  },
  {
   "cell_type": "code",
   "execution_count": 8,
   "metadata": {},
   "outputs": [],
   "source": [
    "def get_batches(data, window):\n",
    "    \"\"\"\n",
    "    Takes data with shape (n_samples, n_features) and creates mini-batches\n",
    "    with shape (1, window). \n",
    "    \"\"\"\n",
    "    x_data, y_data = data\n",
    "    L = len(x_data)\n",
    "    for i in range(L - window):\n",
    "        x_sequence = x_data[i:i + window]\n",
    "        y_sequence = y_data[i:i + window]\n",
    "        yield x_sequence, y_sequence"
   ]
  },
  {
   "cell_type": "code",
   "execution_count": 9,
   "metadata": {},
   "outputs": [],
   "source": [
    "class stocksLSTM(nn.Module):\n",
    "    def __init__(self, input_size, hidden_size, num_layers, output_size):\n",
    "        super().__init__()\n",
    "        self.hidden_size = hidden_size\n",
    "        self.lstm = nn.LSTM(input_size, hidden_size, num_layers, batch_first=True)\n",
    "        self.fc   = nn.Linear(hidden_size, output_size)\n",
    "        \n",
    "    def forward(self, x, hs):\n",
    "   \n",
    "        out, hs = self.lstm(x, hs)           # out.shape = (batch_size, seq_len, hidden_size)\n",
    "        out = out.view(-1, self.hidden_size) # out.shape = (seq_len, hidden_size)     \n",
    "        out = self.fc(out)\n",
    "        \n",
    "        return out, hs"
   ]
  },
  {
   "cell_type": "code",
   "execution_count": 11,
   "metadata": {},
   "outputs": [],
   "source": [
    "def train(model, epochs, train_set, valid_data=None, lr=0.001, print_every=100):\n",
    "\n",
    "    criterion = nn.MSELoss()\n",
    "    opt = optim.Adam(model.parameters(), lr=lr)\n",
    "    \n",
    "    train_loss = []\n",
    "    valid_loss = []\n",
    "    \n",
    "    for e in range(epochs):\n",
    "        \n",
    "        hs = None\n",
    "        t_loss = 0\n",
    "        for x, y in get_batches(train_set, 12):\n",
    "\n",
    "            opt.zero_grad()\n",
    "            \n",
    "            # Create batch_size dimension\n",
    "            x = x.unsqueeze(0)\n",
    "            out, hs = model(x, hs)\n",
    "            hs = tuple([h.data for h in hs])\n",
    "            \n",
    "            loss = criterion(out, y)\n",
    "            loss.backward()\n",
    "            opt.step()\n",
    "            t_loss += loss.item()\n",
    "            \n",
    "        if valid_data is not None:\n",
    "                model.eval()\n",
    "                val_x, val_y = valid_data\n",
    "                val_x = val_x.unsqueeze(0)\n",
    "                preds, _ = model(val_x, hs)\n",
    "                v_loss = criterion(preds, val_y)\n",
    "                valid_loss.append(v_loss.item())\n",
    "                \n",
    "                model.train()\n",
    "            \n",
    "        train_loss.append(np.mean(t_loss))\n",
    "            \n",
    "            \n",
    "        if e % print_every == 0:\n",
    "            print(f'Epoch {e}:\\nTraining Loss: {train_loss[-1]}')\n",
    "            if valid_data is not None:\n",
    "                print(f'Validation Loss: {valid_loss[-1]}')\n",
    "        \n",
    "    return train_loss, valid_loss\n",
    "    \n",
    "#     plt.figure(figsize=[8., 6.])\n",
    "#     plt.plot(train_loss, label='Training Loss')\n",
    "#     plt.plot(valid_loss, label='Validation Loss')\n",
    "#     plt.title('Loss vs Epochs')\n",
    "#     plt.xlabel('Epochs')\n",
    "#     plt.legend()\n",
    "#     plt.show()"
   ]
  },
  {
   "cell_type": "code",
   "execution_count": 12,
   "metadata": {},
   "outputs": [],
   "source": [
    "def train_cross_valid(model, epochs, lr, training_data):\n",
    "    train_losses = []\n",
    "    valid_losses = []\n",
    "    X_train, y_train = training_data\n",
    "    for train_index, validation_index in tscv.split(X_train):\n",
    "        # print(\"TRAIN:\", train_index, \"VALIDATION:\", validation_index)\n",
    "        # Split training and validation data\n",
    "        # split = int(0.8 * len(df))\n",
    "        # x_train = X_train[train_index].to_numpy() #.reshape(-1, 1)\n",
    "        # x_valid = X_train[validation_index].to_numpy() #.reshape(-1, 1)\n",
    "        x_train_fold = X_train[train_index]\n",
    "        x_valid_fold = X_train[validation_index]\n",
    "\n",
    "        y_train_fold = y[train_index].reshape(-1, 1)\n",
    "        y_valid_fold = y[validation_index].reshape(-1, 1)\n",
    "\n",
    "        # scale data\n",
    "        # t_scaler = MinMaxScaler(feature_range=(-1, 1))\n",
    "        # v_scaler = MinMaxScaler(feature_range=(-1, 1))\n",
    "        t_scaler = MinMaxScaler()\n",
    "        x_train_fold = t_scaler.fit_transform(x_train_fold)\n",
    "        x_valid_fold = t_scaler.transform(x_valid_fold)\n",
    "\n",
    "        # convert training data to tensor\n",
    "        x_train_fold = torch.tensor(x_train_fold, dtype=torch.float32)\n",
    "        x_valid_fold = torch.tensor(x_valid_fold, dtype=torch.float32)\n",
    "\n",
    "        y_train_fold = torch.tensor(y_train_fold, dtype=torch.float32)\n",
    "        y_valid_fold = torch.tensor(y_valid_fold, dtype=torch.float32)\n",
    "\n",
    "        # Create training and validation set:\n",
    "        train_data_fold = (x_train_fold, y_train_fold)\n",
    "        valid_data_fold = (x_valid_fold, y_valid_fold)\n",
    "        \n",
    "        train_loss, valid_loss = train(model, epochs, train_data_fold, valid_data=valid_data_fold, lr=lr)\n",
    "                #Only append losses from the last epoch\n",
    "        train_losses.append(train_loss[-1])\n",
    "        valid_losses.append(valid_loss[-1])\n",
    "\n",
    "    # Compute              \n",
    "    train_losses_avg = sum(train_losses) / len(train_losses)   \n",
    "    valid_losses_avg = sum(valid_losses) / len(valid_losses)  \n",
    "    return train_losses_avg, valid_losses_avg"
   ]
  },
  {
   "cell_type": "code",
   "execution_count": 13,
   "metadata": {},
   "outputs": [],
   "source": [
    "# Optuna objective function\n",
    "\n",
    "def objective(trial):\n",
    "\n",
    "    params = {\n",
    "              'learning_rate': trial.suggest_loguniform('learning_rate', 1e-5, 1e-1),\n",
    "              #'num_layers': trial.suggest_int('num_layers', 1, 4)\n",
    "              }\n",
    "    \n",
    "    input_size = x_train.size()[1]  # 21 in current implementation\n",
    "    hidden_size = 100\n",
    "    num_layers = 1     # tuned by optuna\n",
    "    output_size = 1\n",
    "\n",
    "    model = stocksLSTM(input_size, hidden_size, num_layers, output_size)\n",
    "    \n",
    "    train_losses_avg, valid_losses_avg = train_cross_valid(model, EPOCHS, params['learning_rate'], train_data)\n",
    "\n",
    "    #train_losses_avg, valid_losses_avg = train(model, EPOCHS, train_data, valid_data=test_data, lr=params['learning_rate'])\n",
    "\n",
    "    return valid_losses_avg"
   ]
  },
  {
   "cell_type": "code",
   "execution_count": 14,
   "metadata": {},
   "outputs": [
    {
     "name": "stderr",
     "output_type": "stream",
     "text": [
      "\u001b[32m[I 2022-05-31 05:22:25,694]\u001b[0m A new study created in memory with name: no-name-9c9aac5b-9053-4b30-91dc-d66f8b4b7a88\u001b[0m\n"
     ]
    },
    {
     "name": "stdout",
     "output_type": "stream",
     "text": [
      "Epoch 0:\n",
      "Training Loss: 21.21416997909546\n",
      "Validation Loss: 6.924756050109863\n",
      "Epoch 0:\n",
      "Training Loss: 7.579647406935692\n",
      "Validation Loss: 0.9487937688827515\n",
      "Epoch 0:\n",
      "Training Loss: 13.669071193784475\n",
      "Validation Loss: 1.6940510272979736\n",
      "Epoch 0:\n",
      "Training Loss: 11.02535017952323\n",
      "Validation Loss: 2.835766077041626\n",
      "Epoch 0:\n",
      "Training Loss: 12.878204081906006\n",
      "Validation Loss: 3.777923107147217\n"
     ]
    },
    {
     "name": "stderr",
     "output_type": "stream",
     "text": [
      "\u001b[32m[I 2022-05-31 05:22:56,756]\u001b[0m Trial 0 finished with value: 2.094768214225769 and parameters: {'learning_rate': 0.08829840625475222}. Best is trial 0 with value: 2.094768214225769.\u001b[0m\n"
     ]
    },
    {
     "name": "stdout",
     "output_type": "stream",
     "text": [
      "Epoch 0:\n",
      "Training Loss: 2.04768168926239\n",
      "Validation Loss: 1.075735092163086\n",
      "Epoch 0:\n",
      "Training Loss: 9.991033732891083\n",
      "Validation Loss: 0.947455883026123\n",
      "Epoch 0:\n",
      "Training Loss: 16.79190543293953\n",
      "Validation Loss: 1.4211761951446533\n",
      "Epoch 0:\n",
      "Training Loss: 27.28315159678459\n",
      "Validation Loss: 3.118234634399414\n",
      "Epoch 0:\n",
      "Training Loss: 30.03859308362007\n",
      "Validation Loss: 2.935786724090576\n"
     ]
    },
    {
     "name": "stderr",
     "output_type": "stream",
     "text": [
      "\u001b[32m[I 2022-05-31 05:23:28,127]\u001b[0m Trial 1 finished with value: 1.6082494616508485 and parameters: {'learning_rate': 5.587686935485507e-05}. Best is trial 1 with value: 1.6082494616508485.\u001b[0m\n"
     ]
    },
    {
     "name": "stdout",
     "output_type": "stream",
     "text": [
      "Epoch 0:\n",
      "Training Loss: 2.0320189595222473\n",
      "Validation Loss: 0.8936642408370972\n",
      "Epoch 0:\n",
      "Training Loss: 9.38554361462593\n",
      "Validation Loss: 0.8658539652824402\n",
      "Epoch 0:\n",
      "Training Loss: 7.767384209670126\n",
      "Validation Loss: 2.674598217010498\n",
      "Epoch 0:\n",
      "Training Loss: 9.065895394887775\n",
      "Validation Loss: 2.068526268005371\n",
      "Epoch 0:\n",
      "Training Loss: 6.859680869150907\n",
      "Validation Loss: 2.6210224628448486\n"
     ]
    },
    {
     "name": "stderr",
     "output_type": "stream",
     "text": [
      "\u001b[32m[I 2022-05-31 05:23:59,764]\u001b[0m Trial 2 finished with value: 1.6521417856216432 and parameters: {'learning_rate': 0.005326457581709616}. Best is trial 1 with value: 1.6082494616508485.\u001b[0m\n"
     ]
    },
    {
     "name": "stdout",
     "output_type": "stream",
     "text": [
      "Epoch 0:\n",
      "Training Loss: 1.8835701942443848\n",
      "Validation Loss: 0.9640415906906128\n",
      "Epoch 0:\n",
      "Training Loss: 7.999322900548577\n",
      "Validation Loss: 1.036980390548706\n",
      "Epoch 0:\n",
      "Training Loss: 6.025779250077903\n",
      "Validation Loss: 1.6907050609588623\n",
      "Epoch 0:\n",
      "Training Loss: 8.346181416884065\n",
      "Validation Loss: 1.5154855251312256\n",
      "Epoch 0:\n",
      "Training Loss: 8.925393818179145\n",
      "Validation Loss: 2.3736841678619385\n"
     ]
    },
    {
     "name": "stderr",
     "output_type": "stream",
     "text": [
      "\u001b[32m[I 2022-05-31 05:24:30,995]\u001b[0m Trial 3 finished with value: 1.6637834310531616 and parameters: {'learning_rate': 0.013853873815232946}. Best is trial 1 with value: 1.6082494616508485.\u001b[0m\n"
     ]
    },
    {
     "name": "stdout",
     "output_type": "stream",
     "text": [
      "Epoch 0:\n",
      "Training Loss: 2.077437162399292\n",
      "Validation Loss: 0.9967111349105835\n",
      "Epoch 0:\n",
      "Training Loss: 13.337074518203735\n",
      "Validation Loss: 2.264295816421509\n",
      "Epoch 0:\n",
      "Training Loss: 9.439534718170762\n",
      "Validation Loss: 1.1037250757217407\n",
      "Epoch 0:\n",
      "Training Loss: 8.281958268489689\n",
      "Validation Loss: 1.0531370639801025\n",
      "Epoch 0:\n",
      "Training Loss: 9.034260817570612\n",
      "Validation Loss: 2.280992031097412\n"
     ]
    },
    {
     "name": "stderr",
     "output_type": "stream",
     "text": [
      "\u001b[32m[I 2022-05-31 05:25:02,392]\u001b[0m Trial 4 finished with value: 1.5916697263717652 and parameters: {'learning_rate': 0.0006672786006222941}. Best is trial 4 with value: 1.5916697263717652.\u001b[0m\n"
     ]
    },
    {
     "name": "stdout",
     "output_type": "stream",
     "text": [
      "Epoch 0:\n",
      "Training Loss: 2.021241784095764\n",
      "Validation Loss: 0.8898190259933472\n",
      "Epoch 0:\n",
      "Training Loss: 9.922945328056812\n",
      "Validation Loss: 1.430703043937683\n",
      "Epoch 0:\n",
      "Training Loss: 6.82706279726699\n",
      "Validation Loss: 0.77797931432724\n",
      "Epoch 0:\n",
      "Training Loss: 6.449818496126682\n",
      "Validation Loss: 2.456174612045288\n",
      "Epoch 0:\n",
      "Training Loss: 6.976110627874732\n",
      "Validation Loss: 2.142575979232788\n"
     ]
    },
    {
     "name": "stderr",
     "output_type": "stream",
     "text": [
      "\u001b[32m[I 2022-05-31 05:25:33,628]\u001b[0m Trial 5 finished with value: 1.7582888841629027 and parameters: {'learning_rate': 0.0041881258142127745}. Best is trial 4 with value: 1.5916697263717652.\u001b[0m\n"
     ]
    },
    {
     "name": "stdout",
     "output_type": "stream",
     "text": [
      "Epoch 0:\n",
      "Training Loss: 1.9680277705192566\n",
      "Validation Loss: 0.932492733001709\n",
      "Epoch 0:\n",
      "Training Loss: 11.53422112390399\n",
      "Validation Loss: 2.300535202026367\n",
      "Epoch 0:\n",
      "Training Loss: 10.09726282209158\n",
      "Validation Loss: 0.856238067150116\n",
      "Epoch 0:\n",
      "Training Loss: 6.885965825989842\n",
      "Validation Loss: 1.0757108926773071\n",
      "Epoch 0:\n",
      "Training Loss: 6.706053753383458\n",
      "Validation Loss: 2.0159847736358643\n"
     ]
    },
    {
     "name": "stderr",
     "output_type": "stream",
     "text": [
      "\u001b[32m[I 2022-05-31 05:26:04,598]\u001b[0m Trial 6 finished with value: 1.3858996272087096 and parameters: {'learning_rate': 0.0010616217279111938}. Best is trial 6 with value: 1.3858996272087096.\u001b[0m\n"
     ]
    },
    {
     "name": "stdout",
     "output_type": "stream",
     "text": [
      "Epoch 0:\n",
      "Training Loss: 2.4965356588363647\n",
      "Validation Loss: 0.9018424153327942\n",
      "Epoch 0:\n",
      "Training Loss: 8.80966541916132\n",
      "Validation Loss: 1.0685641765594482\n",
      "Epoch 0:\n",
      "Training Loss: 6.567349111195654\n",
      "Validation Loss: 2.1007800102233887\n",
      "Epoch 0:\n",
      "Training Loss: 9.05463343928568\n",
      "Validation Loss: 2.4039463996887207\n",
      "Epoch 0:\n",
      "Training Loss: 8.082352126017213\n",
      "Validation Loss: 2.5205376148223877\n"
     ]
    },
    {
     "name": "stderr",
     "output_type": "stream",
     "text": [
      "\u001b[32m[I 2022-05-31 05:26:35,981]\u001b[0m Trial 7 finished with value: 1.7186083793640137 and parameters: {'learning_rate': 0.016025815245625734}. Best is trial 6 with value: 1.3858996272087096.\u001b[0m\n"
     ]
    },
    {
     "name": "stdout",
     "output_type": "stream",
     "text": [
      "Epoch 0:\n",
      "Training Loss: 2.1280258893966675\n",
      "Validation Loss: 1.1207865476608276\n",
      "Epoch 0:\n",
      "Training Loss: 12.466455191373825\n",
      "Validation Loss: 0.7150686979293823\n",
      "Epoch 0:\n",
      "Training Loss: 15.863396495580673\n",
      "Validation Loss: 1.316311001777649\n",
      "Epoch 0:\n",
      "Training Loss: 17.022884994745255\n",
      "Validation Loss: 1.7809054851531982\n",
      "Epoch 0:\n",
      "Training Loss: 13.801682330667973\n",
      "Validation Loss: 2.127394676208496\n"
     ]
    },
    {
     "name": "stderr",
     "output_type": "stream",
     "text": [
      "\u001b[32m[I 2022-05-31 05:27:06,965]\u001b[0m Trial 8 finished with value: 1.267134702205658 and parameters: {'learning_rate': 0.00011428176342864483}. Best is trial 8 with value: 1.267134702205658.\u001b[0m\n"
     ]
    },
    {
     "name": "stdout",
     "output_type": "stream",
     "text": [
      "Epoch 0:\n",
      "Training Loss: 6.0142048597335815\n",
      "Validation Loss: 1.2336920499801636\n",
      "Epoch 0:\n",
      "Training Loss: 14.371115036308765\n",
      "Validation Loss: 1.2660369873046875\n",
      "Epoch 0:\n",
      "Training Loss: 5.490885394625366\n",
      "Validation Loss: 1.507899284362793\n",
      "Epoch 0:\n",
      "Training Loss: 13.781731377355754\n",
      "Validation Loss: 2.1287243366241455\n",
      "Epoch 0:\n",
      "Training Loss: 9.149940148927271\n",
      "Validation Loss: 2.0922207832336426\n"
     ]
    },
    {
     "name": "stderr",
     "output_type": "stream",
     "text": [
      "\u001b[32m[I 2022-05-31 05:27:38,447]\u001b[0m Trial 9 finished with value: 1.7376862287521362 and parameters: {'learning_rate': 0.035479553259515344}. Best is trial 8 with value: 1.267134702205658.\u001b[0m\n"
     ]
    },
    {
     "name": "stdout",
     "output_type": "stream",
     "text": [
      "Epoch 0:\n",
      "Training Loss: 1.9792308807373047\n",
      "Validation Loss: 0.9314318895339966\n",
      "Epoch 0:\n",
      "Training Loss: 11.085681021213531\n",
      "Validation Loss: 0.9672454595565796\n",
      "Epoch 0:\n",
      "Training Loss: 19.639455258846283\n",
      "Validation Loss: 1.0240414142608643\n",
      "Epoch 0:\n",
      "Training Loss: 28.903720498085022\n",
      "Validation Loss: 1.2336198091506958\n",
      "Epoch 0:\n",
      "Training Loss: 36.58432739973068\n",
      "Validation Loss: 1.2015050649642944\n"
     ]
    },
    {
     "name": "stderr",
     "output_type": "stream",
     "text": [
      "\u001b[32m[I 2022-05-31 05:28:10,494]\u001b[0m Trial 10 finished with value: 1.067104709148407 and parameters: {'learning_rate': 1.596597162042871e-05}. Best is trial 10 with value: 1.067104709148407.\u001b[0m\n"
     ]
    },
    {
     "name": "stdout",
     "output_type": "stream",
     "text": [
      "Epoch 0:\n",
      "Training Loss: 2.0276989936828613\n",
      "Validation Loss: 1.098483681678772\n",
      "Epoch 0:\n",
      "Training Loss: 11.71979534626007\n",
      "Validation Loss: 0.9813909530639648\n",
      "Epoch 0:\n",
      "Training Loss: 19.8136568069458\n",
      "Validation Loss: 1.0054339170455933\n",
      "Epoch 0:\n",
      "Training Loss: 29.18710607290268\n",
      "Validation Loss: 1.104546308517456\n",
      "Epoch 0:\n",
      "Training Loss: 37.898126900196075\n",
      "Validation Loss: 1.1271893978118896\n"
     ]
    },
    {
     "name": "stderr",
     "output_type": "stream",
     "text": [
      "\u001b[32m[I 2022-05-31 05:28:41,477]\u001b[0m Trial 11 finished with value: 1.0899558544158936 and parameters: {'learning_rate': 1.0916081319985071e-05}. Best is trial 10 with value: 1.067104709148407.\u001b[0m\n"
     ]
    },
    {
     "name": "stdout",
     "output_type": "stream",
     "text": [
      "Epoch 0:\n",
      "Training Loss: 2.011061191558838\n",
      "Validation Loss: 1.016033411026001\n",
      "Epoch 0:\n",
      "Training Loss: 11.473621368408203\n",
      "Validation Loss: 0.9903925061225891\n",
      "Epoch 0:\n",
      "Training Loss: 20.066387832164764\n",
      "Validation Loss: 1.0452232360839844\n",
      "Epoch 0:\n",
      "Training Loss: 29.259506821632385\n",
      "Validation Loss: 1.0776546001434326\n",
      "Epoch 0:\n",
      "Training Loss: 37.88406604528427\n",
      "Validation Loss: 1.0817662477493286\n"
     ]
    },
    {
     "name": "stderr",
     "output_type": "stream",
     "text": [
      "\u001b[32m[I 2022-05-31 05:29:12,504]\u001b[0m Trial 12 finished with value: 1.056796371936798 and parameters: {'learning_rate': 1.2272115931725564e-05}. Best is trial 12 with value: 1.056796371936798.\u001b[0m\n"
     ]
    },
    {
     "name": "stdout",
     "output_type": "stream",
     "text": [
      "Epoch 0:\n",
      "Training Loss: 2.094849467277527\n",
      "Validation Loss: 1.1586720943450928\n",
      "Epoch 0:\n",
      "Training Loss: 12.012412130832672\n",
      "Validation Loss: 1.0052565336227417\n",
      "Epoch 0:\n",
      "Training Loss: 19.899238526821136\n",
      "Validation Loss: 1.0042914152145386\n",
      "Epoch 0:\n",
      "Training Loss: 29.236577451229095\n",
      "Validation Loss: 1.05977463722229\n",
      "Epoch 0:\n",
      "Training Loss: 38.02872109413147\n",
      "Validation Loss: 1.0747673511505127\n"
     ]
    },
    {
     "name": "stderr",
     "output_type": "stream",
     "text": [
      "\u001b[32m[I 2022-05-31 05:29:43,745]\u001b[0m Trial 13 finished with value: 1.0324972510337829 and parameters: {'learning_rate': 1.0881972035128908e-05}. Best is trial 13 with value: 1.0324972510337829.\u001b[0m\n"
     ]
    },
    {
     "name": "stdout",
     "output_type": "stream",
     "text": [
      "Epoch 0:\n",
      "Training Loss: 1.9519785046577454\n",
      "Validation Loss: 0.926045298576355\n",
      "Epoch 0:\n",
      "Training Loss: 9.969133913516998\n",
      "Validation Loss: 0.9454225301742554\n",
      "Epoch 0:\n",
      "Training Loss: 16.5184665620327\n",
      "Validation Loss: 1.5092613697052002\n",
      "Epoch 0:\n",
      "Training Loss: 23.86691877245903\n",
      "Validation Loss: 1.3826018571853638\n",
      "Epoch 0:\n",
      "Training Loss: 29.14474508166313\n",
      "Validation Loss: 2.340303659439087\n"
     ]
    },
    {
     "name": "stderr",
     "output_type": "stream",
     "text": [
      "\u001b[32m[I 2022-05-31 05:30:15,131]\u001b[0m Trial 14 finished with value: 1.3818063735961914 and parameters: {'learning_rate': 5.7213425330136e-05}. Best is trial 13 with value: 1.0324972510337829.\u001b[0m\n"
     ]
    },
    {
     "name": "stdout",
     "output_type": "stream",
     "text": [
      "Epoch 0:\n",
      "Training Loss: 2.0561150312423706\n",
      "Validation Loss: 1.1363525390625\n",
      "Epoch 0:\n",
      "Training Loss: 14.420366376638412\n",
      "Validation Loss: 0.7401487827301025\n",
      "Epoch 0:\n",
      "Training Loss: 14.931643158197403\n",
      "Validation Loss: 0.9704140424728394\n",
      "Epoch 0:\n",
      "Training Loss: 14.718315064907074\n",
      "Validation Loss: 1.3705137968063354\n",
      "Epoch 0:\n",
      "Training Loss: 12.229424806311727\n",
      "Validation Loss: 2.8631398677825928\n"
     ]
    },
    {
     "name": "stderr",
     "output_type": "stream",
     "text": [
      "\u001b[32m[I 2022-05-31 05:30:46,254]\u001b[0m Trial 15 finished with value: 1.5153886079788208 and parameters: {'learning_rate': 0.00019156913241992227}. Best is trial 13 with value: 1.0324972510337829.\u001b[0m\n"
     ]
    },
    {
     "name": "stdout",
     "output_type": "stream",
     "text": [
      "Epoch 0:\n",
      "Training Loss: 1.9280112981796265\n",
      "Validation Loss: 0.9444108009338379\n",
      "Epoch 0:\n",
      "Training Loss: 10.803183853626251\n",
      "Validation Loss: 0.9470708966255188\n",
      "Epoch 0:\n",
      "Training Loss: 19.51901340484619\n",
      "Validation Loss: 1.1607043743133545\n",
      "Epoch 0:\n",
      "Training Loss: 27.25054180622101\n",
      "Validation Loss: 1.2632510662078857\n",
      "Epoch 0:\n",
      "Training Loss: 28.064331024885178\n",
      "Validation Loss: 1.8113654851913452\n"
     ]
    },
    {
     "name": "stderr",
     "output_type": "stream",
     "text": [
      "\u001b[32m[I 2022-05-31 05:31:18,103]\u001b[0m Trial 16 finished with value: 1.3134838461875915 and parameters: {'learning_rate': 2.7695496292898306e-05}. Best is trial 13 with value: 1.0324972510337829.\u001b[0m\n"
     ]
    },
    {
     "name": "stdout",
     "output_type": "stream",
     "text": [
      "Epoch 0:\n",
      "Training Loss: 2.1889808177948\n",
      "Validation Loss: 1.0830737352371216\n",
      "Epoch 0:\n",
      "Training Loss: 13.45195946097374\n",
      "Validation Loss: 0.9094033241271973\n",
      "Epoch 0:\n",
      "Training Loss: 15.007929250597954\n",
      "Validation Loss: 0.7427927255630493\n",
      "Epoch 0:\n",
      "Training Loss: 12.732720650732517\n",
      "Validation Loss: 1.0833876132965088\n",
      "Epoch 0:\n",
      "Training Loss: 8.338809830136597\n",
      "Validation Loss: 2.6125423908233643\n"
     ]
    },
    {
     "name": "stderr",
     "output_type": "stream",
     "text": [
      "\u001b[32m[I 2022-05-31 05:31:50,844]\u001b[0m Trial 17 finished with value: 1.7819419741630553 and parameters: {'learning_rate': 0.00025616602591798477}. Best is trial 13 with value: 1.0324972510337829.\u001b[0m\n"
     ]
    },
    {
     "name": "stdout",
     "output_type": "stream",
     "text": [
      "Epoch 0:\n",
      "Training Loss: 1.9717366695404053\n",
      "Validation Loss: 0.9338874816894531\n",
      "Epoch 0:\n",
      "Training Loss: 10.809603869915009\n",
      "Validation Loss: 0.9600046277046204\n",
      "Epoch 0:\n",
      "Training Loss: 19.38944387435913\n",
      "Validation Loss: 1.1259739398956299\n",
      "Epoch 0:\n",
      "Training Loss: 25.750610530376434\n",
      "Validation Loss: 1.5807750225067139\n",
      "Epoch 0:\n",
      "Training Loss: 29.555152595043182\n",
      "Validation Loss: 1.6684538125991821\n"
     ]
    },
    {
     "name": "stderr",
     "output_type": "stream",
     "text": [
      "\u001b[32m[I 2022-05-31 05:32:21,894]\u001b[0m Trial 18 finished with value: 1.3719857692718507 and parameters: {'learning_rate': 3.5675777636287625e-05}. Best is trial 13 with value: 1.0324972510337829.\u001b[0m\n"
     ]
    },
    {
     "name": "stdout",
     "output_type": "stream",
     "text": [
      "Epoch 0:\n",
      "Training Loss: 1.9641681909561157\n",
      "Validation Loss: 0.9460643529891968\n",
      "Epoch 0:\n",
      "Training Loss: 11.06499433517456\n",
      "Validation Loss: 0.9508941769599915\n",
      "Epoch 0:\n",
      "Training Loss: 19.76913696527481\n",
      "Validation Loss: 1.0349994897842407\n",
      "Epoch 0:\n",
      "Training Loss: 29.10162127017975\n",
      "Validation Loss: 1.1676989793777466\n",
      "Epoch 0:\n",
      "Training Loss: 37.67911607027054\n",
      "Validation Loss: 1.1062653064727783\n"
     ]
    },
    {
     "name": "stderr",
     "output_type": "stream",
     "text": [
      "\u001b[32m[I 2022-05-31 05:32:51,743]\u001b[0m Trial 19 finished with value: 1.0459560751914978 and parameters: {'learning_rate': 1.0038026950773916e-05}. Best is trial 13 with value: 1.0324972510337829.\u001b[0m\n"
     ]
    },
    {
     "name": "stdout",
     "output_type": "stream",
     "text": [
      "Epoch 0:\n",
      "Training Loss: 2.020720601081848\n",
      "Validation Loss: 1.0303446054458618\n",
      "Epoch 0:\n",
      "Training Loss: 15.67498368024826\n",
      "Validation Loss: 0.6485188007354736\n",
      "Epoch 0:\n",
      "Training Loss: 10.236028019338846\n",
      "Validation Loss: 1.4053019285202026\n",
      "Epoch 0:\n",
      "Training Loss: 8.244706680066884\n",
      "Validation Loss: 1.0787101984024048\n",
      "Epoch 0:\n",
      "Training Loss: 7.079724004492164\n",
      "Validation Loss: 2.158407688140869\n"
     ]
    },
    {
     "name": "stderr",
     "output_type": "stream",
     "text": [
      "\u001b[32m[I 2022-05-31 05:33:21,860]\u001b[0m Trial 20 finished with value: 1.4955351114273072 and parameters: {'learning_rate': 0.0006119433397196516}. Best is trial 13 with value: 1.0324972510337829.\u001b[0m\n"
     ]
    },
    {
     "name": "stdout",
     "output_type": "stream",
     "text": [
      "Epoch 0:\n",
      "Training Loss: 1.9557662606239319\n",
      "Validation Loss: 1.0126641988754272\n",
      "Epoch 0:\n",
      "Training Loss: 10.92069411277771\n",
      "Validation Loss: 0.9525216221809387\n",
      "Epoch 0:\n",
      "Training Loss: 19.520683109760284\n",
      "Validation Loss: 1.0304901599884033\n",
      "Epoch 0:\n",
      "Training Loss: 28.89763629436493\n",
      "Validation Loss: 1.262905478477478\n",
      "Epoch 0:\n",
      "Training Loss: 36.16564458608627\n",
      "Validation Loss: 1.1791181564331055\n"
     ]
    },
    {
     "name": "stderr",
     "output_type": "stream",
     "text": [
      "\u001b[32m[I 2022-05-31 05:33:51,894]\u001b[0m Trial 21 finished with value: 1.126254403591156 and parameters: {'learning_rate': 1.5510327199711175e-05}. Best is trial 13 with value: 1.0324972510337829.\u001b[0m\n"
     ]
    },
    {
     "name": "stdout",
     "output_type": "stream",
     "text": [
      "Epoch 0:\n",
      "Training Loss: 2.085631489753723\n",
      "Validation Loss: 1.1042250394821167\n",
      "Epoch 0:\n",
      "Training Loss: 12.065263986587524\n",
      "Validation Loss: 1.0055822134017944\n",
      "Epoch 0:\n",
      "Training Loss: 20.031684577465057\n",
      "Validation Loss: 1.004394769668579\n",
      "Epoch 0:\n",
      "Training Loss: 29.24322348833084\n",
      "Validation Loss: 1.0380760431289673\n",
      "Epoch 0:\n",
      "Training Loss: 38.09435427188873\n",
      "Validation Loss: 1.0849756002426147\n"
     ]
    },
    {
     "name": "stderr",
     "output_type": "stream",
     "text": [
      "\u001b[32m[I 2022-05-31 05:34:22,286]\u001b[0m Trial 22 finished with value: 1.0262146949768067 and parameters: {'learning_rate': 1.0644033621208558e-05}. Best is trial 22 with value: 1.0262146949768067.\u001b[0m\n"
     ]
    },
    {
     "name": "stdout",
     "output_type": "stream",
     "text": [
      "Epoch 0:\n",
      "Training Loss: 2.1629421710968018\n",
      "Validation Loss: 1.125304102897644\n",
      "Epoch 0:\n",
      "Training Loss: 11.235545575618744\n",
      "Validation Loss: 0.957855224609375\n",
      "Epoch 0:\n",
      "Training Loss: 19.749331176280975\n",
      "Validation Loss: 1.1435202360153198\n",
      "Epoch 0:\n",
      "Training Loss: 25.453030943870544\n",
      "Validation Loss: 1.145189881324768\n",
      "Epoch 0:\n",
      "Training Loss: 28.88820120692253\n",
      "Validation Loss: 1.6908258199691772\n"
     ]
    },
    {
     "name": "stderr",
     "output_type": "stream",
     "text": [
      "\u001b[32m[I 2022-05-31 05:34:51,981]\u001b[0m Trial 23 finished with value: 1.063947331905365 and parameters: {'learning_rate': 3.2353742784796907e-05}. Best is trial 22 with value: 1.0262146949768067.\u001b[0m\n"
     ]
    },
    {
     "name": "stdout",
     "output_type": "stream",
     "text": [
      "Epoch 0:\n",
      "Training Loss: 2.0443918704986572\n",
      "Validation Loss: 0.9805155992507935\n",
      "Epoch 0:\n",
      "Training Loss: 11.045556426048279\n",
      "Validation Loss: 0.7378098964691162\n",
      "Epoch 0:\n",
      "Training Loss: 15.998990297317505\n",
      "Validation Loss: 2.1666855812072754\n",
      "Epoch 0:\n",
      "Training Loss: 20.695696890354156\n",
      "Validation Loss: 2.101867198944092\n",
      "Epoch 0:\n",
      "Training Loss: 14.92399700731039\n",
      "Validation Loss: 3.878340244293213\n"
     ]
    },
    {
     "name": "stderr",
     "output_type": "stream",
     "text": [
      "\u001b[32m[I 2022-05-31 05:35:22,126]\u001b[0m Trial 24 finished with value: 1.4515832185745239 and parameters: {'learning_rate': 0.00010236029462863294}. Best is trial 22 with value: 1.0262146949768067.\u001b[0m\n"
     ]
    },
    {
     "name": "stdout",
     "output_type": "stream",
     "text": [
      "Epoch 0:\n",
      "Training Loss: 2.105010151863098\n",
      "Validation Loss: 1.0826369524002075\n",
      "Epoch 0:\n",
      "Training Loss: 11.768601417541504\n",
      "Validation Loss: 0.9847482442855835\n",
      "Epoch 0:\n",
      "Training Loss: 19.613874554634094\n",
      "Validation Loss: 1.076435923576355\n",
      "Epoch 0:\n",
      "Training Loss: 28.681408941745758\n",
      "Validation Loss: 1.168790578842163\n",
      "Epoch 0:\n",
      "Training Loss: 33.92017036676407\n",
      "Validation Loss: 1.4005577564239502\n"
     ]
    },
    {
     "name": "stderr",
     "output_type": "stream",
     "text": [
      "\u001b[32m[I 2022-05-31 05:35:52,142]\u001b[0m Trial 25 finished with value: 1.0981494665145874 and parameters: {'learning_rate': 2.1854377213534867e-05}. Best is trial 22 with value: 1.0262146949768067.\u001b[0m\n"
     ]
    },
    {
     "name": "stdout",
     "output_type": "stream",
     "text": [
      "Epoch 0:\n",
      "Training Loss: 1.9612981081008911\n",
      "Validation Loss: 0.99409419298172\n",
      "Epoch 0:\n",
      "Training Loss: 10.047166585922241\n",
      "Validation Loss: 0.9181112051010132\n",
      "Epoch 0:\n",
      "Training Loss: 17.339395254850388\n",
      "Validation Loss: 1.306152105331421\n",
      "Epoch 0:\n",
      "Training Loss: 26.59070324897766\n",
      "Validation Loss: 1.5363883972167969\n",
      "Epoch 0:\n",
      "Training Loss: 26.378462433815002\n",
      "Validation Loss: 4.610666751861572\n"
     ]
    },
    {
     "name": "stderr",
     "output_type": "stream",
     "text": [
      "\u001b[32m[I 2022-05-31 05:36:21,870]\u001b[0m Trial 26 finished with value: 1.6332930207252503 and parameters: {'learning_rate': 5.718414242130823e-05}. Best is trial 22 with value: 1.0262146949768067.\u001b[0m\n"
     ]
    },
    {
     "name": "stdout",
     "output_type": "stream",
     "text": [
      "Epoch 0:\n",
      "Training Loss: 1.990921139717102\n",
      "Validation Loss: 1.0064163208007812\n",
      "Epoch 0:\n",
      "Training Loss: 11.447387218475342\n",
      "Validation Loss: 0.9725858569145203\n",
      "Epoch 0:\n",
      "Training Loss: 19.993386566638947\n",
      "Validation Loss: 1.0180556774139404\n",
      "Epoch 0:\n",
      "Training Loss: 29.216826260089874\n",
      "Validation Loss: 1.122725009918213\n",
      "Epoch 0:\n",
      "Training Loss: 37.87247955799103\n",
      "Validation Loss: 1.0692250728607178\n"
     ]
    },
    {
     "name": "stderr",
     "output_type": "stream",
     "text": [
      "\u001b[32m[I 2022-05-31 05:36:52,118]\u001b[0m Trial 27 finished with value: 1.0453875541687012 and parameters: {'learning_rate': 1.0004180894422604e-05}. Best is trial 22 with value: 1.0262146949768067.\u001b[0m\n"
     ]
    },
    {
     "name": "stdout",
     "output_type": "stream",
     "text": [
      "Epoch 0:\n",
      "Training Loss: 1.9559662342071533\n",
      "Validation Loss: 0.9255722761154175\n",
      "Epoch 0:\n",
      "Training Loss: 11.809954285621643\n",
      "Validation Loss: 0.7008426785469055\n",
      "Epoch 0:\n",
      "Training Loss: 16.211821734905243\n",
      "Validation Loss: 1.2691878080368042\n",
      "Epoch 0:\n",
      "Training Loss: 17.1709496229887\n",
      "Validation Loss: 1.6543922424316406\n",
      "Epoch 0:\n",
      "Training Loss: 13.857053693383932\n",
      "Validation Loss: 2.980217933654785\n"
     ]
    },
    {
     "name": "stderr",
     "output_type": "stream",
     "text": [
      "\u001b[32m[I 2022-05-31 05:37:22,099]\u001b[0m Trial 28 finished with value: 1.3643667936325072 and parameters: {'learning_rate': 0.00012380971961579667}. Best is trial 22 with value: 1.0262146949768067.\u001b[0m\n"
     ]
    },
    {
     "name": "stdout",
     "output_type": "stream",
     "text": [
      "Epoch 0:\n",
      "Training Loss: 25.555447816848755\n",
      "Validation Loss: 6.24830961227417\n",
      "Epoch 0:\n",
      "Training Loss: 16.62586271762848\n",
      "Validation Loss: 1.307835340499878\n",
      "Epoch 0:\n",
      "Training Loss: 6.973644386976957\n",
      "Validation Loss: 1.1021616458892822\n",
      "Epoch 0:\n",
      "Training Loss: 9.044034852762707\n",
      "Validation Loss: 4.9278340339660645\n",
      "Epoch 0:\n",
      "Training Loss: 26.870410009287298\n",
      "Validation Loss: 4.411125183105469\n"
     ]
    },
    {
     "name": "stderr",
     "output_type": "stream",
     "text": [
      "\u001b[32m[I 2022-05-31 05:37:51,811]\u001b[0m Trial 29 finished with value: 2.3652151346206667 and parameters: {'learning_rate': 0.09104666073361485}. Best is trial 22 with value: 1.0262146949768067.\u001b[0m\n"
     ]
    }
   ],
   "source": [
    "EPOCHS = 100\n",
    "\n",
    "study = optuna.create_study(direction=\"minimize\", sampler=optuna.samplers.TPESampler())\n",
    "study.optimize(objective, n_trials=30)"
   ]
  },
  {
   "cell_type": "code",
   "execution_count": 15,
   "metadata": {},
   "outputs": [
    {
     "name": "stdout",
     "output_type": "stream",
     "text": [
      "learning_rate: 1.0644033621208558e-05\n"
     ]
    }
   ],
   "source": [
    "best_trial = study.best_trial\n",
    "\n",
    "for key, value in best_trial.params.items():\n",
    "    print(\"{}: {}\".format(key, value))"
   ]
  },
  {
   "cell_type": "code",
   "execution_count": 16,
   "metadata": {},
   "outputs": [
    {
     "data": {
      "application/vnd.plotly.v1+json": {
       "config": {
        "plotlyServerURL": "https://plot.ly"
       },
       "data": [
        {
         "mode": "markers",
         "name": "Objective Value",
         "type": "scatter",
         "x": [
          0,
          1,
          2,
          3,
          4,
          5,
          6,
          7,
          8,
          9,
          10,
          11,
          12,
          13,
          14,
          15,
          16,
          17,
          18,
          19,
          20,
          21,
          22,
          23,
          24,
          25,
          26,
          27,
          28,
          29
         ],
         "y": [
          2.094768214225769,
          1.6082494616508485,
          1.6521417856216432,
          1.6637834310531616,
          1.5916697263717652,
          1.7582888841629027,
          1.3858996272087096,
          1.7186083793640137,
          1.267134702205658,
          1.7376862287521362,
          1.067104709148407,
          1.0899558544158936,
          1.056796371936798,
          1.0324972510337829,
          1.3818063735961914,
          1.5153886079788208,
          1.3134838461875915,
          1.7819419741630553,
          1.3719857692718507,
          1.0459560751914978,
          1.4955351114273072,
          1.126254403591156,
          1.0262146949768067,
          1.063947331905365,
          1.4515832185745239,
          1.0981494665145874,
          1.6332930207252503,
          1.0453875541687012,
          1.3643667936325072,
          2.3652151346206667
         ]
        },
        {
         "name": "Best Value",
         "type": "scatter",
         "x": [
          0,
          1,
          2,
          3,
          4,
          5,
          6,
          7,
          8,
          9,
          10,
          11,
          12,
          13,
          14,
          15,
          16,
          17,
          18,
          19,
          20,
          21,
          22,
          23,
          24,
          25,
          26,
          27,
          28,
          29
         ],
         "y": [
          2.094768214225769,
          1.6082494616508485,
          1.6082494616508485,
          1.6082494616508485,
          1.5916697263717652,
          1.5916697263717652,
          1.3858996272087096,
          1.3858996272087096,
          1.267134702205658,
          1.267134702205658,
          1.067104709148407,
          1.067104709148407,
          1.056796371936798,
          1.0324972510337829,
          1.0324972510337829,
          1.0324972510337829,
          1.0324972510337829,
          1.0324972510337829,
          1.0324972510337829,
          1.0324972510337829,
          1.0324972510337829,
          1.0324972510337829,
          1.0262146949768067,
          1.0262146949768067,
          1.0262146949768067,
          1.0262146949768067,
          1.0262146949768067,
          1.0262146949768067,
          1.0262146949768067,
          1.0262146949768067
         ]
        }
       ],
       "layout": {
        "template": {
         "data": {
          "bar": [
           {
            "error_x": {
             "color": "#2a3f5f"
            },
            "error_y": {
             "color": "#2a3f5f"
            },
            "marker": {
             "line": {
              "color": "#E5ECF6",
              "width": 0.5
             },
             "pattern": {
              "fillmode": "overlay",
              "size": 10,
              "solidity": 0.2
             }
            },
            "type": "bar"
           }
          ],
          "barpolar": [
           {
            "marker": {
             "line": {
              "color": "#E5ECF6",
              "width": 0.5
             },
             "pattern": {
              "fillmode": "overlay",
              "size": 10,
              "solidity": 0.2
             }
            },
            "type": "barpolar"
           }
          ],
          "carpet": [
           {
            "aaxis": {
             "endlinecolor": "#2a3f5f",
             "gridcolor": "white",
             "linecolor": "white",
             "minorgridcolor": "white",
             "startlinecolor": "#2a3f5f"
            },
            "baxis": {
             "endlinecolor": "#2a3f5f",
             "gridcolor": "white",
             "linecolor": "white",
             "minorgridcolor": "white",
             "startlinecolor": "#2a3f5f"
            },
            "type": "carpet"
           }
          ],
          "choropleth": [
           {
            "colorbar": {
             "outlinewidth": 0,
             "ticks": ""
            },
            "type": "choropleth"
           }
          ],
          "contour": [
           {
            "colorbar": {
             "outlinewidth": 0,
             "ticks": ""
            },
            "colorscale": [
             [
              0,
              "#0d0887"
             ],
             [
              0.1111111111111111,
              "#46039f"
             ],
             [
              0.2222222222222222,
              "#7201a8"
             ],
             [
              0.3333333333333333,
              "#9c179e"
             ],
             [
              0.4444444444444444,
              "#bd3786"
             ],
             [
              0.5555555555555556,
              "#d8576b"
             ],
             [
              0.6666666666666666,
              "#ed7953"
             ],
             [
              0.7777777777777778,
              "#fb9f3a"
             ],
             [
              0.8888888888888888,
              "#fdca26"
             ],
             [
              1,
              "#f0f921"
             ]
            ],
            "type": "contour"
           }
          ],
          "contourcarpet": [
           {
            "colorbar": {
             "outlinewidth": 0,
             "ticks": ""
            },
            "type": "contourcarpet"
           }
          ],
          "heatmap": [
           {
            "colorbar": {
             "outlinewidth": 0,
             "ticks": ""
            },
            "colorscale": [
             [
              0,
              "#0d0887"
             ],
             [
              0.1111111111111111,
              "#46039f"
             ],
             [
              0.2222222222222222,
              "#7201a8"
             ],
             [
              0.3333333333333333,
              "#9c179e"
             ],
             [
              0.4444444444444444,
              "#bd3786"
             ],
             [
              0.5555555555555556,
              "#d8576b"
             ],
             [
              0.6666666666666666,
              "#ed7953"
             ],
             [
              0.7777777777777778,
              "#fb9f3a"
             ],
             [
              0.8888888888888888,
              "#fdca26"
             ],
             [
              1,
              "#f0f921"
             ]
            ],
            "type": "heatmap"
           }
          ],
          "heatmapgl": [
           {
            "colorbar": {
             "outlinewidth": 0,
             "ticks": ""
            },
            "colorscale": [
             [
              0,
              "#0d0887"
             ],
             [
              0.1111111111111111,
              "#46039f"
             ],
             [
              0.2222222222222222,
              "#7201a8"
             ],
             [
              0.3333333333333333,
              "#9c179e"
             ],
             [
              0.4444444444444444,
              "#bd3786"
             ],
             [
              0.5555555555555556,
              "#d8576b"
             ],
             [
              0.6666666666666666,
              "#ed7953"
             ],
             [
              0.7777777777777778,
              "#fb9f3a"
             ],
             [
              0.8888888888888888,
              "#fdca26"
             ],
             [
              1,
              "#f0f921"
             ]
            ],
            "type": "heatmapgl"
           }
          ],
          "histogram": [
           {
            "marker": {
             "pattern": {
              "fillmode": "overlay",
              "size": 10,
              "solidity": 0.2
             }
            },
            "type": "histogram"
           }
          ],
          "histogram2d": [
           {
            "colorbar": {
             "outlinewidth": 0,
             "ticks": ""
            },
            "colorscale": [
             [
              0,
              "#0d0887"
             ],
             [
              0.1111111111111111,
              "#46039f"
             ],
             [
              0.2222222222222222,
              "#7201a8"
             ],
             [
              0.3333333333333333,
              "#9c179e"
             ],
             [
              0.4444444444444444,
              "#bd3786"
             ],
             [
              0.5555555555555556,
              "#d8576b"
             ],
             [
              0.6666666666666666,
              "#ed7953"
             ],
             [
              0.7777777777777778,
              "#fb9f3a"
             ],
             [
              0.8888888888888888,
              "#fdca26"
             ],
             [
              1,
              "#f0f921"
             ]
            ],
            "type": "histogram2d"
           }
          ],
          "histogram2dcontour": [
           {
            "colorbar": {
             "outlinewidth": 0,
             "ticks": ""
            },
            "colorscale": [
             [
              0,
              "#0d0887"
             ],
             [
              0.1111111111111111,
              "#46039f"
             ],
             [
              0.2222222222222222,
              "#7201a8"
             ],
             [
              0.3333333333333333,
              "#9c179e"
             ],
             [
              0.4444444444444444,
              "#bd3786"
             ],
             [
              0.5555555555555556,
              "#d8576b"
             ],
             [
              0.6666666666666666,
              "#ed7953"
             ],
             [
              0.7777777777777778,
              "#fb9f3a"
             ],
             [
              0.8888888888888888,
              "#fdca26"
             ],
             [
              1,
              "#f0f921"
             ]
            ],
            "type": "histogram2dcontour"
           }
          ],
          "mesh3d": [
           {
            "colorbar": {
             "outlinewidth": 0,
             "ticks": ""
            },
            "type": "mesh3d"
           }
          ],
          "parcoords": [
           {
            "line": {
             "colorbar": {
              "outlinewidth": 0,
              "ticks": ""
             }
            },
            "type": "parcoords"
           }
          ],
          "pie": [
           {
            "automargin": true,
            "type": "pie"
           }
          ],
          "scatter": [
           {
            "marker": {
             "colorbar": {
              "outlinewidth": 0,
              "ticks": ""
             }
            },
            "type": "scatter"
           }
          ],
          "scatter3d": [
           {
            "line": {
             "colorbar": {
              "outlinewidth": 0,
              "ticks": ""
             }
            },
            "marker": {
             "colorbar": {
              "outlinewidth": 0,
              "ticks": ""
             }
            },
            "type": "scatter3d"
           }
          ],
          "scattercarpet": [
           {
            "marker": {
             "colorbar": {
              "outlinewidth": 0,
              "ticks": ""
             }
            },
            "type": "scattercarpet"
           }
          ],
          "scattergeo": [
           {
            "marker": {
             "colorbar": {
              "outlinewidth": 0,
              "ticks": ""
             }
            },
            "type": "scattergeo"
           }
          ],
          "scattergl": [
           {
            "marker": {
             "colorbar": {
              "outlinewidth": 0,
              "ticks": ""
             }
            },
            "type": "scattergl"
           }
          ],
          "scattermapbox": [
           {
            "marker": {
             "colorbar": {
              "outlinewidth": 0,
              "ticks": ""
             }
            },
            "type": "scattermapbox"
           }
          ],
          "scatterpolar": [
           {
            "marker": {
             "colorbar": {
              "outlinewidth": 0,
              "ticks": ""
             }
            },
            "type": "scatterpolar"
           }
          ],
          "scatterpolargl": [
           {
            "marker": {
             "colorbar": {
              "outlinewidth": 0,
              "ticks": ""
             }
            },
            "type": "scatterpolargl"
           }
          ],
          "scatterternary": [
           {
            "marker": {
             "colorbar": {
              "outlinewidth": 0,
              "ticks": ""
             }
            },
            "type": "scatterternary"
           }
          ],
          "surface": [
           {
            "colorbar": {
             "outlinewidth": 0,
             "ticks": ""
            },
            "colorscale": [
             [
              0,
              "#0d0887"
             ],
             [
              0.1111111111111111,
              "#46039f"
             ],
             [
              0.2222222222222222,
              "#7201a8"
             ],
             [
              0.3333333333333333,
              "#9c179e"
             ],
             [
              0.4444444444444444,
              "#bd3786"
             ],
             [
              0.5555555555555556,
              "#d8576b"
             ],
             [
              0.6666666666666666,
              "#ed7953"
             ],
             [
              0.7777777777777778,
              "#fb9f3a"
             ],
             [
              0.8888888888888888,
              "#fdca26"
             ],
             [
              1,
              "#f0f921"
             ]
            ],
            "type": "surface"
           }
          ],
          "table": [
           {
            "cells": {
             "fill": {
              "color": "#EBF0F8"
             },
             "line": {
              "color": "white"
             }
            },
            "header": {
             "fill": {
              "color": "#C8D4E3"
             },
             "line": {
              "color": "white"
             }
            },
            "type": "table"
           }
          ]
         },
         "layout": {
          "annotationdefaults": {
           "arrowcolor": "#2a3f5f",
           "arrowhead": 0,
           "arrowwidth": 1
          },
          "autotypenumbers": "strict",
          "coloraxis": {
           "colorbar": {
            "outlinewidth": 0,
            "ticks": ""
           }
          },
          "colorscale": {
           "diverging": [
            [
             0,
             "#8e0152"
            ],
            [
             0.1,
             "#c51b7d"
            ],
            [
             0.2,
             "#de77ae"
            ],
            [
             0.3,
             "#f1b6da"
            ],
            [
             0.4,
             "#fde0ef"
            ],
            [
             0.5,
             "#f7f7f7"
            ],
            [
             0.6,
             "#e6f5d0"
            ],
            [
             0.7,
             "#b8e186"
            ],
            [
             0.8,
             "#7fbc41"
            ],
            [
             0.9,
             "#4d9221"
            ],
            [
             1,
             "#276419"
            ]
           ],
           "sequential": [
            [
             0,
             "#0d0887"
            ],
            [
             0.1111111111111111,
             "#46039f"
            ],
            [
             0.2222222222222222,
             "#7201a8"
            ],
            [
             0.3333333333333333,
             "#9c179e"
            ],
            [
             0.4444444444444444,
             "#bd3786"
            ],
            [
             0.5555555555555556,
             "#d8576b"
            ],
            [
             0.6666666666666666,
             "#ed7953"
            ],
            [
             0.7777777777777778,
             "#fb9f3a"
            ],
            [
             0.8888888888888888,
             "#fdca26"
            ],
            [
             1,
             "#f0f921"
            ]
           ],
           "sequentialminus": [
            [
             0,
             "#0d0887"
            ],
            [
             0.1111111111111111,
             "#46039f"
            ],
            [
             0.2222222222222222,
             "#7201a8"
            ],
            [
             0.3333333333333333,
             "#9c179e"
            ],
            [
             0.4444444444444444,
             "#bd3786"
            ],
            [
             0.5555555555555556,
             "#d8576b"
            ],
            [
             0.6666666666666666,
             "#ed7953"
            ],
            [
             0.7777777777777778,
             "#fb9f3a"
            ],
            [
             0.8888888888888888,
             "#fdca26"
            ],
            [
             1,
             "#f0f921"
            ]
           ]
          },
          "colorway": [
           "#636efa",
           "#EF553B",
           "#00cc96",
           "#ab63fa",
           "#FFA15A",
           "#19d3f3",
           "#FF6692",
           "#B6E880",
           "#FF97FF",
           "#FECB52"
          ],
          "font": {
           "color": "#2a3f5f"
          },
          "geo": {
           "bgcolor": "white",
           "lakecolor": "white",
           "landcolor": "#E5ECF6",
           "showlakes": true,
           "showland": true,
           "subunitcolor": "white"
          },
          "hoverlabel": {
           "align": "left"
          },
          "hovermode": "closest",
          "mapbox": {
           "style": "light"
          },
          "paper_bgcolor": "white",
          "plot_bgcolor": "#E5ECF6",
          "polar": {
           "angularaxis": {
            "gridcolor": "white",
            "linecolor": "white",
            "ticks": ""
           },
           "bgcolor": "#E5ECF6",
           "radialaxis": {
            "gridcolor": "white",
            "linecolor": "white",
            "ticks": ""
           }
          },
          "scene": {
           "xaxis": {
            "backgroundcolor": "#E5ECF6",
            "gridcolor": "white",
            "gridwidth": 2,
            "linecolor": "white",
            "showbackground": true,
            "ticks": "",
            "zerolinecolor": "white"
           },
           "yaxis": {
            "backgroundcolor": "#E5ECF6",
            "gridcolor": "white",
            "gridwidth": 2,
            "linecolor": "white",
            "showbackground": true,
            "ticks": "",
            "zerolinecolor": "white"
           },
           "zaxis": {
            "backgroundcolor": "#E5ECF6",
            "gridcolor": "white",
            "gridwidth": 2,
            "linecolor": "white",
            "showbackground": true,
            "ticks": "",
            "zerolinecolor": "white"
           }
          },
          "shapedefaults": {
           "line": {
            "color": "#2a3f5f"
           }
          },
          "ternary": {
           "aaxis": {
            "gridcolor": "white",
            "linecolor": "white",
            "ticks": ""
           },
           "baxis": {
            "gridcolor": "white",
            "linecolor": "white",
            "ticks": ""
           },
           "bgcolor": "#E5ECF6",
           "caxis": {
            "gridcolor": "white",
            "linecolor": "white",
            "ticks": ""
           }
          },
          "title": {
           "x": 0.05
          },
          "xaxis": {
           "automargin": true,
           "gridcolor": "white",
           "linecolor": "white",
           "ticks": "",
           "title": {
            "standoff": 15
           },
           "zerolinecolor": "white",
           "zerolinewidth": 2
          },
          "yaxis": {
           "automargin": true,
           "gridcolor": "white",
           "linecolor": "white",
           "ticks": "",
           "title": {
            "standoff": 15
           },
           "zerolinecolor": "white",
           "zerolinewidth": 2
          }
         }
        },
        "title": {
         "text": "Optimization History Plot"
        },
        "xaxis": {
         "title": {
          "text": "#Trials"
         }
        },
        "yaxis": {
         "title": {
          "text": "Objective Value"
         }
        }
       }
      }
     },
     "metadata": {},
     "output_type": "display_data"
    }
   ],
   "source": [
    "optuna.visualization.plot_optimization_history(study)\n",
    "\n",
    "# Other possible visuzlizations\n",
    "# optuna.visualization.plot_slice(study) \n",
    "# optuna.visualization.plot_parallel_coordinate(study)"
   ]
  },
  {
   "cell_type": "code",
   "execution_count": null,
   "metadata": {},
   "outputs": [],
   "source": [
    "# THIS IS TO COMPARE HP IMPORTANCE. IMPLEMENT WHEN WE OPTIMIZE MORE THAN 1 HP\n",
    "# optuna.visualization.plot_param_importances(study)\n"
   ]
  },
  {
   "cell_type": "markdown",
   "metadata": {},
   "source": [
    "***************\n",
    "CODE IS WORKING UP TO HERE\n",
    "****\n"
   ]
  },
  {
   "cell_type": "code",
   "execution_count": null,
   "metadata": {},
   "outputs": [],
   "source": [
    "# train(model, 500, train_data, lr=0.0005, valid_data=valid_data)\n",
    "train_losses, valid_losses = train_cross_valid(model, 200, 0.0005, train_data)"
   ]
  },
  {
   "cell_type": "code",
   "execution_count": null,
   "metadata": {},
   "outputs": [],
   "source": [
    "# get predictions on training set\n",
    "hs = None\n",
    "train_preds, hs = model(x_train.unsqueeze(0), hs)\n",
    "train_preds = t_scaler.inverse_transform(train_preds.detach())\n",
    "\n",
    "# Get predictions on validation data\n",
    "valid_preds, hs = model(x_valid.unsqueeze(0), hs)\n",
    "valid_preds = v_scaler.inverse_transform(valid_preds.detach())"
   ]
  },
  {
   "cell_type": "code",
   "execution_count": 15,
   "metadata": {},
   "outputs": [
    {
     "data": {
      "text/plain": [
       "0.5882352941176471"
      ]
     },
     "execution_count": 15,
     "metadata": {},
     "output_type": "execute_result"
    }
   ],
   "source": [
    "valid_preds, hs = model(x_valid.unsqueeze(0), hs)\n",
    "valid_preds = valid_preds.reshape(-1)\n",
    "valid_preds = np.where(valid_preds > 0, 1, -1)\n",
    "\n",
    "y_valid_np = y_valid.numpy().reshape(-1)\n",
    "\n",
    "correct_preds = np.where(valid_preds == y_valid_np, 1, 0)\n",
    "valid_acc = sum(correct_preds) / len(correct_preds)\n",
    "valid_acc\n",
    "\n"
   ]
  },
  {
   "cell_type": "code",
   "execution_count": 16,
   "metadata": {},
   "outputs": [],
   "source": [
    "train_time = data.index[:split]\n",
    "valid_time = data.index[split:]"
   ]
  },
  {
   "cell_type": "code",
   "execution_count": null,
   "metadata": {},
   "outputs": [],
   "source": [
    "plt.plot(train_time, train_preds.squeeze(), 'r--', label='Training Predictions', )\n",
    "plt.plot(valid_time, valid_preds.squeeze(), 'g--', label='Validation Predictions')\n",
    "#plt.plot(reduced_df.index, reduced_df.y.detach().numpy(), label='Actual')\n",
    "#plt.xticks(np.arange(0,145,12))\n",
    "plt.legend()"
   ]
  },
  {
   "cell_type": "code",
   "execution_count": null,
   "metadata": {},
   "outputs": [],
   "source": []
  }
 ],
 "metadata": {
  "interpreter": {
   "hash": "659f69cde96c241df085b9377ee039d2f5fd3321c931e7e679bf4e3bffd366fe"
  },
  "kernelspec": {
   "display_name": "Python 3 (ipykernel)",
   "language": "python",
   "name": "python3"
  },
  "language_info": {
   "codemirror_mode": {
    "name": "ipython",
    "version": 3
   },
   "file_extension": ".py",
   "mimetype": "text/x-python",
   "name": "python",
   "nbconvert_exporter": "python",
   "pygments_lexer": "ipython3",
   "version": "3.9.7"
  }
 },
 "nbformat": 4,
 "nbformat_minor": 2
}

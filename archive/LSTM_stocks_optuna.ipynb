{
 "cells": [
  {
   "cell_type": "code",
   "execution_count": 1,
   "metadata": {},
   "outputs": [],
   "source": [
    "# Example from https://github.com/wcneill/jn-ml-textbook/blob/master/Deep%20Learning/04%20Recurrent%20Networks/pytorch13b_LSTM.ipynb\n",
    "\n",
    "import torch\n",
    "from torch import nn, optim\n",
    "import optuna\n",
    "\n",
    "import numpy as np\n",
    "import pandas as pd\n",
    "from sklearn.preprocessing import OneHotEncoder, MinMaxScaler\n",
    "from sklearn.model_selection import TimeSeriesSplit\n",
    "\n",
    "from datetime import datetime\n",
    "\n",
    "import matplotlib as mpl\n",
    "import matplotlib.pyplot as plt\n",
    "import seaborn as sns\n",
    "\n",
    "from ta import add_all_ta_features #pip install --upgrade ta https://github.com/bukosabino/ta https://medium.datadriveninvestor.com/predicting-the-stock-market-with-python-bba3cf4c56ef\n",
    "from fastai.tabular.all import add_datepart #pip install fastai https://docs.fast.ai/tabular.core.html https://www.analyticsvidhya.com/blog/2018/10/predicting-stock-price-machine-learningnd-deep-learning-techniques-python/\n",
    "\n",
    "mpl.rcParams['figure.figsize'] = [12,8]\n",
    "viz_dict = {\n",
    "    'axes.titlesize':18,\n",
    "    'axes.labelsize':16,\n",
    "}\n",
    "sns.set_context(\"notebook\", rc=viz_dict)\n",
    "sns.set_style(\"whitegrid\")"
   ]
  },
  {
   "cell_type": "code",
   "execution_count": 2,
   "metadata": {},
   "outputs": [],
   "source": [
    "def convert(date_string):\n",
    "    year, month, day = [int(i) for i in date_string.split('-')]\n",
    "    return datetime(year=year, month=month, day=day)"
   ]
  },
  {
   "cell_type": "code",
   "execution_count": 5,
   "metadata": {},
   "outputs": [
    {
     "name": "stderr",
     "output_type": "stream",
     "text": [
      "C:\\Users\\jwnic\\anaconda3\\lib\\site-packages\\ta\\trend.py:769: RuntimeWarning: invalid value encountered in double_scalars\n",
      "  dip[idx] = 100 * (self._dip[idx] / value)\n",
      "C:\\Users\\jwnic\\anaconda3\\lib\\site-packages\\ta\\trend.py:774: RuntimeWarning: invalid value encountered in double_scalars\n",
      "  din[idx] = 100 * (self._din[idx] / value)\n"
     ]
    },
    {
     "name": "stdout",
     "output_type": "stream",
     "text": [
      "Number of Entries: 1260\n"
     ]
    },
    {
     "data": {
      "text/html": [
       "<div>\n",
       "<style scoped>\n",
       "    .dataframe tbody tr th:only-of-type {\n",
       "        vertical-align: middle;\n",
       "    }\n",
       "\n",
       "    .dataframe tbody tr th {\n",
       "        vertical-align: top;\n",
       "    }\n",
       "\n",
       "    .dataframe thead th {\n",
       "        text-align: right;\n",
       "    }\n",
       "</style>\n",
       "<table border=\"1\" class=\"dataframe\">\n",
       "  <thead>\n",
       "    <tr style=\"text-align: right;\">\n",
       "      <th></th>\n",
       "      <th>Date</th>\n",
       "      <th>High</th>\n",
       "      <th>Low</th>\n",
       "      <th>Open</th>\n",
       "      <th>Close</th>\n",
       "      <th>Volume</th>\n",
       "      <th>Adj Close</th>\n",
       "      <th>Year</th>\n",
       "      <th>Month</th>\n",
       "      <th>Week</th>\n",
       "      <th>...</th>\n",
       "      <th>momentum_ppo</th>\n",
       "      <th>momentum_ppo_signal</th>\n",
       "      <th>momentum_ppo_hist</th>\n",
       "      <th>momentum_pvo</th>\n",
       "      <th>momentum_pvo_signal</th>\n",
       "      <th>momentum_pvo_hist</th>\n",
       "      <th>momentum_kama</th>\n",
       "      <th>others_dr</th>\n",
       "      <th>others_dlr</th>\n",
       "      <th>others_cr</th>\n",
       "    </tr>\n",
       "    <tr>\n",
       "      <th>Date</th>\n",
       "      <th></th>\n",
       "      <th></th>\n",
       "      <th></th>\n",
       "      <th></th>\n",
       "      <th></th>\n",
       "      <th></th>\n",
       "      <th></th>\n",
       "      <th></th>\n",
       "      <th></th>\n",
       "      <th></th>\n",
       "      <th></th>\n",
       "      <th></th>\n",
       "      <th></th>\n",
       "      <th></th>\n",
       "      <th></th>\n",
       "      <th></th>\n",
       "      <th></th>\n",
       "      <th></th>\n",
       "      <th></th>\n",
       "      <th></th>\n",
       "      <th></th>\n",
       "    </tr>\n",
       "  </thead>\n",
       "  <tbody>\n",
       "    <tr>\n",
       "      <th>2017-04-28</th>\n",
       "      <td>2017-04-28</td>\n",
       "      <td>36.075001</td>\n",
       "      <td>35.817501</td>\n",
       "      <td>36.022499</td>\n",
       "      <td>35.912498</td>\n",
       "      <td>83441600.0</td>\n",
       "      <td>33.907143</td>\n",
       "      <td>2017</td>\n",
       "      <td>4</td>\n",
       "      <td>17</td>\n",
       "      <td>...</td>\n",
       "      <td>NaN</td>\n",
       "      <td>NaN</td>\n",
       "      <td>NaN</td>\n",
       "      <td>NaN</td>\n",
       "      <td>NaN</td>\n",
       "      <td>NaN</td>\n",
       "      <td>NaN</td>\n",
       "      <td>-56.906234</td>\n",
       "      <td>NaN</td>\n",
       "      <td>0.000000</td>\n",
       "    </tr>\n",
       "    <tr>\n",
       "      <th>2017-05-01</th>\n",
       "      <td>2017-05-01</td>\n",
       "      <td>36.799999</td>\n",
       "      <td>36.240002</td>\n",
       "      <td>36.275002</td>\n",
       "      <td>36.645000</td>\n",
       "      <td>134411600.0</td>\n",
       "      <td>34.598736</td>\n",
       "      <td>2017</td>\n",
       "      <td>5</td>\n",
       "      <td>18</td>\n",
       "      <td>...</td>\n",
       "      <td>NaN</td>\n",
       "      <td>NaN</td>\n",
       "      <td>NaN</td>\n",
       "      <td>NaN</td>\n",
       "      <td>NaN</td>\n",
       "      <td>NaN</td>\n",
       "      <td>NaN</td>\n",
       "      <td>2.039685</td>\n",
       "      <td>2.019162</td>\n",
       "      <td>2.039685</td>\n",
       "    </tr>\n",
       "    <tr>\n",
       "      <th>2017-05-02</th>\n",
       "      <td>2017-05-02</td>\n",
       "      <td>37.022499</td>\n",
       "      <td>36.709999</td>\n",
       "      <td>36.884998</td>\n",
       "      <td>36.877499</td>\n",
       "      <td>181408800.0</td>\n",
       "      <td>34.818253</td>\n",
       "      <td>2017</td>\n",
       "      <td>5</td>\n",
       "      <td>18</td>\n",
       "      <td>...</td>\n",
       "      <td>NaN</td>\n",
       "      <td>NaN</td>\n",
       "      <td>NaN</td>\n",
       "      <td>NaN</td>\n",
       "      <td>NaN</td>\n",
       "      <td>NaN</td>\n",
       "      <td>NaN</td>\n",
       "      <td>0.634461</td>\n",
       "      <td>0.632457</td>\n",
       "      <td>2.687087</td>\n",
       "    </tr>\n",
       "    <tr>\n",
       "      <th>2017-05-03</th>\n",
       "      <td>2017-05-03</td>\n",
       "      <td>36.872501</td>\n",
       "      <td>36.067501</td>\n",
       "      <td>36.397499</td>\n",
       "      <td>36.764999</td>\n",
       "      <td>182788000.0</td>\n",
       "      <td>34.712040</td>\n",
       "      <td>2017</td>\n",
       "      <td>5</td>\n",
       "      <td>18</td>\n",
       "      <td>...</td>\n",
       "      <td>NaN</td>\n",
       "      <td>NaN</td>\n",
       "      <td>NaN</td>\n",
       "      <td>NaN</td>\n",
       "      <td>NaN</td>\n",
       "      <td>NaN</td>\n",
       "      <td>NaN</td>\n",
       "      <td>-0.305062</td>\n",
       "      <td>-0.305528</td>\n",
       "      <td>2.373828</td>\n",
       "    </tr>\n",
       "    <tr>\n",
       "      <th>2017-05-04</th>\n",
       "      <td>2017-05-04</td>\n",
       "      <td>36.785000</td>\n",
       "      <td>36.452499</td>\n",
       "      <td>36.630001</td>\n",
       "      <td>36.632500</td>\n",
       "      <td>93487600.0</td>\n",
       "      <td>34.586937</td>\n",
       "      <td>2017</td>\n",
       "      <td>5</td>\n",
       "      <td>18</td>\n",
       "      <td>...</td>\n",
       "      <td>NaN</td>\n",
       "      <td>NaN</td>\n",
       "      <td>NaN</td>\n",
       "      <td>NaN</td>\n",
       "      <td>NaN</td>\n",
       "      <td>NaN</td>\n",
       "      <td>NaN</td>\n",
       "      <td>-0.360396</td>\n",
       "      <td>-0.361047</td>\n",
       "      <td>2.004876</td>\n",
       "    </tr>\n",
       "  </tbody>\n",
       "</table>\n",
       "<p>5 rows × 105 columns</p>\n",
       "</div>"
      ],
      "text/plain": [
       "                 Date       High        Low       Open      Close  \\\n",
       "Date                                                                \n",
       "2017-04-28 2017-04-28  36.075001  35.817501  36.022499  35.912498   \n",
       "2017-05-01 2017-05-01  36.799999  36.240002  36.275002  36.645000   \n",
       "2017-05-02 2017-05-02  37.022499  36.709999  36.884998  36.877499   \n",
       "2017-05-03 2017-05-03  36.872501  36.067501  36.397499  36.764999   \n",
       "2017-05-04 2017-05-04  36.785000  36.452499  36.630001  36.632500   \n",
       "\n",
       "                 Volume  Adj Close  Year  Month  Week  ...  momentum_ppo  \\\n",
       "Date                                                   ...                 \n",
       "2017-04-28   83441600.0  33.907143  2017      4    17  ...           NaN   \n",
       "2017-05-01  134411600.0  34.598736  2017      5    18  ...           NaN   \n",
       "2017-05-02  181408800.0  34.818253  2017      5    18  ...           NaN   \n",
       "2017-05-03  182788000.0  34.712040  2017      5    18  ...           NaN   \n",
       "2017-05-04   93487600.0  34.586937  2017      5    18  ...           NaN   \n",
       "\n",
       "            momentum_ppo_signal  momentum_ppo_hist  momentum_pvo  \\\n",
       "Date                                                               \n",
       "2017-04-28                  NaN                NaN           NaN   \n",
       "2017-05-01                  NaN                NaN           NaN   \n",
       "2017-05-02                  NaN                NaN           NaN   \n",
       "2017-05-03                  NaN                NaN           NaN   \n",
       "2017-05-04                  NaN                NaN           NaN   \n",
       "\n",
       "            momentum_pvo_signal  momentum_pvo_hist  momentum_kama  others_dr  \\\n",
       "Date                                                                           \n",
       "2017-04-28                  NaN                NaN            NaN -56.906234   \n",
       "2017-05-01                  NaN                NaN            NaN   2.039685   \n",
       "2017-05-02                  NaN                NaN            NaN   0.634461   \n",
       "2017-05-03                  NaN                NaN            NaN  -0.305062   \n",
       "2017-05-04                  NaN                NaN            NaN  -0.360396   \n",
       "\n",
       "            others_dlr  others_cr  \n",
       "Date                               \n",
       "2017-04-28         NaN   0.000000  \n",
       "2017-05-01    2.019162   2.039685  \n",
       "2017-05-02    0.632457   2.687087  \n",
       "2017-05-03   -0.305528   2.373828  \n",
       "2017-05-04   -0.361047   2.004876  \n",
       "\n",
       "[5 rows x 105 columns]"
      ]
     },
     "execution_count": 5,
     "metadata": {},
     "output_type": "execute_result"
    }
   ],
   "source": [
    "# df = pd.read_csv('final/Stock_Stalkers/data/AAPL_data.csv')\n",
    "df = pd.read_csv('data/AAPL_data.csv')\n",
    "df.dropna()\n",
    "\n",
    "df[\"Date\"]=pd.to_datetime(df.Date, format=\"%Y-%m-%d\")\n",
    "df.index=df['Date']\n",
    "data = df.sort_index(ascending=True, axis=0)\n",
    "add_datepart(df, 'Date', drop=False)\n",
    "df.drop('Elapsed', axis=1, inplace=True)\n",
    "\n",
    "df = add_all_ta_features(\n",
    "    df, high=\"High\", low=\"Low\", open=\"Open\", close=\"Close\", volume=\"Volume\")\n",
    "\n",
    "print(f'Number of Entries: {len(df)}')\n",
    "df.head()"
   ]
  },
  {
   "cell_type": "code",
   "execution_count": 6,
   "metadata": {},
   "outputs": [
    {
     "name": "stderr",
     "output_type": "stream",
     "text": [
      "C:\\Users\\jwnic\\anaconda3\\lib\\site-packages\\seaborn\\_decorators.py:36: FutureWarning: Pass the following variables as keyword args: x, y. From version 0.12, the only valid positional argument will be `data`, and passing other arguments without an explicit keyword will result in an error or misinterpretation.\n",
      "  warnings.warn(\n"
     ]
    },
    {
     "data": {
      "image/png": "[encoded data removed]",
      "text/plain": [
       "<Figure size 864x360 with 1 Axes>"
      ]
     },
     "metadata": {},
     "output_type": "display_data"
    }
   ],
   "source": [
    "plt.figure(figsize=[12., 5.])\n",
    "ax = sns.lineplot(df.index, df.Close, data=df)\n",
    "#ax.set_xlabel('months');"
   ]
  },
  {
   "cell_type": "code",
   "execution_count": 7,
   "metadata": {},
   "outputs": [],
   "source": [
    "# Select time frame\n",
    "# df = df[df['Date'] >= '2022-01-01']\n",
    "\n",
    "# Create y variable\n",
    "y = np.where(df['Close'].shift(-1) > df['Close'], 1, -1)\n",
    "\n",
    "# Select features \n",
    "selected_features = ['trend_sma_fast', 'trend_ema_fast', 'momentum_stoch_rsi_k', 'momentum_stoch_rsi_d', 'momentum_rsi', \\\n",
    "                    'trend_macd', 'momentum_wr', 'volume_adi', 'momentum_roc', 'volume_obv', \\\n",
    "                    'volatility_bbh', 'volatility_bbl']\n",
    "basic_features = ['High', 'Low', 'Open', 'Volume', 'Year', 'Month', 'Week', 'Day', 'Dayofweek']\n",
    "\n",
    "reduced_df = df[selected_features + basic_features]\n",
    "\n"
   ]
  },
  {
   "cell_type": "code",
   "execution_count": 8,
   "metadata": {},
   "outputs": [
    {
     "data": {
      "text/plain": [
       "TimeSeriesSplit(gap=0, max_train_size=None, n_splits=5, test_size=None)"
      ]
     },
     "execution_count": 8,
     "metadata": {},
     "output_type": "execute_result"
    }
   ],
   "source": [
    "tscv = TimeSeriesSplit(n_splits=5)\n",
    "tscv"
   ]
  },
  {
   "cell_type": "code",
   "execution_count": 9,
   "metadata": {},
   "outputs": [],
   "source": [
    "def convert_df(df):\n",
    "    '''\n",
    "    Converts the dataframe to the appropriate types.\n",
    "    '''\n",
    "    # Convert data to float32 for PyTorch\n",
    "    df = df.astype(np.float32)\n",
    "\n",
    "    # I'm going to convert this to train and test instead of train and valid.\n",
    "    # Train will include validation set through cross validation.\n",
    "\n",
    "    # Split training and validation data\n",
    "    split = int(0.8 * len(df))\n",
    "    x_train = df[:split].to_numpy() #.reshape(-1, 1)\n",
    "    x_test = df[split:].to_numpy() #.reshape(-1, 1)\n",
    "\n",
    "    y_train = y[:split].reshape(-1, 1)\n",
    "    y_test = y[split:].reshape(-1, 1)\n",
    "\n",
    "    # scale data: MOVED THIS TO HAPPEN WITHIN CROSS VALIDATION\n",
    "\n",
    "    # t_scaler = MinMaxScaler(feature_range=(-1, 1))\n",
    "    # v_scaler = MinMaxScaler(feature_range=(-1, 1))\n",
    "    # x_train = t_scaler.fit_transform(x_train)\n",
    "    # x_test = v_scaler.fit_transform(x_test)\n",
    "\n",
    "    # convert training data to tensor\n",
    "    x_train = torch.tensor(x_train, dtype=torch.float32)\n",
    "    x_test = torch.tensor(x_test, dtype=torch.float32)\n",
    "\n",
    "    y_train = torch.tensor(y_train, dtype=torch.float32)\n",
    "    y_test = torch.tensor(y_test, dtype=torch.float32)\n",
    "    \n",
    "    return x_train, y_train, x_test, y_test"
   ]
  },
  {
   "cell_type": "code",
   "execution_count": 10,
   "metadata": {},
   "outputs": [],
   "source": [
    "# Create training and validation set:\n",
    "x_train, y_train, x_test, y_test = convert_df(reduced_df)\n",
    "train_data = (x_train, y_train)\n",
    "test_data = (x_test, y_test)"
   ]
  },
  {
   "cell_type": "code",
   "execution_count": 11,
   "metadata": {},
   "outputs": [],
   "source": [
    "def get_batches(data, window):\n",
    "    \"\"\"\n",
    "    Takes data with shape (n_samples, n_features) and creates mini-batches\n",
    "    with shape (1, window). \n",
    "    \"\"\"\n",
    "    x_data, y_data = data\n",
    "    L = len(x_data)\n",
    "    for i in range(L - window):\n",
    "        x_sequence = x_data[i:i + window]\n",
    "        y_sequence = y_data[i:i + window]\n",
    "        yield x_sequence, y_sequence"
   ]
  },
  {
   "cell_type": "code",
   "execution_count": 12,
   "metadata": {},
   "outputs": [],
   "source": [
    "class stocksLSTM(nn.Module):\n",
    "    def __init__(self, input_size, hidden_size, num_layers, output_size, dropout_p):\n",
    "        super().__init__()\n",
    "        self.hidden_size = hidden_size\n",
    "        self.lstm = nn.LSTM(input_size, hidden_size, num_layers, batch_first=True, dropout=dropout_p)\n",
    "        self.fc   = nn.Linear(hidden_size, output_size)\n",
    "        \n",
    "    def forward(self, x, hs):\n",
    "   \n",
    "        out, hs = self.lstm(x, hs)           # out.shape = (batch_size, seq_len, hidden_size)\n",
    "        out = out.view(-1, self.hidden_size) # out.shape = (seq_len, hidden_size)     \n",
    "        out = self.fc(out)\n",
    "        \n",
    "        return out, hs"
   ]
  },
  {
   "cell_type": "code",
   "execution_count": 13,
   "metadata": {},
   "outputs": [],
   "source": [
    "def train(model, epochs, train_set, valid_data=None, lr=0.001, print_every=100):\n",
    "\n",
    "    criterion = nn.MSELoss()\n",
    "    opt = optim.Adam(model.parameters(), lr=lr)\n",
    "    \n",
    "    train_loss = []\n",
    "    valid_loss = []\n",
    "    \n",
    "    for e in range(epochs):\n",
    "        \n",
    "        hs = None\n",
    "        t_loss = 0\n",
    "        for x, y in get_batches(train_set, 12):\n",
    "\n",
    "            opt.zero_grad()\n",
    "            \n",
    "            # Create batch_size dimension\n",
    "            x = x.unsqueeze(0)\n",
    "            out, hs = model(x, hs)\n",
    "            hs = tuple([h.data for h in hs])\n",
    "            \n",
    "            loss = criterion(out, y)\n",
    "            loss.backward()\n",
    "            opt.step()\n",
    "            t_loss += loss.item()\n",
    "            \n",
    "        if valid_data is not None:\n",
    "                model.eval()\n",
    "                val_x, val_y = valid_data\n",
    "                val_x = val_x.unsqueeze(0)\n",
    "                preds, _ = model(val_x, hs)\n",
    "                v_loss = criterion(preds, val_y)\n",
    "                valid_loss.append(v_loss.item())\n",
    "                \n",
    "                model.train()\n",
    "            \n",
    "        train_loss.append(np.mean(t_loss))\n",
    "            \n",
    "        if print_every:    \n",
    "            if e % print_every == 0:\n",
    "                print(f'Epoch {e}:\\nTraining Loss: {train_loss[-1]}')\n",
    "                if valid_data is not None:\n",
    "                    print(f'Validation Loss: {valid_loss[-1]}')\n",
    "        \n",
    "    return train_loss, valid_loss\n",
    "    \n",
    "#     plt.figure(figsize=[8., 6.])\n",
    "#     plt.plot(train_loss, label='Training Loss')\n",
    "#     plt.plot(valid_loss, label='Validation Loss')\n",
    "#     plt.title('Loss vs Epochs')\n",
    "#     plt.xlabel('Epochs')\n",
    "#     plt.legend()\n",
    "#     plt.show()"
   ]
  },
  {
   "cell_type": "code",
   "execution_count": 14,
   "metadata": {},
   "outputs": [],
   "source": [
    "def train_cross_valid(model, epochs, lr, training_data):\n",
    "    train_losses = []\n",
    "    valid_losses = []\n",
    "    X_train, y_train = training_data\n",
    "    for train_index, validation_index in tscv.split(X_train):\n",
    "        # print(\"TRAIN:\", train_index, \"VALIDATION:\", validation_index)\n",
    "        # Split training and validation data\n",
    "        # split = int(0.8 * len(df))\n",
    "        # x_train = X_train[train_index].to_numpy() #.reshape(-1, 1)\n",
    "        # x_valid = X_train[validation_index].to_numpy() #.reshape(-1, 1)\n",
    "        x_train_fold = X_train[train_index]\n",
    "        x_valid_fold = X_train[validation_index]\n",
    "\n",
    "        y_train_fold = y[train_index].reshape(-1, 1)\n",
    "        y_valid_fold = y[validation_index].reshape(-1, 1)\n",
    "\n",
    "        # scale data\n",
    "        # t_scaler = MinMaxScaler(feature_range=(-1, 1))\n",
    "        # v_scaler = MinMaxScaler(feature_range=(-1, 1))\n",
    "        t_scaler = MinMaxScaler()\n",
    "        x_train_fold = t_scaler.fit_transform(x_train_fold)\n",
    "        x_valid_fold = t_scaler.transform(x_valid_fold)\n",
    "\n",
    "        # convert training data to tensor\n",
    "        x_train_fold = torch.tensor(x_train_fold, dtype=torch.float32)\n",
    "        x_valid_fold = torch.tensor(x_valid_fold, dtype=torch.float32)\n",
    "\n",
    "        y_train_fold = torch.tensor(y_train_fold, dtype=torch.float32)\n",
    "        y_valid_fold = torch.tensor(y_valid_fold, dtype=torch.float32)\n",
    "\n",
    "        # Create training and validation set:\n",
    "        train_data_fold = (x_train_fold, y_train_fold)\n",
    "        valid_data_fold = (x_valid_fold, y_valid_fold)\n",
    "        \n",
    "        train_loss, valid_loss = train(model, epochs, train_data_fold, valid_data=valid_data_fold, lr=lr, print_every=None)\n",
    "                #Only append losses from the last epoch\n",
    "        train_losses.append(train_loss[-1])\n",
    "        valid_losses.append(valid_loss[-1])\n",
    "\n",
    "    # Compute average loss of folds             \n",
    "    train_losses_avg = sum(train_losses) / len(train_losses)   \n",
    "    valid_losses_avg = sum(valid_losses) / len(valid_losses)  \n",
    "    return train_losses_avg, valid_losses_avg"
   ]
  },
  {
   "cell_type": "code",
   "execution_count": 15,
   "metadata": {},
   "outputs": [],
   "source": [
    "# Optuna objective function\n",
    "\n",
    "def objective(trial):\n",
    "\n",
    "    params = {\n",
    "              'learning_rate': trial.suggest_loguniform('learning_rate', 1e-5, 1e-1),\n",
    "              'hidden_size': trial.suggest_int('hidden_size', 40, 100, 20),\n",
    "              'num_layers': trial.suggest_int('num_layers', 2, 4),\n",
    "              'dropout_p': trial.suggest_float('dropout_p', 0.0, 0.2, step=0.1)\n",
    "              }\n",
    "    \n",
    "    input_size = x_train.size()[1]  # 21 in current implementation\n",
    "    hidden_size = 100\n",
    "    #num_layers = 1     # tuned by optuna\n",
    "    output_size = 1\n",
    "\n",
    "    model = stocksLSTM(input_size, params['hidden_size'], params['num_layers'], output_size, params['dropout_p'])\n",
    "    \n",
    "    train_losses_avg, valid_losses_avg = train_cross_valid(model, EPOCHS, params['learning_rate'], train_data)\n",
    "\n",
    "    return valid_losses_avg"
   ]
  },
  {
   "cell_type": "code",
   "execution_count": 16,
   "metadata": {},
   "outputs": [],
   "source": [
    "EPOCHS = 100"
   ]
  },
  {
   "cell_type": "code",
   "execution_count": 33,
   "metadata": {},
   "outputs": [
    {
     "name": "stderr",
     "output_type": "stream",
     "text": [
      "\u001b[32m[I 2022-06-01 08:28:51,062]\u001b[0m A new study created in memory with name: no-name-27c314f9-5591-4d79-82fe-d35acb0aeac7\u001b[0m\n",
      "\u001b[32m[I 2022-06-01 08:29:46,035]\u001b[0m Trial 0 finished with value: 1.2979333400726318 and parameters: {'learning_rate': 0.0007745853210869414, 'hidden_size': 40, 'num_layers': 3, 'dropout_p': 0.1}. Best is trial 0 with value: 1.2979333400726318.\u001b[0m\n",
      "\u001b[32m[I 2022-06-01 08:30:57,861]\u001b[0m Trial 1 finished with value: 1.1418940901756287 and parameters: {'learning_rate': 0.045260648621089986, 'hidden_size': 40, 'num_layers': 4, 'dropout_p': 0.0}. Best is trial 1 with value: 1.1418940901756287.\u001b[0m\n",
      "\u001b[32m[I 2022-06-01 08:31:35,270]\u001b[0m Trial 2 finished with value: 1.5682919025421143 and parameters: {'learning_rate': 0.00048734857585282617, 'hidden_size': 40, 'num_layers': 2, 'dropout_p': 0.0}. Best is trial 1 with value: 1.1418940901756287.\u001b[0m\n",
      "\u001b[32m[I 2022-06-01 08:32:47,017]\u001b[0m Trial 3 finished with value: 1.3177677154541017 and parameters: {'learning_rate': 0.00013268203064741737, 'hidden_size': 40, 'num_layers': 4, 'dropout_p': 0.0}. Best is trial 1 with value: 1.1418940901756287.\u001b[0m\n",
      "\u001b[32m[I 2022-06-01 08:34:01,834]\u001b[0m Trial 4 finished with value: 1.6674360752105712 and parameters: {'learning_rate': 0.004500134171742812, 'hidden_size': 40, 'num_layers': 4, 'dropout_p': 0.1}. Best is trial 1 with value: 1.1418940901756287.\u001b[0m\n"
     ]
    }
   ],
   "source": [
    "study = optuna.create_study(direction=\"minimize\", sampler=optuna.samplers.TPESampler())\n",
    "study.optimize(objective, n_trials=5)"
   ]
  },
  {
   "cell_type": "code",
   "execution_count": 34,
   "metadata": {},
   "outputs": [
    {
     "name": "stdout",
     "output_type": "stream",
     "text": [
      "learning_rate: 0.045260648621089986\n",
      "hidden_size: 40\n",
      "num_layers: 4\n",
      "dropout_p: 0.0\n"
     ]
    }
   ],
   "source": [
    "best_trial = study.best_trial\n",
    "\n",
    "for key, value in best_trial.params.items():\n",
    "    print(\"{}: {}\".format(key, value))"
   ]
  },
  {
   "cell_type": "code",
   "execution_count": 35,
   "metadata": {},
   "outputs": [
    {
     "data": {
      "application/vnd.plotly.v1+json": {
       "config": {
        "plotlyServerURL": "https://plot.ly"
       },
       "data": [
        {
         "mode": "markers",
         "name": "Objective Value",
         "type": "scatter",
         "x": [
          0,
          1,
          2,
          3,
          4
         ],
         "y": [
          1.2979333400726318,
          1.1418940901756287,
          1.5682919025421143,
          1.3177677154541017,
          1.6674360752105712
         ]
        },
        {
         "name": "Best Value",
         "type": "scatter",
         "x": [
          0,
          1,
          2,
          3,
          4
         ],
         "y": [
          1.2979333400726318,
          1.1418940901756287,
          1.1418940901756287,
          1.1418940901756287,
          1.1418940901756287
         ]
        }
       ],
       "layout": {
        "template": {
         "data": {
          "bar": [
           {
            "error_x": {
             "color": "#2a3f5f"
            },
            "error_y": {
             "color": "#2a3f5f"
            },
            "marker": {
             "line": {
              "color": "#E5ECF6",
              "width": 0.5
             },
             "pattern": {
              "fillmode": "overlay",
              "size": 10,
              "solidity": 0.2
             }
            },
            "type": "bar"
           }
          ],
          "barpolar": [
           {
            "marker": {
             "line": {
              "color": "#E5ECF6",
              "width": 0.5
             },
             "pattern": {
              "fillmode": "overlay",
              "size": 10,
              "solidity": 0.2
             }
            },
            "type": "barpolar"
           }
          ],
          "carpet": [
           {
            "aaxis": {
             "endlinecolor": "#2a3f5f",
             "gridcolor": "white",
             "linecolor": "white",
             "minorgridcolor": "white",
             "startlinecolor": "#2a3f5f"
            },
            "baxis": {
             "endlinecolor": "#2a3f5f",
             "gridcolor": "white",
             "linecolor": "white",
             "minorgridcolor": "white",
             "startlinecolor": "#2a3f5f"
            },
            "type": "carpet"
           }
          ],
          "choropleth": [
           {
            "colorbar": {
             "outlinewidth": 0,
             "ticks": ""
            },
            "type": "choropleth"
           }
          ],
          "contour": [
           {
            "colorbar": {
             "outlinewidth": 0,
             "ticks": ""
            },
            "colorscale": [
             [
              0,
              "#0d0887"
             ],
             [
              0.1111111111111111,
              "#46039f"
             ],
             [
              0.2222222222222222,
              "#7201a8"
             ],
             [
              0.3333333333333333,
              "#9c179e"
             ],
             [
              0.4444444444444444,
              "#bd3786"
             ],
             [
              0.5555555555555556,
              "#d8576b"
             ],
             [
              0.6666666666666666,
              "#ed7953"
             ],
             [
              0.7777777777777778,
              "#fb9f3a"
             ],
             [
              0.8888888888888888,
              "#fdca26"
             ],
             [
              1,
              "#f0f921"
             ]
            ],
            "type": "contour"
           }
          ],
          "contourcarpet": [
           {
            "colorbar": {
             "outlinewidth": 0,
             "ticks": ""
            },
            "type": "contourcarpet"
           }
          ],
          "heatmap": [
           {
            "colorbar": {
             "outlinewidth": 0,
             "ticks": ""
            },
            "colorscale": [
             [
              0,
              "#0d0887"
             ],
             [
              0.1111111111111111,
              "#46039f"
             ],
             [
              0.2222222222222222,
              "#7201a8"
             ],
             [
              0.3333333333333333,
              "#9c179e"
             ],
             [
              0.4444444444444444,
              "#bd3786"
             ],
             [
              0.5555555555555556,
              "#d8576b"
             ],
             [
              0.6666666666666666,
              "#ed7953"
             ],
             [
              0.7777777777777778,
              "#fb9f3a"
             ],
             [
              0.8888888888888888,
              "#fdca26"
             ],
             [
              1,
              "#f0f921"
             ]
            ],
            "type": "heatmap"
           }
          ],
          "heatmapgl": [
           {
            "colorbar": {
             "outlinewidth": 0,
             "ticks": ""
            },
            "colorscale": [
             [
              0,
              "#0d0887"
             ],
             [
              0.1111111111111111,
              "#46039f"
             ],
             [
              0.2222222222222222,
              "#7201a8"
             ],
             [
              0.3333333333333333,
              "#9c179e"
             ],
             [
              0.4444444444444444,
              "#bd3786"
             ],
             [
              0.5555555555555556,
              "#d8576b"
             ],
             [
              0.6666666666666666,
              "#ed7953"
             ],
             [
              0.7777777777777778,
              "#fb9f3a"
             ],
             [
              0.8888888888888888,
              "#fdca26"
             ],
             [
              1,
              "#f0f921"
             ]
            ],
            "type": "heatmapgl"
           }
          ],
          "histogram": [
           {
            "marker": {
             "pattern": {
              "fillmode": "overlay",
              "size": 10,
              "solidity": 0.2
             }
            },
            "type": "histogram"
           }
          ],
          "histogram2d": [
           {
            "colorbar": {
             "outlinewidth": 0,
             "ticks": ""
            },
            "colorscale": [
             [
              0,
              "#0d0887"
             ],
             [
              0.1111111111111111,
              "#46039f"
             ],
             [
              0.2222222222222222,
              "#7201a8"
             ],
             [
              0.3333333333333333,
              "#9c179e"
             ],
             [
              0.4444444444444444,
              "#bd3786"
             ],
             [
              0.5555555555555556,
              "#d8576b"
             ],
             [
              0.6666666666666666,
              "#ed7953"
             ],
             [
              0.7777777777777778,
              "#fb9f3a"
             ],
             [
              0.8888888888888888,
              "#fdca26"
             ],
             [
              1,
              "#f0f921"
             ]
            ],
            "type": "histogram2d"
           }
          ],
          "histogram2dcontour": [
           {
            "colorbar": {
             "outlinewidth": 0,
             "ticks": ""
            },
            "colorscale": [
             [
              0,
              "#0d0887"
             ],
             [
              0.1111111111111111,
              "#46039f"
             ],
             [
              0.2222222222222222,
              "#7201a8"
             ],
             [
              0.3333333333333333,
              "#9c179e"
             ],
             [
              0.4444444444444444,
              "#bd3786"
             ],
             [
              0.5555555555555556,
              "#d8576b"
             ],
             [
              0.6666666666666666,
              "#ed7953"
             ],
             [
              0.7777777777777778,
              "#fb9f3a"
             ],
             [
              0.8888888888888888,
              "#fdca26"
             ],
             [
              1,
              "#f0f921"
             ]
            ],
            "type": "histogram2dcontour"
           }
          ],
          "mesh3d": [
           {
            "colorbar": {
             "outlinewidth": 0,
             "ticks": ""
            },
            "type": "mesh3d"
           }
          ],
          "parcoords": [
           {
            "line": {
             "colorbar": {
              "outlinewidth": 0,
              "ticks": ""
             }
            },
            "type": "parcoords"
           }
          ],
          "pie": [
           {
            "automargin": true,
            "type": "pie"
           }
          ],
          "scatter": [
           {
            "marker": {
             "colorbar": {
              "outlinewidth": 0,
              "ticks": ""
             }
            },
            "type": "scatter"
           }
          ],
          "scatter3d": [
           {
            "line": {
             "colorbar": {
              "outlinewidth": 0,
              "ticks": ""
             }
            },
            "marker": {
             "colorbar": {
              "outlinewidth": 0,
              "ticks": ""
             }
            },
            "type": "scatter3d"
           }
          ],
          "scattercarpet": [
           {
            "marker": {
             "colorbar": {
              "outlinewidth": 0,
              "ticks": ""
             }
            },
            "type": "scattercarpet"
           }
          ],
          "scattergeo": [
           {
            "marker": {
             "colorbar": {
              "outlinewidth": 0,
              "ticks": ""
             }
            },
            "type": "scattergeo"
           }
          ],
          "scattergl": [
           {
            "marker": {
             "colorbar": {
              "outlinewidth": 0,
              "ticks": ""
             }
            },
            "type": "scattergl"
           }
          ],
          "scattermapbox": [
           {
            "marker": {
             "colorbar": {
              "outlinewidth": 0,
              "ticks": ""
             }
            },
            "type": "scattermapbox"
           }
          ],
          "scatterpolar": [
           {
            "marker": {
             "colorbar": {
              "outlinewidth": 0,
              "ticks": ""
             }
            },
            "type": "scatterpolar"
           }
          ],
          "scatterpolargl": [
           {
            "marker": {
             "colorbar": {
              "outlinewidth": 0,
              "ticks": ""
             }
            },
            "type": "scatterpolargl"
           }
          ],
          "scatterternary": [
           {
            "marker": {
             "colorbar": {
              "outlinewidth": 0,
              "ticks": ""
             }
            },
            "type": "scatterternary"
           }
          ],
          "surface": [
           {
            "colorbar": {
             "outlinewidth": 0,
             "ticks": ""
            },
            "colorscale": [
             [
              0,
              "#0d0887"
             ],
             [
              0.1111111111111111,
              "#46039f"
             ],
             [
              0.2222222222222222,
              "#7201a8"
             ],
             [
              0.3333333333333333,
              "#9c179e"
             ],
             [
              0.4444444444444444,
              "#bd3786"
             ],
             [
              0.5555555555555556,
              "#d8576b"
             ],
             [
              0.6666666666666666,
              "#ed7953"
             ],
             [
              0.7777777777777778,
              "#fb9f3a"
             ],
             [
              0.8888888888888888,
              "#fdca26"
             ],
             [
              1,
              "#f0f921"
             ]
            ],
            "type": "surface"
           }
          ],
          "table": [
           {
            "cells": {
             "fill": {
              "color": "#EBF0F8"
             },
             "line": {
              "color": "white"
             }
            },
            "header": {
             "fill": {
              "color": "#C8D4E3"
             },
             "line": {
              "color": "white"
             }
            },
            "type": "table"
           }
          ]
         },
         "layout": {
          "annotationdefaults": {
           "arrowcolor": "#2a3f5f",
           "arrowhead": 0,
           "arrowwidth": 1
          },
          "autotypenumbers": "strict",
          "coloraxis": {
           "colorbar": {
            "outlinewidth": 0,
            "ticks": ""
           }
          },
          "colorscale": {
           "diverging": [
            [
             0,
             "#8e0152"
            ],
            [
             0.1,
             "#c51b7d"
            ],
            [
             0.2,
             "#de77ae"
            ],
            [
             0.3,
             "#f1b6da"
            ],
            [
             0.4,
             "#fde0ef"
            ],
            [
             0.5,
             "#f7f7f7"
            ],
            [
             0.6,
             "#e6f5d0"
            ],
            [
             0.7,
             "#b8e186"
            ],
            [
             0.8,
             "#7fbc41"
            ],
            [
             0.9,
             "#4d9221"
            ],
            [
             1,
             "#276419"
            ]
           ],
           "sequential": [
            [
             0,
             "#0d0887"
            ],
            [
             0.1111111111111111,
             "#46039f"
            ],
            [
             0.2222222222222222,
             "#7201a8"
            ],
            [
             0.3333333333333333,
             "#9c179e"
            ],
            [
             0.4444444444444444,
             "#bd3786"
            ],
            [
             0.5555555555555556,
             "#d8576b"
            ],
            [
             0.6666666666666666,
             "#ed7953"
            ],
            [
             0.7777777777777778,
             "#fb9f3a"
            ],
            [
             0.8888888888888888,
             "#fdca26"
            ],
            [
             1,
             "#f0f921"
            ]
           ],
           "sequentialminus": [
            [
             0,
             "#0d0887"
            ],
            [
             0.1111111111111111,
             "#46039f"
            ],
            [
             0.2222222222222222,
             "#7201a8"
            ],
            [
             0.3333333333333333,
             "#9c179e"
            ],
            [
             0.4444444444444444,
             "#bd3786"
            ],
            [
             0.5555555555555556,
             "#d8576b"
            ],
            [
             0.6666666666666666,
             "#ed7953"
            ],
            [
             0.7777777777777778,
             "#fb9f3a"
            ],
            [
             0.8888888888888888,
             "#fdca26"
            ],
            [
             1,
             "#f0f921"
            ]
           ]
          },
          "colorway": [
           "#636efa",
           "#EF553B",
           "#00cc96",
           "#ab63fa",
           "#FFA15A",
           "#19d3f3",
           "#FF6692",
           "#B6E880",
           "#FF97FF",
           "#FECB52"
          ],
          "font": {
           "color": "#2a3f5f"
          },
          "geo": {
           "bgcolor": "white",
           "lakecolor": "white",
           "landcolor": "#E5ECF6",
           "showlakes": true,
           "showland": true,
           "subunitcolor": "white"
          },
          "hoverlabel": {
           "align": "left"
          },
          "hovermode": "closest",
          "mapbox": {
           "style": "light"
          },
          "paper_bgcolor": "white",
          "plot_bgcolor": "#E5ECF6",
          "polar": {
           "angularaxis": {
            "gridcolor": "white",
            "linecolor": "white",
            "ticks": ""
           },
           "bgcolor": "#E5ECF6",
           "radialaxis": {
            "gridcolor": "white",
            "linecolor": "white",
            "ticks": ""
           }
          },
          "scene": {
           "xaxis": {
            "backgroundcolor": "#E5ECF6",
            "gridcolor": "white",
            "gridwidth": 2,
            "linecolor": "white",
            "showbackground": true,
            "ticks": "",
            "zerolinecolor": "white"
           },
           "yaxis": {
            "backgroundcolor": "#E5ECF6",
            "gridcolor": "white",
            "gridwidth": 2,
            "linecolor": "white",
            "showbackground": true,
            "ticks": "",
            "zerolinecolor": "white"
           },
           "zaxis": {
            "backgroundcolor": "#E5ECF6",
            "gridcolor": "white",
            "gridwidth": 2,
            "linecolor": "white",
            "showbackground": true,
            "ticks": "",
            "zerolinecolor": "white"
           }
          },
          "shapedefaults": {
           "line": {
            "color": "#2a3f5f"
           }
          },
          "ternary": {
           "aaxis": {
            "gridcolor": "white",
            "linecolor": "white",
            "ticks": ""
           },
           "baxis": {
            "gridcolor": "white",
            "linecolor": "white",
            "ticks": ""
           },
           "bgcolor": "#E5ECF6",
           "caxis": {
            "gridcolor": "white",
            "linecolor": "white",
            "ticks": ""
           }
          },
          "title": {
           "x": 0.05
          },
          "xaxis": {
           "automargin": true,
           "gridcolor": "white",
           "linecolor": "white",
           "ticks": "",
           "title": {
            "standoff": 15
           },
           "zerolinecolor": "white",
           "zerolinewidth": 2
          },
          "yaxis": {
           "automargin": true,
           "gridcolor": "white",
           "linecolor": "white",
           "ticks": "",
           "title": {
            "standoff": 15
           },
           "zerolinecolor": "white",
           "zerolinewidth": 2
          }
         }
        },
        "title": {
         "text": "Optimization History Plot"
        },
        "xaxis": {
         "title": {
          "text": "#Trials"
         }
        },
        "yaxis": {
         "title": {
          "text": "Objective Value"
         }
        }
       }
      }
     },
     "metadata": {},
     "output_type": "display_data"
    }
   ],
   "source": [
    "optuna.visualization.plot_optimization_history(study)\n",
    "\n",
    "# Other possible visuzlizations\n",
    "#optuna.visualization.plot_slice(study) \n",
    "#optuna.visualization.plot_parallel_coordinate(study)"
   ]
  },
  {
   "cell_type": "code",
   "execution_count": 36,
   "metadata": {},
   "outputs": [
    {
     "data": {
      "application/vnd.plotly.v1+json": {
       "config": {
        "plotlyServerURL": "https://plot.ly"
       },
       "data": [
        {
         "cliponaxis": false,
         "hovertemplate": [
          "hidden_size (IntUniformDistribution): 0.0<extra></extra>",
          "dropout_p (DiscreteUniformDistribution): 0.14069652802131807<extra></extra>",
          "num_layers (IntUniformDistribution): 0.3732403503167952<extra></extra>",
          "learning_rate (LogUniformDistribution): 0.4860631216618868<extra></extra>"
         ],
         "marker": {
          "color": "rgb(66,146,198)"
         },
         "orientation": "h",
         "text": [
          "0.0",
          "0.14069652802131807",
          "0.3732403503167952",
          "0.4860631216618868"
         ],
         "textposition": "outside",
         "texttemplate": "%{text:.2f}",
         "type": "bar",
         "x": [
          0,
          0.14069652802131807,
          0.3732403503167952,
          0.4860631216618868
         ],
         "y": [
          "hidden_size",
          "dropout_p",
          "num_layers",
          "learning_rate"
         ]
        }
       ],
       "layout": {
        "showlegend": false,
        "template": {
         "data": {
          "bar": [
           {
            "error_x": {
             "color": "#2a3f5f"
            },
            "error_y": {
             "color": "#2a3f5f"
            },
            "marker": {
             "line": {
              "color": "#E5ECF6",
              "width": 0.5
             },
             "pattern": {
              "fillmode": "overlay",
              "size": 10,
              "solidity": 0.2
             }
            },
            "type": "bar"
           }
          ],
          "barpolar": [
           {
            "marker": {
             "line": {
              "color": "#E5ECF6",
              "width": 0.5
             },
             "pattern": {
              "fillmode": "overlay",
              "size": 10,
              "solidity": 0.2
             }
            },
            "type": "barpolar"
           }
          ],
          "carpet": [
           {
            "aaxis": {
             "endlinecolor": "#2a3f5f",
             "gridcolor": "white",
             "linecolor": "white",
             "minorgridcolor": "white",
             "startlinecolor": "#2a3f5f"
            },
            "baxis": {
             "endlinecolor": "#2a3f5f",
             "gridcolor": "white",
             "linecolor": "white",
             "minorgridcolor": "white",
             "startlinecolor": "#2a3f5f"
            },
            "type": "carpet"
           }
          ],
          "choropleth": [
           {
            "colorbar": {
             "outlinewidth": 0,
             "ticks": ""
            },
            "type": "choropleth"
           }
          ],
          "contour": [
           {
            "colorbar": {
             "outlinewidth": 0,
             "ticks": ""
            },
            "colorscale": [
             [
              0,
              "#0d0887"
             ],
             [
              0.1111111111111111,
              "#46039f"
             ],
             [
              0.2222222222222222,
              "#7201a8"
             ],
             [
              0.3333333333333333,
              "#9c179e"
             ],
             [
              0.4444444444444444,
              "#bd3786"
             ],
             [
              0.5555555555555556,
              "#d8576b"
             ],
             [
              0.6666666666666666,
              "#ed7953"
             ],
             [
              0.7777777777777778,
              "#fb9f3a"
             ],
             [
              0.8888888888888888,
              "#fdca26"
             ],
             [
              1,
              "#f0f921"
             ]
            ],
            "type": "contour"
           }
          ],
          "contourcarpet": [
           {
            "colorbar": {
             "outlinewidth": 0,
             "ticks": ""
            },
            "type": "contourcarpet"
           }
          ],
          "heatmap": [
           {
            "colorbar": {
             "outlinewidth": 0,
             "ticks": ""
            },
            "colorscale": [
             [
              0,
              "#0d0887"
             ],
             [
              0.1111111111111111,
              "#46039f"
             ],
             [
              0.2222222222222222,
              "#7201a8"
             ],
             [
              0.3333333333333333,
              "#9c179e"
             ],
             [
              0.4444444444444444,
              "#bd3786"
             ],
             [
              0.5555555555555556,
              "#d8576b"
             ],
             [
              0.6666666666666666,
              "#ed7953"
             ],
             [
              0.7777777777777778,
              "#fb9f3a"
             ],
             [
              0.8888888888888888,
              "#fdca26"
             ],
             [
              1,
              "#f0f921"
             ]
            ],
            "type": "heatmap"
           }
          ],
          "heatmapgl": [
           {
            "colorbar": {
             "outlinewidth": 0,
             "ticks": ""
            },
            "colorscale": [
             [
              0,
              "#0d0887"
             ],
             [
              0.1111111111111111,
              "#46039f"
             ],
             [
              0.2222222222222222,
              "#7201a8"
             ],
             [
              0.3333333333333333,
              "#9c179e"
             ],
             [
              0.4444444444444444,
              "#bd3786"
             ],
             [
              0.5555555555555556,
              "#d8576b"
             ],
             [
              0.6666666666666666,
              "#ed7953"
             ],
             [
              0.7777777777777778,
              "#fb9f3a"
             ],
             [
              0.8888888888888888,
              "#fdca26"
             ],
             [
              1,
              "#f0f921"
             ]
            ],
            "type": "heatmapgl"
           }
          ],
          "histogram": [
           {
            "marker": {
             "pattern": {
              "fillmode": "overlay",
              "size": 10,
              "solidity": 0.2
             }
            },
            "type": "histogram"
           }
          ],
          "histogram2d": [
           {
            "colorbar": {
             "outlinewidth": 0,
             "ticks": ""
            },
            "colorscale": [
             [
              0,
              "#0d0887"
             ],
             [
              0.1111111111111111,
              "#46039f"
             ],
             [
              0.2222222222222222,
              "#7201a8"
             ],
             [
              0.3333333333333333,
              "#9c179e"
             ],
             [
              0.4444444444444444,
              "#bd3786"
             ],
             [
              0.5555555555555556,
              "#d8576b"
             ],
             [
              0.6666666666666666,
              "#ed7953"
             ],
             [
              0.7777777777777778,
              "#fb9f3a"
             ],
             [
              0.8888888888888888,
              "#fdca26"
             ],
             [
              1,
              "#f0f921"
             ]
            ],
            "type": "histogram2d"
           }
          ],
          "histogram2dcontour": [
           {
            "colorbar": {
             "outlinewidth": 0,
             "ticks": ""
            },
            "colorscale": [
             [
              0,
              "#0d0887"
             ],
             [
              0.1111111111111111,
              "#46039f"
             ],
             [
              0.2222222222222222,
              "#7201a8"
             ],
             [
              0.3333333333333333,
              "#9c179e"
             ],
             [
              0.4444444444444444,
              "#bd3786"
             ],
             [
              0.5555555555555556,
              "#d8576b"
             ],
             [
              0.6666666666666666,
              "#ed7953"
             ],
             [
              0.7777777777777778,
              "#fb9f3a"
             ],
             [
              0.8888888888888888,
              "#fdca26"
             ],
             [
              1,
              "#f0f921"
             ]
            ],
            "type": "histogram2dcontour"
           }
          ],
          "mesh3d": [
           {
            "colorbar": {
             "outlinewidth": 0,
             "ticks": ""
            },
            "type": "mesh3d"
           }
          ],
          "parcoords": [
           {
            "line": {
             "colorbar": {
              "outlinewidth": 0,
              "ticks": ""
             }
            },
            "type": "parcoords"
           }
          ],
          "pie": [
           {
            "automargin": true,
            "type": "pie"
           }
          ],
          "scatter": [
           {
            "marker": {
             "colorbar": {
              "outlinewidth": 0,
              "ticks": ""
             }
            },
            "type": "scatter"
           }
          ],
          "scatter3d": [
           {
            "line": {
             "colorbar": {
              "outlinewidth": 0,
              "ticks": ""
             }
            },
            "marker": {
             "colorbar": {
              "outlinewidth": 0,
              "ticks": ""
             }
            },
            "type": "scatter3d"
           }
          ],
          "scattercarpet": [
           {
            "marker": {
             "colorbar": {
              "outlinewidth": 0,
              "ticks": ""
             }
            },
            "type": "scattercarpet"
           }
          ],
          "scattergeo": [
           {
            "marker": {
             "colorbar": {
              "outlinewidth": 0,
              "ticks": ""
             }
            },
            "type": "scattergeo"
           }
          ],
          "scattergl": [
           {
            "marker": {
             "colorbar": {
              "outlinewidth": 0,
              "ticks": ""
             }
            },
            "type": "scattergl"
           }
          ],
          "scattermapbox": [
           {
            "marker": {
             "colorbar": {
              "outlinewidth": 0,
              "ticks": ""
             }
            },
            "type": "scattermapbox"
           }
          ],
          "scatterpolar": [
           {
            "marker": {
             "colorbar": {
              "outlinewidth": 0,
              "ticks": ""
             }
            },
            "type": "scatterpolar"
           }
          ],
          "scatterpolargl": [
           {
            "marker": {
             "colorbar": {
              "outlinewidth": 0,
              "ticks": ""
             }
            },
            "type": "scatterpolargl"
           }
          ],
          "scatterternary": [
           {
            "marker": {
             "colorbar": {
              "outlinewidth": 0,
              "ticks": ""
             }
            },
            "type": "scatterternary"
           }
          ],
          "surface": [
           {
            "colorbar": {
             "outlinewidth": 0,
             "ticks": ""
            },
            "colorscale": [
             [
              0,
              "#0d0887"
             ],
             [
              0.1111111111111111,
              "#46039f"
             ],
             [
              0.2222222222222222,
              "#7201a8"
             ],
             [
              0.3333333333333333,
              "#9c179e"
             ],
             [
              0.4444444444444444,
              "#bd3786"
             ],
             [
              0.5555555555555556,
              "#d8576b"
             ],
             [
              0.6666666666666666,
              "#ed7953"
             ],
             [
              0.7777777777777778,
              "#fb9f3a"
             ],
             [
              0.8888888888888888,
              "#fdca26"
             ],
             [
              1,
              "#f0f921"
             ]
            ],
            "type": "surface"
           }
          ],
          "table": [
           {
            "cells": {
             "fill": {
              "color": "#EBF0F8"
             },
             "line": {
              "color": "white"
             }
            },
            "header": {
             "fill": {
              "color": "#C8D4E3"
             },
             "line": {
              "color": "white"
             }
            },
            "type": "table"
           }
          ]
         },
         "layout": {
          "annotationdefaults": {
           "arrowcolor": "#2a3f5f",
           "arrowhead": 0,
           "arrowwidth": 1
          },
          "autotypenumbers": "strict",
          "coloraxis": {
           "colorbar": {
            "outlinewidth": 0,
            "ticks": ""
           }
          },
          "colorscale": {
           "diverging": [
            [
             0,
             "#8e0152"
            ],
            [
             0.1,
             "#c51b7d"
            ],
            [
             0.2,
             "#de77ae"
            ],
            [
             0.3,
             "#f1b6da"
            ],
            [
             0.4,
             "#fde0ef"
            ],
            [
             0.5,
             "#f7f7f7"
            ],
            [
             0.6,
             "#e6f5d0"
            ],
            [
             0.7,
             "#b8e186"
            ],
            [
             0.8,
             "#7fbc41"
            ],
            [
             0.9,
             "#4d9221"
            ],
            [
             1,
             "#276419"
            ]
           ],
           "sequential": [
            [
             0,
             "#0d0887"
            ],
            [
             0.1111111111111111,
             "#46039f"
            ],
            [
             0.2222222222222222,
             "#7201a8"
            ],
            [
             0.3333333333333333,
             "#9c179e"
            ],
            [
             0.4444444444444444,
             "#bd3786"
            ],
            [
             0.5555555555555556,
             "#d8576b"
            ],
            [
             0.6666666666666666,
             "#ed7953"
            ],
            [
             0.7777777777777778,
             "#fb9f3a"
            ],
            [
             0.8888888888888888,
             "#fdca26"
            ],
            [
             1,
             "#f0f921"
            ]
           ],
           "sequentialminus": [
            [
             0,
             "#0d0887"
            ],
            [
             0.1111111111111111,
             "#46039f"
            ],
            [
             0.2222222222222222,
             "#7201a8"
            ],
            [
             0.3333333333333333,
             "#9c179e"
            ],
            [
             0.4444444444444444,
             "#bd3786"
            ],
            [
             0.5555555555555556,
             "#d8576b"
            ],
            [
             0.6666666666666666,
             "#ed7953"
            ],
            [
             0.7777777777777778,
             "#fb9f3a"
            ],
            [
             0.8888888888888888,
             "#fdca26"
            ],
            [
             1,
             "#f0f921"
            ]
           ]
          },
          "colorway": [
           "#636efa",
           "#EF553B",
           "#00cc96",
           "#ab63fa",
           "#FFA15A",
           "#19d3f3",
           "#FF6692",
           "#B6E880",
           "#FF97FF",
           "#FECB52"
          ],
          "font": {
           "color": "#2a3f5f"
          },
          "geo": {
           "bgcolor": "white",
           "lakecolor": "white",
           "landcolor": "#E5ECF6",
           "showlakes": true,
           "showland": true,
           "subunitcolor": "white"
          },
          "hoverlabel": {
           "align": "left"
          },
          "hovermode": "closest",
          "mapbox": {
           "style": "light"
          },
          "paper_bgcolor": "white",
          "plot_bgcolor": "#E5ECF6",
          "polar": {
           "angularaxis": {
            "gridcolor": "white",
            "linecolor": "white",
            "ticks": ""
           },
           "bgcolor": "#E5ECF6",
           "radialaxis": {
            "gridcolor": "white",
            "linecolor": "white",
            "ticks": ""
           }
          },
          "scene": {
           "xaxis": {
            "backgroundcolor": "#E5ECF6",
            "gridcolor": "white",
            "gridwidth": 2,
            "linecolor": "white",
            "showbackground": true,
            "ticks": "",
            "zerolinecolor": "white"
           },
           "yaxis": {
            "backgroundcolor": "#E5ECF6",
            "gridcolor": "white",
            "gridwidth": 2,
            "linecolor": "white",
            "showbackground": true,
            "ticks": "",
            "zerolinecolor": "white"
           },
           "zaxis": {
            "backgroundcolor": "#E5ECF6",
            "gridcolor": "white",
            "gridwidth": 2,
            "linecolor": "white",
            "showbackground": true,
            "ticks": "",
            "zerolinecolor": "white"
           }
          },
          "shapedefaults": {
           "line": {
            "color": "#2a3f5f"
           }
          },
          "ternary": {
           "aaxis": {
            "gridcolor": "white",
            "linecolor": "white",
            "ticks": ""
           },
           "baxis": {
            "gridcolor": "white",
            "linecolor": "white",
            "ticks": ""
           },
           "bgcolor": "#E5ECF6",
           "caxis": {
            "gridcolor": "white",
            "linecolor": "white",
            "ticks": ""
           }
          },
          "title": {
           "x": 0.05
          },
          "xaxis": {
           "automargin": true,
           "gridcolor": "white",
           "linecolor": "white",
           "ticks": "",
           "title": {
            "standoff": 15
           },
           "zerolinecolor": "white",
           "zerolinewidth": 2
          },
          "yaxis": {
           "automargin": true,
           "gridcolor": "white",
           "linecolor": "white",
           "ticks": "",
           "title": {
            "standoff": 15
           },
           "zerolinecolor": "white",
           "zerolinewidth": 2
          }
         }
        },
        "title": {
         "text": "Hyperparameter Importances"
        },
        "xaxis": {
         "title": {
          "text": "Importance for Objective Value"
         }
        },
        "yaxis": {
         "title": {
          "text": "Hyperparameter"
         }
        }
       }
      }
     },
     "metadata": {},
     "output_type": "display_data"
    }
   ],
   "source": [
    "# THIS IS TO COMPARE HP IMPORTANCE. IMPLEMENT WHEN WE OPTIMIZE MORE THAN 1 HP\n",
    "optuna.visualization.plot_param_importances(study)\n"
   ]
  },
  {
   "cell_type": "code",
   "execution_count": 81,
   "metadata": {},
   "outputs": [],
   "source": [
    "def optimize_hyperparameters(df):\n",
    "    '''\n",
    "    Find the optimal hyperparameters given the training data.\n",
    "    '''\n",
    "    x_train, y_train, x_test, y_test = convert_df(df)\n",
    "    train_data = (x_train, y_train)\n",
    "    test_data = (x_test, y_test)\n",
    "\n",
    "    study = optuna.create_study(direction=\"minimize\", sampler=optuna.samplers.TPESampler())\n",
    "    study.optimize(objective, n_trials=30)\n",
    "\n",
    "    best_trial = study.best_trial\n",
    "\n",
    "    lr = best_trial.params.get('learning_rate')\n",
    "    hs = best_trial.params.get('hidden_size')\n",
    "    nl = best_trial.params.get('num_layers')\n",
    "    dp = best_trial.params.get('dropout_p')\n",
    "    return lr, hs, nl, dp, study"
   ]
  },
  {
   "cell_type": "markdown",
   "metadata": {},
   "source": [
    "## Obtaining the DataFrames\n",
    "\n",
    "In this cell, we obtain the four desired DataFrames corresponding to 1.) long-term with all features, 2.) short-term with all features, 3.) short-term with selected features (including StockTwits sentiment), and 4.) short-term with selected features (excluding StockTwits sentiment)."
   ]
  },
  {
   "cell_type": "code",
   "execution_count": 54,
   "metadata": {},
   "outputs": [],
   "source": [
    "#All parameters, whole time period:\n",
    "df_all = df\n",
    "df_all.index=df_all['Date']\n",
    "df_all = df_all.loc[:, df_all.columns !='Date']\n",
    "# All parameters, short time period:\n",
    "df_all_short = df[df['Date'] >= '2022-01-01']\n",
    "# Add sentiment\n",
    "df_all_short.index = np.array(range(len(df_all_short)))\n",
    "# df_sentiment = pd.read_csv('final/Stock_Stalkers/data/AAPL_byday_RoBERTa.csv')\n",
    "df_sentiment = pd.read_csv('data/AAPL_byday_RoBERTa.csv')\n",
    "# Drop the first empty column for AAPL\n",
    "df_sentiment = df_sentiment.iloc[: , 1:]\n",
    "df_sentiment.date = df_sentiment.date.apply(convert)\n",
    "df_sentiment.rename(columns={'date':'Date'}, inplace=True)\n",
    "df_all_short = df_all_short.merge(df_sentiment, how='inner', on='Date').fillna(0)\n",
    "df_all_short.index=df_all_short['Date']\n",
    "df_all_short = df_all_short.loc[:, df_all_short.columns !='Date']\n",
    "\n",
    "# Selected parameters, with sentiment:\n",
    "# sentiment_params = pd.read_csv('feature_selection_AAPL_Sentiment.csv').feature[:20]\n",
    "sentiment_params = pd.read_csv('data/feature_selection_AAPL_Sentiment.csv').feature[:20]\n",
    "df_selected_sentiment = df_all_short[sentiment_params]\n",
    "\n",
    "# Selected parameters, no sentiment:\n",
    "# noSentiment_params = pd.read_csv('feature_selection_AAPL_NoSentiment.csv').feature[:20]\n",
    "noSentiment_params = pd.read_csv('data/feature_selection_AAPL_NoSentiment.csv').feature[:20]\n",
    "df_selected_noSentiment = df_all_short[noSentiment_params]"
   ]
  },
  {
   "cell_type": "code",
   "execution_count": 53,
   "metadata": {},
   "outputs": [
    {
     "data": {
      "text/html": [
       "<div>\n",
       "<style scoped>\n",
       "    .dataframe tbody tr th:only-of-type {\n",
       "        vertical-align: middle;\n",
       "    }\n",
       "\n",
       "    .dataframe tbody tr th {\n",
       "        vertical-align: top;\n",
       "    }\n",
       "\n",
       "    .dataframe thead th {\n",
       "        text-align: right;\n",
       "    }\n",
       "</style>\n",
       "<table border=\"1\" class=\"dataframe\">\n",
       "  <thead>\n",
       "    <tr style=\"text-align: right;\">\n",
       "      <th></th>\n",
       "      <th>High</th>\n",
       "      <th>Low</th>\n",
       "      <th>Open</th>\n",
       "      <th>Close</th>\n",
       "      <th>Volume</th>\n",
       "      <th>Adj Close</th>\n",
       "      <th>Year</th>\n",
       "      <th>Month</th>\n",
       "      <th>Week</th>\n",
       "      <th>Day</th>\n",
       "      <th>...</th>\n",
       "      <th>momentum_ppo_hist</th>\n",
       "      <th>momentum_pvo</th>\n",
       "      <th>momentum_pvo_signal</th>\n",
       "      <th>momentum_pvo_hist</th>\n",
       "      <th>momentum_kama</th>\n",
       "      <th>others_dr</th>\n",
       "      <th>others_dlr</th>\n",
       "      <th>others_cr</th>\n",
       "      <th>bullish</th>\n",
       "      <th>bearish</th>\n",
       "    </tr>\n",
       "    <tr>\n",
       "      <th>Date</th>\n",
       "      <th></th>\n",
       "      <th></th>\n",
       "      <th></th>\n",
       "      <th></th>\n",
       "      <th></th>\n",
       "      <th></th>\n",
       "      <th></th>\n",
       "      <th></th>\n",
       "      <th></th>\n",
       "      <th></th>\n",
       "      <th></th>\n",
       "      <th></th>\n",
       "      <th></th>\n",
       "      <th></th>\n",
       "      <th></th>\n",
       "      <th></th>\n",
       "      <th></th>\n",
       "      <th></th>\n",
       "      <th></th>\n",
       "      <th></th>\n",
       "      <th></th>\n",
       "    </tr>\n",
       "  </thead>\n",
       "  <tbody>\n",
       "    <tr>\n",
       "      <th>2022-01-03</th>\n",
       "      <td>182.880005</td>\n",
       "      <td>177.710007</td>\n",
       "      <td>177.830002</td>\n",
       "      <td>182.009995</td>\n",
       "      <td>104487900.0</td>\n",
       "      <td>181.778397</td>\n",
       "      <td>2022</td>\n",
       "      <td>1</td>\n",
       "      <td>1</td>\n",
       "      <td>3</td>\n",
       "      <td>...</td>\n",
       "      <td>-0.143274</td>\n",
       "      <td>-8.251705</td>\n",
       "      <td>-2.942693</td>\n",
       "      <td>-5.309012</td>\n",
       "      <td>173.552778</td>\n",
       "      <td>2.500415</td>\n",
       "      <td>2.469666</td>\n",
       "      <td>406.815182</td>\n",
       "      <td>0</td>\n",
       "      <td>0</td>\n",
       "    </tr>\n",
       "    <tr>\n",
       "      <th>2022-01-04</th>\n",
       "      <td>182.940002</td>\n",
       "      <td>179.119995</td>\n",
       "      <td>182.630005</td>\n",
       "      <td>179.699997</td>\n",
       "      <td>99310400.0</td>\n",
       "      <td>179.471344</td>\n",
       "      <td>2022</td>\n",
       "      <td>1</td>\n",
       "      <td>1</td>\n",
       "      <td>4</td>\n",
       "      <td>...</td>\n",
       "      <td>-0.189433</td>\n",
       "      <td>-6.848703</td>\n",
       "      <td>-3.723895</td>\n",
       "      <td>-3.124807</td>\n",
       "      <td>174.349880</td>\n",
       "      <td>-1.269160</td>\n",
       "      <td>-1.277282</td>\n",
       "      <td>400.382888</td>\n",
       "      <td>0</td>\n",
       "      <td>0</td>\n",
       "    </tr>\n",
       "    <tr>\n",
       "      <th>2022-01-05</th>\n",
       "      <td>180.169998</td>\n",
       "      <td>174.639999</td>\n",
       "      <td>179.610001</td>\n",
       "      <td>174.919998</td>\n",
       "      <td>94537600.0</td>\n",
       "      <td>174.697418</td>\n",
       "      <td>2022</td>\n",
       "      <td>1</td>\n",
       "      <td>1</td>\n",
       "      <td>5</td>\n",
       "      <td>...</td>\n",
       "      <td>-0.407488</td>\n",
       "      <td>-6.083336</td>\n",
       "      <td>-4.195783</td>\n",
       "      <td>-1.887553</td>\n",
       "      <td>174.357792</td>\n",
       "      <td>-2.659988</td>\n",
       "      <td>-2.696006</td>\n",
       "      <td>387.072762</td>\n",
       "      <td>545</td>\n",
       "      <td>195</td>\n",
       "    </tr>\n",
       "    <tr>\n",
       "      <th>2022-01-06</th>\n",
       "      <td>175.300003</td>\n",
       "      <td>171.639999</td>\n",
       "      <td>172.699997</td>\n",
       "      <td>172.000000</td>\n",
       "      <td>96904000.0</td>\n",
       "      <td>171.781143</td>\n",
       "      <td>2022</td>\n",
       "      <td>1</td>\n",
       "      <td>1</td>\n",
       "      <td>6</td>\n",
       "      <td>...</td>\n",
       "      <td>-0.653812</td>\n",
       "      <td>-5.210295</td>\n",
       "      <td>-4.398686</td>\n",
       "      <td>-0.811609</td>\n",
       "      <td>174.294544</td>\n",
       "      <td>-1.669334</td>\n",
       "      <td>-1.683424</td>\n",
       "      <td>378.941893</td>\n",
       "      <td>548</td>\n",
       "      <td>170</td>\n",
       "    </tr>\n",
       "    <tr>\n",
       "      <th>2022-01-07</th>\n",
       "      <td>174.139999</td>\n",
       "      <td>171.029999</td>\n",
       "      <td>172.889999</td>\n",
       "      <td>172.169998</td>\n",
       "      <td>86709100.0</td>\n",
       "      <td>171.950928</td>\n",
       "      <td>2022</td>\n",
       "      <td>1</td>\n",
       "      <td>1</td>\n",
       "      <td>7</td>\n",
       "      <td>...</td>\n",
       "      <td>-0.791825</td>\n",
       "      <td>-5.341759</td>\n",
       "      <td>-4.587300</td>\n",
       "      <td>-0.754458</td>\n",
       "      <td>174.226442</td>\n",
       "      <td>0.098836</td>\n",
       "      <td>0.098787</td>\n",
       "      <td>379.415261</td>\n",
       "      <td>478</td>\n",
       "      <td>110</td>\n",
       "    </tr>\n",
       "    <tr>\n",
       "      <th>...</th>\n",
       "      <td>...</td>\n",
       "      <td>...</td>\n",
       "      <td>...</td>\n",
       "      <td>...</td>\n",
       "      <td>...</td>\n",
       "      <td>...</td>\n",
       "      <td>...</td>\n",
       "      <td>...</td>\n",
       "      <td>...</td>\n",
       "      <td>...</td>\n",
       "      <td>...</td>\n",
       "      <td>...</td>\n",
       "      <td>...</td>\n",
       "      <td>...</td>\n",
       "      <td>...</td>\n",
       "      <td>...</td>\n",
       "      <td>...</td>\n",
       "      <td>...</td>\n",
       "      <td>...</td>\n",
       "      <td>...</td>\n",
       "      <td>...</td>\n",
       "    </tr>\n",
       "    <tr>\n",
       "      <th>2022-04-22</th>\n",
       "      <td>167.869995</td>\n",
       "      <td>161.500000</td>\n",
       "      <td>166.460007</td>\n",
       "      <td>161.789993</td>\n",
       "      <td>84775200.0</td>\n",
       "      <td>161.789993</td>\n",
       "      <td>2022</td>\n",
       "      <td>4</td>\n",
       "      <td>16</td>\n",
       "      <td>22</td>\n",
       "      <td>...</td>\n",
       "      <td>-0.658369</td>\n",
       "      <td>-4.834595</td>\n",
       "      <td>-5.769592</td>\n",
       "      <td>0.934997</td>\n",
       "      <td>170.303486</td>\n",
       "      <td>-2.782120</td>\n",
       "      <td>-2.821555</td>\n",
       "      <td>350.511661</td>\n",
       "      <td>756</td>\n",
       "      <td>510</td>\n",
       "    </tr>\n",
       "    <tr>\n",
       "      <th>2022-04-25</th>\n",
       "      <td>163.169998</td>\n",
       "      <td>158.460007</td>\n",
       "      <td>161.119995</td>\n",
       "      <td>162.880005</td>\n",
       "      <td>96046400.0</td>\n",
       "      <td>162.880005</td>\n",
       "      <td>2022</td>\n",
       "      <td>4</td>\n",
       "      <td>17</td>\n",
       "      <td>25</td>\n",
       "      <td>...</td>\n",
       "      <td>-0.666083</td>\n",
       "      <td>-2.708870</td>\n",
       "      <td>-5.157448</td>\n",
       "      <td>2.448578</td>\n",
       "      <td>169.837855</td>\n",
       "      <td>0.673720</td>\n",
       "      <td>0.671461</td>\n",
       "      <td>353.546848</td>\n",
       "      <td>951</td>\n",
       "      <td>395</td>\n",
       "    </tr>\n",
       "    <tr>\n",
       "      <th>2022-04-26</th>\n",
       "      <td>162.339996</td>\n",
       "      <td>156.720001</td>\n",
       "      <td>162.250000</td>\n",
       "      <td>156.800003</td>\n",
       "      <td>95623200.0</td>\n",
       "      <td>156.800003</td>\n",
       "      <td>2022</td>\n",
       "      <td>4</td>\n",
       "      <td>17</td>\n",
       "      <td>26</td>\n",
       "      <td>...</td>\n",
       "      <td>-0.870720</td>\n",
       "      <td>-1.087910</td>\n",
       "      <td>-4.343540</td>\n",
       "      <td>3.255630</td>\n",
       "      <td>168.820698</td>\n",
       "      <td>-3.732810</td>\n",
       "      <td>-3.804264</td>\n",
       "      <td>336.616804</td>\n",
       "      <td>921</td>\n",
       "      <td>531</td>\n",
       "    </tr>\n",
       "    <tr>\n",
       "      <th>2022-04-27</th>\n",
       "      <td>159.789993</td>\n",
       "      <td>155.380005</td>\n",
       "      <td>155.910004</td>\n",
       "      <td>156.570007</td>\n",
       "      <td>88063200.0</td>\n",
       "      <td>156.570007</td>\n",
       "      <td>2022</td>\n",
       "      <td>4</td>\n",
       "      <td>17</td>\n",
       "      <td>27</td>\n",
       "      <td>...</td>\n",
       "      <td>-0.963265</td>\n",
       "      <td>-0.543871</td>\n",
       "      <td>-3.583606</td>\n",
       "      <td>3.039735</td>\n",
       "      <td>167.321938</td>\n",
       "      <td>-0.146681</td>\n",
       "      <td>-0.146789</td>\n",
       "      <td>335.976370</td>\n",
       "      <td>1158</td>\n",
       "      <td>391</td>\n",
       "    </tr>\n",
       "    <tr>\n",
       "      <th>2022-04-28</th>\n",
       "      <td>164.520004</td>\n",
       "      <td>158.929993</td>\n",
       "      <td>159.250000</td>\n",
       "      <td>163.639999</td>\n",
       "      <td>115586400.0</td>\n",
       "      <td>163.639999</td>\n",
       "      <td>2022</td>\n",
       "      <td>4</td>\n",
       "      <td>17</td>\n",
       "      <td>28</td>\n",
       "      <td>...</td>\n",
       "      <td>-0.693012</td>\n",
       "      <td>2.420640</td>\n",
       "      <td>-2.382757</td>\n",
       "      <td>4.803397</td>\n",
       "      <td>167.157618</td>\n",
       "      <td>4.515547</td>\n",
       "      <td>4.416565</td>\n",
       "      <td>355.663088</td>\n",
       "      <td>3489</td>\n",
       "      <td>2315</td>\n",
       "    </tr>\n",
       "  </tbody>\n",
       "</table>\n",
       "<p>81 rows × 106 columns</p>\n",
       "</div>"
      ],
      "text/plain": [
       "                  High         Low        Open       Close       Volume  \\\n",
       "Date                                                                      \n",
       "2022-01-03  182.880005  177.710007  177.830002  182.009995  104487900.0   \n",
       "2022-01-04  182.940002  179.119995  182.630005  179.699997   99310400.0   \n",
       "2022-01-05  180.169998  174.639999  179.610001  174.919998   94537600.0   \n",
       "2022-01-06  175.300003  171.639999  172.699997  172.000000   96904000.0   \n",
       "2022-01-07  174.139999  171.029999  172.889999  172.169998   86709100.0   \n",
       "...                ...         ...         ...         ...          ...   \n",
       "2022-04-22  167.869995  161.500000  166.460007  161.789993   84775200.0   \n",
       "2022-04-25  163.169998  158.460007  161.119995  162.880005   96046400.0   \n",
       "2022-04-26  162.339996  156.720001  162.250000  156.800003   95623200.0   \n",
       "2022-04-27  159.789993  155.380005  155.910004  156.570007   88063200.0   \n",
       "2022-04-28  164.520004  158.929993  159.250000  163.639999  115586400.0   \n",
       "\n",
       "             Adj Close  Year  Month  Week  Day  ...  momentum_ppo_hist  \\\n",
       "Date                                            ...                      \n",
       "2022-01-03  181.778397  2022      1     1    3  ...          -0.143274   \n",
       "2022-01-04  179.471344  2022      1     1    4  ...          -0.189433   \n",
       "2022-01-05  174.697418  2022      1     1    5  ...          -0.407488   \n",
       "2022-01-06  171.781143  2022      1     1    6  ...          -0.653812   \n",
       "2022-01-07  171.950928  2022      1     1    7  ...          -0.791825   \n",
       "...                ...   ...    ...   ...  ...  ...                ...   \n",
       "2022-04-22  161.789993  2022      4    16   22  ...          -0.658369   \n",
       "2022-04-25  162.880005  2022      4    17   25  ...          -0.666083   \n",
       "2022-04-26  156.800003  2022      4    17   26  ...          -0.870720   \n",
       "2022-04-27  156.570007  2022      4    17   27  ...          -0.963265   \n",
       "2022-04-28  163.639999  2022      4    17   28  ...          -0.693012   \n",
       "\n",
       "            momentum_pvo  momentum_pvo_signal  momentum_pvo_hist  \\\n",
       "Date                                                               \n",
       "2022-01-03     -8.251705            -2.942693          -5.309012   \n",
       "2022-01-04     -6.848703            -3.723895          -3.124807   \n",
       "2022-01-05     -6.083336            -4.195783          -1.887553   \n",
       "2022-01-06     -5.210295            -4.398686          -0.811609   \n",
       "2022-01-07     -5.341759            -4.587300          -0.754458   \n",
       "...                  ...                  ...                ...   \n",
       "2022-04-22     -4.834595            -5.769592           0.934997   \n",
       "2022-04-25     -2.708870            -5.157448           2.448578   \n",
       "2022-04-26     -1.087910            -4.343540           3.255630   \n",
       "2022-04-27     -0.543871            -3.583606           3.039735   \n",
       "2022-04-28      2.420640            -2.382757           4.803397   \n",
       "\n",
       "            momentum_kama  others_dr  others_dlr   others_cr  bullish  bearish  \n",
       "Date                                                                            \n",
       "2022-01-03     173.552778   2.500415    2.469666  406.815182        0        0  \n",
       "2022-01-04     174.349880  -1.269160   -1.277282  400.382888        0        0  \n",
       "2022-01-05     174.357792  -2.659988   -2.696006  387.072762      545      195  \n",
       "2022-01-06     174.294544  -1.669334   -1.683424  378.941893      548      170  \n",
       "2022-01-07     174.226442   0.098836    0.098787  379.415261      478      110  \n",
       "...                   ...        ...         ...         ...      ...      ...  \n",
       "2022-04-22     170.303486  -2.782120   -2.821555  350.511661      756      510  \n",
       "2022-04-25     169.837855   0.673720    0.671461  353.546848      951      395  \n",
       "2022-04-26     168.820698  -3.732810   -3.804264  336.616804      921      531  \n",
       "2022-04-27     167.321938  -0.146681   -0.146789  335.976370     1158      391  \n",
       "2022-04-28     167.157618   4.515547    4.416565  355.663088     3489     2315  \n",
       "\n",
       "[81 rows x 106 columns]"
      ]
     },
     "execution_count": 53,
     "metadata": {},
     "output_type": "execute_result"
    }
   ],
   "source": [
    "# df_all_short.index=df_all_short['Date']\n",
    "# df_all_short = df_all_short.loc[:, df_all_short.columns !='Date']\n",
    "df_all_short"
   ]
  },
  {
   "cell_type": "markdown",
   "metadata": {},
   "source": [
    "## Study with long-term data and all parameters."
   ]
  },
  {
   "cell_type": "code",
   "execution_count": 78,
   "metadata": {},
   "outputs": [],
   "source": [
    "x_train, y_train, x_test, y_test = convert_df(df_all)\n",
    "train_data = (x_train, y_train)\n",
    "test_data = (x_test, y_test)"
   ]
  },
  {
   "cell_type": "code",
   "execution_count": 80,
   "metadata": {},
   "outputs": [],
   "source": [
    "lr_lt, hs_lt, nl_lt, dp_lt, study_lt = optimize_hyperparameters(df_all)"
   ]
  },
  {
   "cell_type": "code",
   "execution_count": null,
   "metadata": {},
   "outputs": [],
   "source": [
    "output_size = 1\n",
    "model_lt = stocksLSTM(x_train_lt.size()[1], hs_lt, nl_lt, output_size, dp_lt)"
   ]
  },
  {
   "cell_type": "code",
   "execution_count": null,
   "metadata": {},
   "outputs": [],
   "source": [
    "train_loss_lt, valid_loss_lt = train(model_lt, epochs, train_data_lt, valid_data=None, lr=nl_lt)"
   ]
  },
  {
   "cell_type": "markdown",
   "metadata": {},
   "source": [
    "## Study with short-term data and all parameters."
   ]
  },
  {
   "cell_type": "code",
   "execution_count": 82,
   "metadata": {},
   "outputs": [],
   "source": [
    "x_train, y_train, x_test, y_test = convert_df(df_all_short)\n",
    "train_data = (x_train, y_train)\n",
    "test_data = (x_test, y_test)"
   ]
  },
  {
   "cell_type": "code",
   "execution_count": 57,
   "metadata": {},
   "outputs": [
    {
     "name": "stderr",
     "output_type": "stream",
     "text": [
      "\u001b[32m[I 2022-06-01 11:32:35,006]\u001b[0m A new study created in memory with name: no-name-237b876b-f7e2-4360-862f-191e4d9129b2\u001b[0m\n",
      "\u001b[32m[I 2022-06-01 11:34:54,443]\u001b[0m Trial 0 finished with value: 1.5487836599349976 and parameters: {'learning_rate': 0.00016825233139299272, 'hidden_size': 40, 'num_layers': 3, 'dropout_p': 0.0}. Best is trial 0 with value: 1.5487836599349976.\u001b[0m\n",
      "\u001b[32m[I 2022-06-01 11:36:41,714]\u001b[0m Trial 1 finished with value: 1.4260367274284362 and parameters: {'learning_rate': 0.011430207624875703, 'hidden_size': 40, 'num_layers': 2, 'dropout_p': 0.1}. Best is trial 1 with value: 1.4260367274284362.\u001b[0m\n",
      "\u001b[32m[I 2022-06-01 11:39:11,379]\u001b[0m Trial 2 finished with value: 1.7322473049163818 and parameters: {'learning_rate': 0.002489045352531816, 'hidden_size': 40, 'num_layers': 3, 'dropout_p': 0.0}. Best is trial 1 with value: 1.4260367274284362.\u001b[0m\n",
      "\u001b[32m[I 2022-06-01 11:42:41,637]\u001b[0m Trial 3 finished with value: 1.1768341302871703 and parameters: {'learning_rate': 4.402933936266574e-05, 'hidden_size': 100, 'num_layers': 3, 'dropout_p': 0.1}. Best is trial 3 with value: 1.1768341302871703.\u001b[0m\n",
      "\u001b[32m[I 2022-06-01 11:46:05,865]\u001b[0m Trial 4 finished with value: 1.1850858569145202 and parameters: {'learning_rate': 5.121792016760565e-05, 'hidden_size': 100, 'num_layers': 3, 'dropout_p': 0.1}. Best is trial 3 with value: 1.1768341302871703.\u001b[0m\n"
     ]
    }
   ],
   "source": [
    "lr_sta, hs_sta, nl_sta, dp_sta, study_sta = optimize_hyperparameters(df_all_short)"
   ]
  },
  {
   "cell_type": "code",
   "execution_count": null,
   "metadata": {},
   "outputs": [],
   "source": [
    "print(\"learning rate: \" + str(lr_sta))\n",
    "print(\"hidden size: \" + str(hs_sta))\n",
    "print(\"number of layers: \" + str(nl_sta))\n",
    "print(\"dropout rate: \" + str(dp_sta))"
   ]
  },
  {
   "cell_type": "code",
   "execution_count": 66,
   "metadata": {},
   "outputs": [],
   "source": [
    "output_size = 1\n",
    "model_sta = stocksLSTM(x_train.size()[1], hs_sta, nl_sta, output_size, dp_sta)"
   ]
  },
  {
   "cell_type": "code",
   "execution_count": 68,
   "metadata": {},
   "outputs": [
    {
     "name": "stdout",
     "output_type": "stream",
     "text": [
      "Epoch 0:\n",
      "Training Loss: 56415.60331171751\n",
      "Epoch 10:\n",
      "Training Loss: 52.49793195724487\n",
      "Epoch 20:\n",
      "Training Loss: 61.942117273807526\n",
      "Epoch 30:\n",
      "Training Loss: 54.58425962924957\n",
      "Epoch 40:\n",
      "Training Loss: 508.137579202652\n",
      "Epoch 50:\n",
      "Training Loss: 551.5477592349052\n",
      "Epoch 60:\n",
      "Training Loss: 553.9959895014763\n",
      "Epoch 70:\n",
      "Training Loss: 573.9077069163322\n",
      "Epoch 80:\n",
      "Training Loss: 563.4315785765648\n",
      "Epoch 90:\n",
      "Training Loss: 561.8330665230751\n"
     ]
    }
   ],
   "source": [
    "train_loss_sta, valid_loss_sta = train(model_sta, EPOCHS, train_data, valid_data=None, lr=nl_sta, print_every=10)"
   ]
  },
  {
   "cell_type": "code",
   "execution_count": 72,
   "metadata": {},
   "outputs": [
    {
     "ename": "TypeError",
     "evalue": "'int' object is not subscriptable",
     "output_type": "error",
     "traceback": [
      "\u001b[1;31m---------------------------------------------------------------------------\u001b[0m",
      "\u001b[1;31mTypeError\u001b[0m                                 Traceback (most recent call last)",
      "\u001b[1;32m~\\AppData\\Local\\Temp/ipykernel_7140/923391007.py\u001b[0m in \u001b[0;36m<module>\u001b[1;34m\u001b[0m\n\u001b[0;32m      5\u001b[0m \u001b[0mout\u001b[0m\u001b[1;33m,\u001b[0m \u001b[0mhs\u001b[0m \u001b[1;33m=\u001b[0m \u001b[0mmodel_sta\u001b[0m\u001b[1;33m(\u001b[0m\u001b[0mval_x\u001b[0m\u001b[1;33m,\u001b[0m \u001b[0mhs\u001b[0m\u001b[1;33m)\u001b[0m\u001b[1;33m\u001b[0m\u001b[1;33m\u001b[0m\u001b[0m\n\u001b[0;32m      6\u001b[0m \u001b[0mhs\u001b[0m \u001b[1;33m=\u001b[0m \u001b[0mtuple\u001b[0m\u001b[1;33m(\u001b[0m\u001b[1;33m[\u001b[0m\u001b[0mh\u001b[0m\u001b[1;33m.\u001b[0m\u001b[0mdata\u001b[0m \u001b[1;32mfor\u001b[0m \u001b[0mh\u001b[0m \u001b[1;32min\u001b[0m \u001b[0mhs\u001b[0m\u001b[1;33m]\u001b[0m\u001b[1;33m)\u001b[0m\u001b[1;33m\u001b[0m\u001b[1;33m\u001b[0m\u001b[0m\n\u001b[1;32m----> 7\u001b[1;33m \u001b[0mpreds\u001b[0m\u001b[1;33m,\u001b[0m \u001b[0m_\u001b[0m \u001b[1;33m=\u001b[0m \u001b[0mmodel_sta\u001b[0m\u001b[1;33m(\u001b[0m\u001b[0mval_x\u001b[0m\u001b[1;33m,\u001b[0m \u001b[0mhs_sta\u001b[0m\u001b[1;33m)\u001b[0m\u001b[1;33m\u001b[0m\u001b[1;33m\u001b[0m\u001b[0m\n\u001b[0m\u001b[0;32m      8\u001b[0m \u001b[0mcriterion\u001b[0m \u001b[1;33m=\u001b[0m \u001b[0mnn\u001b[0m\u001b[1;33m.\u001b[0m\u001b[0mMSELoss\u001b[0m\u001b[1;33m(\u001b[0m\u001b[1;33m)\u001b[0m\u001b[1;33m\u001b[0m\u001b[1;33m\u001b[0m\u001b[0m\n\u001b[0;32m      9\u001b[0m \u001b[0mv_loss\u001b[0m \u001b[1;33m=\u001b[0m \u001b[0mcriterion\u001b[0m\u001b[1;33m(\u001b[0m\u001b[0mpreds\u001b[0m\u001b[1;33m,\u001b[0m \u001b[0mval_y\u001b[0m\u001b[1;33m)\u001b[0m\u001b[1;33m\u001b[0m\u001b[1;33m\u001b[0m\u001b[0m\n",
      "\u001b[1;32m~\\anaconda3\\lib\\site-packages\\torch\\nn\\modules\\module.py\u001b[0m in \u001b[0;36m_call_impl\u001b[1;34m(self, *input, **kwargs)\u001b[0m\n\u001b[0;32m   1108\u001b[0m         if not (self._backward_hooks or self._forward_hooks or self._forward_pre_hooks or _global_backward_hooks\n\u001b[0;32m   1109\u001b[0m                 or _global_forward_hooks or _global_forward_pre_hooks):\n\u001b[1;32m-> 1110\u001b[1;33m             \u001b[1;32mreturn\u001b[0m \u001b[0mforward_call\u001b[0m\u001b[1;33m(\u001b[0m\u001b[1;33m*\u001b[0m\u001b[0minput\u001b[0m\u001b[1;33m,\u001b[0m \u001b[1;33m**\u001b[0m\u001b[0mkwargs\u001b[0m\u001b[1;33m)\u001b[0m\u001b[1;33m\u001b[0m\u001b[1;33m\u001b[0m\u001b[0m\n\u001b[0m\u001b[0;32m   1111\u001b[0m         \u001b[1;31m# Do not call functions when jit is used\u001b[0m\u001b[1;33m\u001b[0m\u001b[1;33m\u001b[0m\u001b[0m\n\u001b[0;32m   1112\u001b[0m         \u001b[0mfull_backward_hooks\u001b[0m\u001b[1;33m,\u001b[0m \u001b[0mnon_full_backward_hooks\u001b[0m \u001b[1;33m=\u001b[0m \u001b[1;33m[\u001b[0m\u001b[1;33m]\u001b[0m\u001b[1;33m,\u001b[0m \u001b[1;33m[\u001b[0m\u001b[1;33m]\u001b[0m\u001b[1;33m\u001b[0m\u001b[1;33m\u001b[0m\u001b[0m\n",
      "\u001b[1;32m~\\AppData\\Local\\Temp/ipykernel_7140/2115936718.py\u001b[0m in \u001b[0;36mforward\u001b[1;34m(self, x, hs)\u001b[0m\n\u001b[0;32m      8\u001b[0m     \u001b[1;32mdef\u001b[0m \u001b[0mforward\u001b[0m\u001b[1;33m(\u001b[0m\u001b[0mself\u001b[0m\u001b[1;33m,\u001b[0m \u001b[0mx\u001b[0m\u001b[1;33m,\u001b[0m \u001b[0mhs\u001b[0m\u001b[1;33m)\u001b[0m\u001b[1;33m:\u001b[0m\u001b[1;33m\u001b[0m\u001b[1;33m\u001b[0m\u001b[0m\n\u001b[0;32m      9\u001b[0m \u001b[1;33m\u001b[0m\u001b[0m\n\u001b[1;32m---> 10\u001b[1;33m         \u001b[0mout\u001b[0m\u001b[1;33m,\u001b[0m \u001b[0mhs\u001b[0m \u001b[1;33m=\u001b[0m \u001b[0mself\u001b[0m\u001b[1;33m.\u001b[0m\u001b[0mlstm\u001b[0m\u001b[1;33m(\u001b[0m\u001b[0mx\u001b[0m\u001b[1;33m,\u001b[0m \u001b[0mhs\u001b[0m\u001b[1;33m)\u001b[0m           \u001b[1;31m# out.shape = (batch_size, seq_len, hidden_size)\u001b[0m\u001b[1;33m\u001b[0m\u001b[1;33m\u001b[0m\u001b[0m\n\u001b[0m\u001b[0;32m     11\u001b[0m         \u001b[0mout\u001b[0m \u001b[1;33m=\u001b[0m \u001b[0mout\u001b[0m\u001b[1;33m.\u001b[0m\u001b[0mview\u001b[0m\u001b[1;33m(\u001b[0m\u001b[1;33m-\u001b[0m\u001b[1;36m1\u001b[0m\u001b[1;33m,\u001b[0m \u001b[0mself\u001b[0m\u001b[1;33m.\u001b[0m\u001b[0mhidden_size\u001b[0m\u001b[1;33m)\u001b[0m \u001b[1;31m# out.shape = (seq_len, hidden_size)\u001b[0m\u001b[1;33m\u001b[0m\u001b[1;33m\u001b[0m\u001b[0m\n\u001b[0;32m     12\u001b[0m         \u001b[0mout\u001b[0m \u001b[1;33m=\u001b[0m \u001b[0mself\u001b[0m\u001b[1;33m.\u001b[0m\u001b[0mfc\u001b[0m\u001b[1;33m(\u001b[0m\u001b[0mout\u001b[0m\u001b[1;33m)\u001b[0m\u001b[1;33m\u001b[0m\u001b[1;33m\u001b[0m\u001b[0m\n",
      "\u001b[1;32m~\\anaconda3\\lib\\site-packages\\torch\\nn\\modules\\module.py\u001b[0m in \u001b[0;36m_call_impl\u001b[1;34m(self, *input, **kwargs)\u001b[0m\n\u001b[0;32m   1108\u001b[0m         if not (self._backward_hooks or self._forward_hooks or self._forward_pre_hooks or _global_backward_hooks\n\u001b[0;32m   1109\u001b[0m                 or _global_forward_hooks or _global_forward_pre_hooks):\n\u001b[1;32m-> 1110\u001b[1;33m             \u001b[1;32mreturn\u001b[0m \u001b[0mforward_call\u001b[0m\u001b[1;33m(\u001b[0m\u001b[1;33m*\u001b[0m\u001b[0minput\u001b[0m\u001b[1;33m,\u001b[0m \u001b[1;33m**\u001b[0m\u001b[0mkwargs\u001b[0m\u001b[1;33m)\u001b[0m\u001b[1;33m\u001b[0m\u001b[1;33m\u001b[0m\u001b[0m\n\u001b[0m\u001b[0;32m   1111\u001b[0m         \u001b[1;31m# Do not call functions when jit is used\u001b[0m\u001b[1;33m\u001b[0m\u001b[1;33m\u001b[0m\u001b[0m\n\u001b[0;32m   1112\u001b[0m         \u001b[0mfull_backward_hooks\u001b[0m\u001b[1;33m,\u001b[0m \u001b[0mnon_full_backward_hooks\u001b[0m \u001b[1;33m=\u001b[0m \u001b[1;33m[\u001b[0m\u001b[1;33m]\u001b[0m\u001b[1;33m,\u001b[0m \u001b[1;33m[\u001b[0m\u001b[1;33m]\u001b[0m\u001b[1;33m\u001b[0m\u001b[1;33m\u001b[0m\u001b[0m\n",
      "\u001b[1;32m~\\anaconda3\\lib\\site-packages\\torch\\nn\\modules\\rnn.py\u001b[0m in \u001b[0;36mforward\u001b[1;34m(self, input, hx)\u001b[0m\n\u001b[0;32m    742\u001b[0m             \u001b[1;32mif\u001b[0m \u001b[0mbatch_sizes\u001b[0m \u001b[1;32mis\u001b[0m \u001b[1;32mNone\u001b[0m\u001b[1;33m:\u001b[0m  \u001b[1;31m# If not PackedSequence input.\u001b[0m\u001b[1;33m\u001b[0m\u001b[1;33m\u001b[0m\u001b[0m\n\u001b[0;32m    743\u001b[0m                 \u001b[1;32mif\u001b[0m \u001b[0mis_batched\u001b[0m\u001b[1;33m:\u001b[0m\u001b[1;33m\u001b[0m\u001b[1;33m\u001b[0m\u001b[0m\n\u001b[1;32m--> 744\u001b[1;33m                     \u001b[1;32mif\u001b[0m \u001b[1;33m(\u001b[0m\u001b[0mhx\u001b[0m\u001b[1;33m[\u001b[0m\u001b[1;36m0\u001b[0m\u001b[1;33m]\u001b[0m\u001b[1;33m.\u001b[0m\u001b[0mdim\u001b[0m\u001b[1;33m(\u001b[0m\u001b[1;33m)\u001b[0m \u001b[1;33m!=\u001b[0m \u001b[1;36m3\u001b[0m \u001b[1;32mor\u001b[0m \u001b[0mhx\u001b[0m\u001b[1;33m[\u001b[0m\u001b[1;36m1\u001b[0m\u001b[1;33m]\u001b[0m\u001b[1;33m.\u001b[0m\u001b[0mdim\u001b[0m\u001b[1;33m(\u001b[0m\u001b[1;33m)\u001b[0m \u001b[1;33m!=\u001b[0m \u001b[1;36m3\u001b[0m\u001b[1;33m)\u001b[0m\u001b[1;33m:\u001b[0m\u001b[1;33m\u001b[0m\u001b[1;33m\u001b[0m\u001b[0m\n\u001b[0m\u001b[0;32m    745\u001b[0m                         msg = (\"For batched 3-D input, hx and cx should \"\n\u001b[0;32m    746\u001b[0m                                f\"also be 3-D but got ({hx[0].dim()}-D, {hx[1].dim()}-D) tensors\")\n",
      "\u001b[1;31mTypeError\u001b[0m: 'int' object is not subscriptable"
     ]
    }
   ],
   "source": [
    "# model_sta.eval()\n",
    "# val_x, val_y = test_data\n",
    "# val_x = val_x.unsqueeze(0)\n",
    "# hs = None\n",
    "# out, hs = model_sta(val_x, hs)\n",
    "# hs = tuple([h.data for h in hs])\n",
    "# preds, _ = model_sta(val_x, hs_sta)\n",
    "# criterion = nn.MSELoss()\n",
    "# v_loss = criterion(preds, val_y)\n",
    "# v_loss.item()"
   ]
  },
  {
   "cell_type": "markdown",
   "metadata": {},
   "source": [
    "## Study with short-term data and selected parameters, including StockTwits sentiment."
   ]
  },
  {
   "cell_type": "code",
   "execution_count": 83,
   "metadata": {},
   "outputs": [],
   "source": [
    "x_train, y_train, x_test, y_test = convert_df(df_selected_sentiment)\n",
    "train_data = (x_train, y_train)\n",
    "test_data = (x_test, y_test)"
   ]
  },
  {
   "cell_type": "code",
   "execution_count": null,
   "metadata": {},
   "outputs": [
    {
     "name": "stderr",
     "output_type": "stream",
     "text": [
      "\u001b[32m[I 2022-06-01 13:11:23,603]\u001b[0m A new study created in memory with name: no-name-decbaf25-c369-417d-8ef7-0bf5201efbb2\u001b[0m\n",
      "\u001b[32m[I 2022-06-01 13:13:41,104]\u001b[0m Trial 0 finished with value: 1.3155088901519776 and parameters: {'learning_rate': 0.0023658738818985027, 'hidden_size': 40, 'num_layers': 3, 'dropout_p': 0.2}. Best is trial 0 with value: 1.3155088901519776.\u001b[0m\n",
      "\u001b[32m[I 2022-06-01 13:15:22,436]\u001b[0m Trial 1 finished with value: 1.2071531534194946 and parameters: {'learning_rate': 0.00034933036606771034, 'hidden_size': 40, 'num_layers': 2, 'dropout_p': 0.0}. Best is trial 1 with value: 1.2071531534194946.\u001b[0m\n",
      "\u001b[32m[I 2022-06-01 13:17:52,169]\u001b[0m Trial 2 finished with value: 1.1682140111923218 and parameters: {'learning_rate': 0.00031695586968760313, 'hidden_size': 100, 'num_layers': 2, 'dropout_p': 0.2}. Best is trial 2 with value: 1.1682140111923218.\u001b[0m\n",
      "\u001b[32m[I 2022-06-01 13:21:06,949]\u001b[0m Trial 3 finished with value: 1.0470303297042847 and parameters: {'learning_rate': 0.05910342647121011, 'hidden_size': 40, 'num_layers': 3, 'dropout_p': 0.1}. Best is trial 3 with value: 1.0470303297042847.\u001b[0m\n",
      "\u001b[32m[I 2022-06-01 13:24:33,321]\u001b[0m Trial 4 finished with value: 1.8693210124969482 and parameters: {'learning_rate': 0.009917630541102267, 'hidden_size': 40, 'num_layers': 4, 'dropout_p': 0.0}. Best is trial 3 with value: 1.0470303297042847.\u001b[0m\n",
      "\u001b[32m[I 2022-06-01 13:27:34,983]\u001b[0m Trial 5 finished with value: 1.5897966384887696 and parameters: {'learning_rate': 0.0055490098890295, 'hidden_size': 40, 'num_layers': 4, 'dropout_p': 0.0}. Best is trial 3 with value: 1.0470303297042847.\u001b[0m\n",
      "\u001b[32m[I 2022-06-01 13:30:52,270]\u001b[0m Trial 6 finished with value: 1.0789273023605346 and parameters: {'learning_rate': 0.043250581368511086, 'hidden_size': 40, 'num_layers': 4, 'dropout_p': 0.2}. Best is trial 3 with value: 1.0470303297042847.\u001b[0m\n",
      "\u001b[32m[I 2022-06-01 13:34:59,419]\u001b[0m Trial 7 finished with value: 1.0661887884140016 and parameters: {'learning_rate': 7.47391136679045e-05, 'hidden_size': 100, 'num_layers': 4, 'dropout_p': 0.2}. Best is trial 3 with value: 1.0470303297042847.\u001b[0m\n"
     ]
    }
   ],
   "source": [
    "lr_sts, hs_sts, nl_sts, dp_sts, study_sts = optimize_hyperparameters(df_selected_sentiment)"
   ]
  },
  {
   "cell_type": "code",
   "execution_count": null,
   "metadata": {},
   "outputs": [],
   "source": [
    "print(\"learning rate: \" + str(lr_sts))\n",
    "print(\"hidden size: \" + str(hs_sts))\n",
    "print(\"number of layers: \" + str(nl_sts))\n",
    "print(\"dropout rate: \" + str(dp_sts))"
   ]
  },
  {
   "cell_type": "code",
   "execution_count": null,
   "metadata": {},
   "outputs": [],
   "source": [
    "output_size = 1\n",
    "model_sts = stocksLSTM(x_train.size()[1], hs_sts, nl_sts, output_size, dp_sts)"
   ]
  },
  {
   "cell_type": "code",
   "execution_count": null,
   "metadata": {},
   "outputs": [],
   "source": [
    "train_loss_sts, valid_loss_sts = train(model_sts, epochs, train_data, valid_data=None, lr=nl_sts)"
   ]
  },
  {
   "cell_type": "markdown",
   "metadata": {},
   "source": [
    "## Study with short-term data and selected parameters, excluding StockTwits sentiment."
   ]
  },
  {
   "cell_type": "code",
   "execution_count": 75,
   "metadata": {},
   "outputs": [],
   "source": [
    "x_train, y_train, x_test, y_test = convert_df(df_selected_noSentiment)\n",
    "train_data = (x_train, y_train)\n",
    "test_data = (x_test, y_test)"
   ]
  },
  {
   "cell_type": "code",
   "execution_count": 76,
   "metadata": {},
   "outputs": [
    {
     "name": "stderr",
     "output_type": "stream",
     "text": [
      "\u001b[32m[I 2022-06-01 12:59:30,708]\u001b[0m A new study created in memory with name: no-name-8f2e51d6-ab62-43ba-b250-6d6c574e06dd\u001b[0m\n",
      "\u001b[32m[I 2022-06-01 13:01:15,727]\u001b[0m Trial 0 finished with value: 1.1007951259613038 and parameters: {'learning_rate': 2.7049066977065758e-05, 'hidden_size': 60, 'num_layers': 2, 'dropout_p': 0.0}. Best is trial 0 with value: 1.1007951259613038.\u001b[0m\n"
     ]
    }
   ],
   "source": [
    "lr_stns, hs_stns, nl_stns, dp_stns, study_stns = optimize_hyperparameters(df_selected_noSentiment)"
   ]
  },
  {
   "cell_type": "code",
   "execution_count": null,
   "metadata": {},
   "outputs": [],
   "source": [
    "output_size = 1\n",
    "model_stns = stocksLSTM(x_train.size()[1], hs_stns, nl_stns, output_size, dp_stns)"
   ]
  },
  {
   "cell_type": "code",
   "execution_count": null,
   "metadata": {},
   "outputs": [],
   "source": [
    "train_loss_stns, valid_loss_stns = train(model_stns, epochs, train_data, valid_data=None, lr=nl_stns)"
   ]
  },
  {
   "cell_type": "markdown",
   "metadata": {},
   "source": [
    "***************\n",
    "CODE IS WORKING UP TO HERE\n",
    "****\n"
   ]
  },
  {
   "cell_type": "code",
   "execution_count": null,
   "metadata": {},
   "outputs": [],
   "source": [
    "# train(model, 500, train_data, lr=0.0005, valid_data=valid_data)\n",
    "train_losses, valid_losses = train_cross_valid(model, 200, 0.0005, train_data)"
   ]
  },
  {
   "cell_type": "code",
   "execution_count": null,
   "metadata": {},
   "outputs": [],
   "source": [
    "# get predictions on training set\n",
    "hs = None\n",
    "train_preds, hs = model(x_train.unsqueeze(0), hs)\n",
    "train_preds = t_scaler.inverse_transform(train_preds.detach())\n",
    "\n",
    "# Get predictions on validation data\n",
    "valid_preds, hs = model(x_valid.unsqueeze(0), hs)\n",
    "valid_preds = v_scaler.inverse_transform(valid_preds.detach())"
   ]
  },
  {
   "cell_type": "code",
   "execution_count": null,
   "metadata": {},
   "outputs": [],
   "source": [
    "valid_preds, hs = model(x_valid.unsqueeze(0), hs)\n",
    "valid_preds = valid_preds.reshape(-1)\n",
    "valid_preds = np.where(valid_preds > 0, 1, -1)\n",
    "\n",
    "y_valid_np = y_valid.numpy().reshape(-1)\n",
    "\n",
    "correct_preds = np.where(valid_preds == y_valid_np, 1, 0)\n",
    "valid_acc = sum(correct_preds) / len(correct_preds)\n",
    "valid_acc\n",
    "\n"
   ]
  },
  {
   "cell_type": "code",
   "execution_count": null,
   "metadata": {},
   "outputs": [],
   "source": [
    "train_time = data.index[:split]\n",
    "valid_time = data.index[split:]"
   ]
  },
  {
   "cell_type": "code",
   "execution_count": null,
   "metadata": {},
   "outputs": [],
   "source": [
    "plt.plot(train_time, train_preds.squeeze(), 'r--', label='Training Predictions', )\n",
    "plt.plot(valid_time, valid_preds.squeeze(), 'g--', label='Validation Predictions')\n",
    "#plt.plot(reduced_df.index, reduced_df.y.detach().numpy(), label='Actual')\n",
    "#plt.xticks(np.arange(0,145,12))\n",
    "plt.legend()"
   ]
  },
  {
   "cell_type": "code",
   "execution_count": null,
   "metadata": {},
   "outputs": [],
   "source": []
  }
 ],
 "metadata": {
  "interpreter": {
   "hash": "659f69cde96c241df085b9377ee039d2f5fd3321c931e7e679bf4e3bffd366fe"
  },
  "kernelspec": {
   "display_name": "Python 3 (ipykernel)",
   "language": "python",
   "name": "python3"
  },
  "language_info": {
   "codemirror_mode": {
    "name": "ipython",
    "version": 3
   },
   "file_extension": ".py",
   "mimetype": "text/x-python",
   "name": "python",
   "nbconvert_exporter": "python",
   "pygments_lexer": "ipython3",
   "version": "3.9.7"
  }
 },
 "nbformat": 4,
 "nbformat_minor": 2
}

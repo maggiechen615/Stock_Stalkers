{
 "cells": [
  {
   "cell_type": "markdown",
   "id": "a24f50af",
   "metadata": {},
   "source": [
    "### This must be run locally after unzipping the stocktwits_data folder"
   ]
  },
  {
   "cell_type": "code",
   "execution_count": 183,
   "id": "03faa456",
   "metadata": {},
   "outputs": [],
   "source": [
    "import pandas as pd\n",
    "from datetime import datetime, timedelta\n",
    "import os"
   ]
  },
  {
   "cell_type": "code",
   "execution_count": 184,
   "id": "b3719997",
   "metadata": {},
   "outputs": [],
   "source": [
    "def process_folder(stock_ticker):\n",
    "    df = pd.DataFrame(columns = [\n",
    "        'id',\n",
    "        'text',\n",
    "        'time',\n",
    "        'sentiment'\n",
    "    ])\n",
    "    directory = 'data/stocktwits_data/' + stock_ticker\n",
    "    for file in os.listdir(directory):\n",
    "        filename = directory + '/' + file\n",
    "        new_df = pd.read_json(filename)\n",
    "        df = pd.concat([df, new_df], axis=0).reset_index(drop=True)\n",
    "    df.time = df.time.apply(datetime.fromtimestamp)\n",
    "    return df"
   ]
  },
  {
   "cell_type": "code",
   "execution_count": 142,
   "id": "a8bfc09d",
   "metadata": {},
   "outputs": [],
   "source": [
    "def compute_value_counts(df, start_date, time_delta):\n",
    "    end_date = start_date + timedelta(days=time_delta)\n",
    "    filtered_df = df[(df.time > start_date) & (df.time < end_date)].sentiment\n",
    "    pos = filtered_df.value_counts().get('Bullish', 0)\n",
    "    neg = filtered_df.value_counts().get('Bearish', 0)\n",
    "    return pos, neg"
   ]
  },
  {
   "cell_type": "code",
   "execution_count": 186,
   "id": "2179de8f",
   "metadata": {},
   "outputs": [],
   "source": [
    "def add_sentiment_by_day(df, df_by_day, end):\n",
    "    start_date = datetime(year=2022, day=1, month=1)\n",
    "    time_delta_days = 1\n",
    "    while start_date < end:\n",
    "        pos, neg = compute_value_counts(df, start_date, time_delta_days)\n",
    "        new_df = pd.DataFrame({\n",
    "            'date': start_date,\n",
    "            'bullish': pos,\n",
    "            'bearish': neg},index=[0])\n",
    "        df_by_day = df_by_day.append(new_df, ignore_index=True)\n",
    "        start_date += timedelta(days=time_delta_days)\n",
    "    return df_by_day"
   ]
  },
  {
   "cell_type": "code",
   "execution_count": 189,
   "id": "24b4de35",
   "metadata": {},
   "outputs": [],
   "source": [
    "def gen_sentiment_csvs(stocks, end):\n",
    "    for stock in stocks:\n",
    "        df = process_folder(stock)\n",
    "        df_by_day = pd.DataFrame(columns = [\n",
    "            'date',\n",
    "            'bullish',\n",
    "            'bearish'\n",
    "        ])\n",
    "        df_by_day = add_sentiment_by_day(df, df_by_day, end)\n",
    "        df_by_day.to_csv(stock + '.csv', index=False)"
   ]
  },
  {
   "cell_type": "code",
   "execution_count": 191,
   "id": "2c090aeb",
   "metadata": {},
   "outputs": [],
   "source": [
    "stocks = ['AAPL', 'MSFT', 'NVDA']"
   ]
  },
  {
   "cell_type": "code",
   "execution_count": 192,
   "id": "e6feaadd",
   "metadata": {},
   "outputs": [],
   "source": [
    "end = datetime(year=2022, day=15, month=5)"
   ]
  },
  {
   "cell_type": "code",
   "execution_count": 193,
   "id": "adda14cf",
   "metadata": {},
   "outputs": [],
   "source": [
    "gen_sentiment_csvs(stocks, end)"
   ]
  },
  {
   "cell_type": "code",
   "execution_count": null,
   "id": "9cae0e4f",
   "metadata": {},
   "outputs": [],
   "source": []
  }
 ],
 "metadata": {
  "kernelspec": {
   "display_name": "Python 3 (ipykernel)",
   "language": "python",
   "name": "python3"
  },
  "language_info": {
   "codemirror_mode": {
    "name": "ipython",
    "version": 3
   },
   "file_extension": ".py",
   "mimetype": "text/x-python",
   "name": "python",
   "nbconvert_exporter": "python",
   "pygments_lexer": "ipython3",
   "version": "3.9.7"
  }
 },
 "nbformat": 4,
 "nbformat_minor": 5
}

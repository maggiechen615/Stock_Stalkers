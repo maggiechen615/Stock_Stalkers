{
 "cells": [
  {
   "cell_type": "markdown",
   "metadata": {},
   "source": [
    "# Cross Validation with Sliding Window\n",
    "\n",
    "[Reference](https://towardsdatascience.com/predicting-future-stock-market-trends-with-python-machine-learning-2bf3f1633b3c)"
   ]
  },
  {
   "cell_type": "code",
   "execution_count": 1,
   "metadata": {},
   "outputs": [
    {
     "name": "stderr",
     "output_type": "stream",
     "text": [
      "/Users/ayakowatanabe/opt/anaconda3/lib/python3.8/site-packages/xgboost/compat.py:36: FutureWarning: pandas.Int64Index is deprecated and will be removed from pandas in a future version. Use pandas.Index with the appropriate dtype instead.\n",
      "  from pandas import MultiIndex, Int64Index\n"
     ]
    }
   ],
   "source": [
    "# Data Manipulation\n",
    "import pandas as pd\n",
    "import numpy as np\n",
    "from datetime import datetime\n",
    "\n",
    "# Plotting graphs\n",
    "import matplotlib.pyplot as plt\n",
    "\n",
    "# Machine learning\n",
    "from sklearn.linear_model import LogisticRegression\n",
    "from sklearn import metrics\n",
    "from sklearn.model_selection import cross_val_score, train_test_split\n",
    "from sklearn.ensemble import RandomForestClassifier, AdaBoostClassifier, GradientBoostingClassifier, VotingClassifier\n",
    "from sklearn.preprocessing import MinMaxScaler\n",
    "import xgboost\n",
    "\n",
    "\n",
    "from ta import add_all_ta_features #pip install --upgrade ta https://github.com/bukosabino/ta https://medium.datadriveninvestor.com/predicting-the-stock-market-with-python-bba3cf4c56ef\n",
    "from fastai.tabular.all import add_datepart #pip install fastai https://docs.fast.ai/tabular.core.html https://www.analyticsvidhya.com/blog/2018/10/predicting-stock-price-machine-learningnd-deep-learning-techniques-python/"
   ]
  },
  {
   "cell_type": "code",
   "execution_count": 2,
   "metadata": {},
   "outputs": [],
   "source": [
    "def convert(date_string):\n",
    "    year, month, day = [int(i) for i in date_string.split('-')]\n",
    "    return datetime(year=year, month=month, day=day)"
   ]
  },
  {
   "cell_type": "markdown",
   "metadata": {},
   "source": [
    "### (Part0) Prepare Data & Helper Functions"
   ]
  },
  {
   "cell_type": "code",
   "execution_count": 3,
   "metadata": {},
   "outputs": [],
   "source": [
    "def prepare_dataset(path = 'data/AAPL_data.csv', select_feature = True, sentiment = False, start_date = '2021-12-29'):\n",
    "    '''\n",
    "    Load dataset and generate technical features and limit time periods. \n",
    "\n",
    "    path(str) : path to the data file.\n",
    "    select_feature(boolean) : if true keep selected features.\n",
    "    sentiment(boolean) : if true add sentiment score.\n",
    "    start_date(str) : start date of interested time period. \n",
    "    '''\n",
    "    df = pd.read_csv(path)\n",
    "    df.dropna()\n",
    "\n",
    "    df[\"Date\"]=pd.to_datetime(df.Date, format=\"%Y-%m-%d\")\n",
    "    df.index=df['Date']\n",
    "    data = df.sort_index(ascending=True, axis=0)\n",
    "    add_datepart(df, 'Date', drop=False)\n",
    "    df.drop('Elapsed', axis=1, inplace=True)\n",
    "\n",
    "    df = add_all_ta_features(\n",
    "        df, high=\"High\", low=\"Low\", open=\"Open\", close=\"Close\", volume=\"Volume\")\n",
    "    \n",
    "    df = df[df['Date'] >= start_date]\n",
    "\n",
    "    y = np.where(df['Close'].shift(-1) > df['Close'], 1, -1)\n",
    "\n",
    "    if select_feature:\n",
    "        selected_features = ['trend_sma_fast', 'trend_ema_fast', 'momentum_stoch_rsi_k', 'momentum_stoch_rsi_d', 'momentum_rsi', \\\n",
    "                    'trend_macd', 'momentum_wr', 'volume_adi', 'momentum_roc', 'volume_obv', \\\n",
    "                    'volatility_bbh', 'volatility_bbl']\n",
    "        basic_features = ['High', 'Low', 'Open', 'Volume', 'Year', 'Month', 'Week', 'Day', 'Dayofweek']\n",
    "        X = X[selected_features + basic_features]\n",
    "\n",
    "    if sentiment:\n",
    "        df.index = np.array(range(len(df)))\n",
    "        df_sentiment = pd.read_csv('data/AAPL_stocktwits_sentiment.csv')\n",
    "        df_sentiment.date = df_sentiment.date.apply(convert)\n",
    "        df_sentiment.rename(columns={'date':'Date'}, inplace=True)\n",
    "        df=df.merge(df_sentiment, how='left', on='Date').fillna(0)\n",
    "\n",
    "    X = df.drop(['Close', 'trend_psar_down', 'trend_psar_up', 'Date', 'Adj Close'], axis=1)\n",
    "\n",
    "    X = X.astype(np.float32)\n",
    "    return np.array(X), y\n"
   ]
  },
  {
   "cell_type": "code",
   "execution_count": 4,
   "metadata": {},
   "outputs": [],
   "source": [
    "def logistic_regression(X_train, X_test, y_train, y_test):\n",
    "    '''\n",
    "    Run logistic regression and return model and accuracy score. \n",
    "    '''\n",
    "    model = LogisticRegression(max_iter=float('inf'))\n",
    "    model = model.fit(X_train, y_train)\n",
    "    y_predict = model.predict(X_test)\n",
    "    return model, model.score(X_test, y_test)"
   ]
  },
  {
   "cell_type": "code",
   "execution_count": 5,
   "metadata": {},
   "outputs": [],
   "source": [
    "def random_forest(X_train, X_test, y_train, y_test):\n",
    "    '''\n",
    "    Run random forest and return model and accuracy score. \n",
    "    '''\n",
    "    model = RandomForestClassifier(random_state=42)\n",
    "    model.fit(X_train, y_train)\n",
    "    predict = model.predict(X_test)\n",
    "    return model, model.score(X_test, y_test)"
   ]
  },
  {
   "cell_type": "code",
   "execution_count": 6,
   "metadata": {},
   "outputs": [],
   "source": [
    "def adaboost(X_train, X_test, y_train, y_test):\n",
    "    '''\n",
    "    Run adaboost and return model and accuracy score. \n",
    "    '''   \n",
    "    model = AdaBoostClassifier(random_state=42)\n",
    "    model.fit(X_train, y_train)\n",
    "    predict = model.predict(X_test)\n",
    "    return model, model.score(X_test, y_test)"
   ]
  },
  {
   "cell_type": "code",
   "execution_count": 7,
   "metadata": {},
   "outputs": [],
   "source": [
    "def gradient_boost(X_train, X_test, y_train, y_test):\n",
    "    '''\n",
    "    Run gradient boosting and return model and accuracy score. \n",
    "    '''       \n",
    "    model = GradientBoostingClassifier(random_state=42)\n",
    "    model.fit(X_train, y_train)\n",
    "    predict = model.predict(X_test)\n",
    "    return model, model.score(X_test, y_test)"
   ]
  },
  {
   "cell_type": "code",
   "execution_count": 8,
   "metadata": {},
   "outputs": [],
   "source": [
    "\n",
    "def ensemble_model(logit_model, rf_model, ada_model, gradient_model, X_train, X_test, y_train, y_test):\n",
    "    '''\n",
    "    Combine LR, RF, AB, GB to generate ensemble model and return model and accuracy score. \n",
    "    '''   \n",
    "    estimators=[('logit', logit_model), ('rf', rf_model), ('ada', ada_model), ('gradient', gradient_model)]\n",
    "\n",
    "    # Create our voting classifier, inputting our models\n",
    "    ensemble = VotingClassifier(estimators, voting='hard')\n",
    "    ensemble.fit(X_train, y_train)\n",
    "    prediction = ensemble.predict(X_test)\n",
    "    return ensemble, ensemble.score(X_test, y_test)"
   ]
  },
  {
   "cell_type": "code",
   "execution_count": 9,
   "metadata": {},
   "outputs": [],
   "source": [
    "def cross_validation(df_X, df_y, len_train, verbose=True):\n",
    "    '''\n",
    "    Implement cross validation of each model by sliding window method. \n",
    "\n",
    "    df_X, df_y (np): dataset\n",
    "    len_train (int): size of window\n",
    "    '''\n",
    "\n",
    "    num_step = 1\n",
    "    \n",
    "    logit_results = []\n",
    "    rf_results = []\n",
    "    ada_results = []\n",
    "    gradient_results = []\n",
    "    ensemble_results = []\n",
    "\n",
    "    i = 0\n",
    "    while True:\n",
    "        X = df_X[i * num_step : (i * num_step) + len_train]\n",
    "        y = df_y[i * num_step : (i * num_step) + len_train]\n",
    "        i += 1\n",
    "\n",
    "        if len(X) < len_train:\n",
    "            break\n",
    "\n",
    "        split = int(0.8 * len(X))\n",
    "        X_train, X_test, y_train, y_test = X[:split], X[split:], y[:split], y[split:]\n",
    "        \n",
    "        t_scaler = MinMaxScaler(feature_range=(-1, 1))\n",
    "        v_scaler = MinMaxScaler(feature_range=(-1, 1))\n",
    "        X_train = t_scaler.fit_transform(X_train)\n",
    "        X_test = v_scaler.fit_transform(X_test)\n",
    "\n",
    "        if len(np.unique(y_train)) == 1:\n",
    "            continue\n",
    "        logit, logit_accuracy = logistic_regression(X_train, X_test, y_train, y_test)\n",
    "        logit_results.append(logit_accuracy)\n",
    "        rf, rf_accuracy = random_forest(X_train, X_test, y_train, y_test)\n",
    "        rf_results.append(rf_accuracy)\n",
    "        ada, ada_accuracy = adaboost(X_train, X_test, y_train, y_test)\n",
    "        ada_results.append(ada_accuracy)\n",
    "        gra, gra_accuracy = gradient_boost(X_train, X_test, y_train, y_test)\n",
    "        gradient_results.append(gra_accuracy)\n",
    "        _, ensemble_accuracy = ensemble_model(logit, rf, ada, gra,  X_train, X_test, y_train, y_test)\n",
    "        ensemble_results.append(ensemble_accuracy)\n",
    "\n",
    "    if verbose:\n",
    "        print(\"Mean Accuracy of Logistic Regression\", sum(logit_results)/len(logit_results))\n",
    "        print(\"Mean Accuracy of Random Forests\", sum(rf_results)/len(rf_results))\n",
    "        print(\"Mean Accuracy of Adaboost\", sum(ada_results)/len(ada_results))\n",
    "        print(\"Mean Accuracy of Gradient Boosting\", sum(gradient_results)/len(gradient_results))\n",
    "        print(\"Mean Accuracy of Ensemble\", sum(ensemble_results)/len(ensemble_results))\n",
    "\n",
    "    return sum(ensemble_results)/len(ensemble_results)"
   ]
  },
  {
   "cell_type": "markdown",
   "metadata": {},
   "source": [
    "### (Part1) Implement cross validation"
   ]
  },
  {
   "cell_type": "markdown",
   "metadata": {},
   "source": [
    "***With all technical features & Without sentiment score***"
   ]
  },
  {
   "cell_type": "code",
   "execution_count": 10,
   "metadata": {},
   "outputs": [
    {
     "name": "stderr",
     "output_type": "stream",
     "text": [
      "/Users/ayakowatanabe/opt/anaconda3/lib/python3.8/site-packages/ta/trend.py:769: RuntimeWarning: invalid value encountered in double_scalars\n",
      "  dip[idx] = 100 * (self._dip[idx] / value)\n",
      "/Users/ayakowatanabe/opt/anaconda3/lib/python3.8/site-packages/ta/trend.py:774: RuntimeWarning: invalid value encountered in double_scalars\n",
      "  din[idx] = 100 * (self._din[idx] / value)\n",
      "/Users/ayakowatanabe/opt/anaconda3/lib/python3.8/site-packages/ta/trend.py:938: FutureWarning: The default dtype for empty Series will be 'object' instead of 'float64' in a future version. Specify a dtype explicitly to silence this warning.\n",
      "  self._psar_up = pd.Series(index=self._psar.index)\n",
      "/Users/ayakowatanabe/opt/anaconda3/lib/python3.8/site-packages/ta/trend.py:939: FutureWarning: The default dtype for empty Series will be 'object' instead of 'float64' in a future version. Specify a dtype explicitly to silence this warning.\n",
      "  self._psar_down = pd.Series(index=self._psar.index)\n"
     ]
    }
   ],
   "source": [
    "X, y = prepare_dataset(select_feature=False)"
   ]
  },
  {
   "cell_type": "code",
   "execution_count": 11,
   "metadata": {},
   "outputs": [
    {
     "name": "stdout",
     "output_type": "stream",
     "text": [
      "Mean Accuracy of Logistic Regression 0.6428571428571429\n",
      "Mean Accuracy of Random Forests 0.6476190476190475\n",
      "Mean Accuracy of Adaboost 0.6333333333333334\n",
      "Mean Accuracy of Gradient Boosting 0.657142857142857\n",
      "Mean Accuracy of Ensemble 0.695238095238095\n"
     ]
    },
    {
     "data": {
      "text/plain": [
       "0.695238095238095"
      ]
     },
     "execution_count": 11,
     "metadata": {},
     "output_type": "execute_result"
    }
   ],
   "source": [
    "cross_validation(X, y, 14)"
   ]
  },
  {
   "cell_type": "markdown",
   "metadata": {},
   "source": [
    "Ensemble has the highest accuracy. "
   ]
  },
  {
   "cell_type": "markdown",
   "metadata": {},
   "source": [
    "***With all technical features & sentiment score***"
   ]
  },
  {
   "cell_type": "code",
   "execution_count": 12,
   "metadata": {},
   "outputs": [
    {
     "name": "stderr",
     "output_type": "stream",
     "text": [
      "/Users/ayakowatanabe/opt/anaconda3/lib/python3.8/site-packages/ta/trend.py:769: RuntimeWarning: invalid value encountered in double_scalars\n",
      "  dip[idx] = 100 * (self._dip[idx] / value)\n",
      "/Users/ayakowatanabe/opt/anaconda3/lib/python3.8/site-packages/ta/trend.py:774: RuntimeWarning: invalid value encountered in double_scalars\n",
      "  din[idx] = 100 * (self._din[idx] / value)\n",
      "/Users/ayakowatanabe/opt/anaconda3/lib/python3.8/site-packages/ta/trend.py:938: FutureWarning: The default dtype for empty Series will be 'object' instead of 'float64' in a future version. Specify a dtype explicitly to silence this warning.\n",
      "  self._psar_up = pd.Series(index=self._psar.index)\n",
      "/Users/ayakowatanabe/opt/anaconda3/lib/python3.8/site-packages/ta/trend.py:939: FutureWarning: The default dtype for empty Series will be 'object' instead of 'float64' in a future version. Specify a dtype explicitly to silence this warning.\n",
      "  self._psar_down = pd.Series(index=self._psar.index)\n"
     ]
    }
   ],
   "source": [
    "X_s, y_s = prepare_dataset(select_feature=False, sentiment=True)"
   ]
  },
  {
   "cell_type": "code",
   "execution_count": 13,
   "metadata": {},
   "outputs": [
    {
     "name": "stdout",
     "output_type": "stream",
     "text": [
      "Mean Accuracy of Logistic Regression 0.6238095238095238\n",
      "Mean Accuracy of Random Forests 0.6238095238095238\n",
      "Mean Accuracy of Adaboost 0.638095238095238\n",
      "Mean Accuracy of Gradient Boosting 0.657142857142857\n",
      "Mean Accuracy of Ensemble 0.6857142857142855\n"
     ]
    },
    {
     "data": {
      "text/plain": [
       "0.6857142857142855"
      ]
     },
     "execution_count": 13,
     "metadata": {},
     "output_type": "execute_result"
    }
   ],
   "source": [
    "cross_validation(X_s, y_s, 14)"
   ]
  },
  {
   "cell_type": "markdown",
   "metadata": {},
   "source": [
    "### (Part2) Evaluate optimal sliding window size"
   ]
  },
  {
   "cell_type": "code",
   "execution_count": 14,
   "metadata": {},
   "outputs": [],
   "source": [
    "window_size = np.linspace(start = 10, stop = 30, num = 11, dtype = int)\n",
    "\n",
    "accuracies = []\n",
    "for size in window_size:\n",
    "    accuracies.append(cross_validation(X, y, size, False))\n"
   ]
  },
  {
   "cell_type": "code",
   "execution_count": 15,
   "metadata": {},
   "outputs": [
    {
     "data": {
      "image/png": "[encoded data removed]",
      "text/plain": [
       "<Figure size 576x432 with 1 Axes>"
      ]
     },
     "metadata": {
      "needs_background": "light"
     },
     "output_type": "display_data"
    }
   ],
   "source": [
    "plt.figure(figsize=[8., 6.])\n",
    "plt.plot(window_size, accuracies)\n",
    "plt.title('Sliding Window Size vs Accuracy')\n",
    "plt.xlabel('Sliding Window Sizes')\n",
    "plt.xticks(window_size)\n",
    "plt.show()"
   ]
  },
  {
   "cell_type": "markdown",
   "metadata": {},
   "source": [
    "Sliding window size = 14 is the optimal. "
   ]
  }
 ],
 "metadata": {
  "interpreter": {
   "hash": "9d272364d79b62684f606616d6bd0931b0e79fea14278e158a233ed96157505c"
  },
  "kernelspec": {
   "display_name": "Python 3.8.8 ('base')",
   "language": "python",
   "name": "python3"
  },
  "language_info": {
   "codemirror_mode": {
    "name": "ipython",
    "version": 3
   },
   "file_extension": ".py",
   "mimetype": "text/x-python",
   "name": "python",
   "nbconvert_exporter": "python",
   "pygments_lexer": "ipython3",
   "version": "3.8.8"
  },
  "vscode": {
   "interpreter": {
    "hash": "9d272364d79b62684f606616d6bd0931b0e79fea14278e158a233ed96157505c"
   }
  }
 },
 "nbformat": 4,
 "nbformat_minor": 2
}

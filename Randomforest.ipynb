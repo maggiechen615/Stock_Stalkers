{
 "cells": [
  {
   "cell_type": "markdown",
   "metadata": {},
   "source": [
    "# Random Forest (Ensemble Model)"
   ]
  },
  {
   "cell_type": "code",
   "execution_count": 1,
   "metadata": {},
   "outputs": [],
   "source": [
    "# Data Manipulation\n",
    "import pandas as pd\n",
    "import numpy as np\n",
    "\n",
    "# Plotting graphs\n",
    "import matplotlib.pyplot as plt\n",
    "\n",
    "# Machine learning\n",
    "from sklearn.linear_model import LogisticRegression\n",
    "from sklearn import metrics\n",
    "from sklearn.model_selection import cross_val_score, train_test_split\n",
    "from sklearn.preprocessing import OneHotEncoder, MinMaxScaler\n",
    "from sklearn.ensemble import RandomForestRegressor, RandomForestClassifier, AdaBoostClassifier, GradientBoostingClassifier\n",
    "from sklearn.model_selection import RandomizedSearchCV, GridSearchCV\n",
    "from pprint import pprint\n",
    "\n",
    "from ta import add_all_ta_features #pip install --upgrade ta https://github.com/bukosabino/ta https://medium.datadriveninvestor.com/predicting-the-stock-market-with-python-bba3cf4c56ef\n",
    "from fastai.tabular.all import add_datepart #pip install fastai https://docs.fast.ai/tabular.core.html https://www.analyticsvidhya.com/blog/2018/10/predicting-stock-price-machine-learningnd-deep-learning-techniques-python/"
   ]
  },
  {
   "cell_type": "markdown",
   "metadata": {},
   "source": [
    "### (Part0) Data Preparation & Helper Function\n",
    "\n",
    "We will use Apple Stock Price data from 2021-12-29 to 2021-4-28 (4month). We will include all the technical features we produced to perform feature selection. "
   ]
  },
  {
   "cell_type": "code",
   "execution_count": 2,
   "metadata": {},
   "outputs": [],
   "source": [
    "def prepare_dataset(path = 'data/AAPL_data.csv', select_feature = True, start_date = '2021-12-29'):\n",
    "    '''\n",
    "    Load dataset and generate technical features and limit time periods. \n",
    "\n",
    "    path(str) : path to the data file.\n",
    "    select_feature(boolean) : if true keep selected features\n",
    "    start_date(str) : start date of interested time period. \n",
    "    '''\n",
    "    df = pd.read_csv(path)\n",
    "    df.dropna()\n",
    "\n",
    "    df[\"Date\"]=pd.to_datetime(df.Date, format=\"%Y-%m-%d\")\n",
    "    df.index=df['Date']\n",
    "    data = df.sort_index(ascending=True, axis=0)\n",
    "    add_datepart(df, 'Date', drop=False)\n",
    "    df.drop('Elapsed', axis=1, inplace=True)\n",
    "\n",
    "    df = add_all_ta_features(\n",
    "        df, high=\"High\", low=\"Low\", open=\"Open\", close=\"Close\", volume=\"Volume\")\n",
    "    \n",
    "    df = df[df['Date'] >= start_date]\n",
    "\n",
    "    X = df.drop(['Close', 'trend_psar_down', 'trend_psar_up', 'Date', 'Adj Close'], axis=1)\n",
    "    y = np.where(df['Close'].shift(-1) > df['Close'], 1, -1)\n",
    "\n",
    "    if select_feature:\n",
    "        selected_features = ['trend_sma_fast', 'trend_ema_fast', 'momentum_stoch_rsi_k', 'momentum_stoch_rsi_d', 'momentum_rsi', \\\n",
    "                    'trend_macd', 'momentum_wr', 'volume_adi', 'momentum_roc', 'volume_obv', \\\n",
    "                    'volatility_bbh', 'volatility_bbl']\n",
    "        basic_features = ['High', 'Low', 'Open', 'Volume', 'Year', 'Month', 'Week', 'Day', 'Dayofweek']\n",
    "        X = X[selected_features + basic_features]\n",
    "\n",
    "    return X, y"
   ]
  },
  {
   "cell_type": "code",
   "execution_count": 3,
   "metadata": {},
   "outputs": [
    {
     "name": "stderr",
     "output_type": "stream",
     "text": [
      "/Users/ayakowatanabe/opt/anaconda3/lib/python3.8/site-packages/ta/trend.py:769: RuntimeWarning: invalid value encountered in double_scalars\n",
      "  dip[idx] = 100 * (self._dip[idx] / value)\n",
      "/Users/ayakowatanabe/opt/anaconda3/lib/python3.8/site-packages/ta/trend.py:774: RuntimeWarning: invalid value encountered in double_scalars\n",
      "  din[idx] = 100 * (self._din[idx] / value)\n",
      "/Users/ayakowatanabe/opt/anaconda3/lib/python3.8/site-packages/ta/trend.py:938: FutureWarning: The default dtype for empty Series will be 'object' instead of 'float64' in a future version. Specify a dtype explicitly to silence this warning.\n",
      "  self._psar_up = pd.Series(index=self._psar.index)\n",
      "/Users/ayakowatanabe/opt/anaconda3/lib/python3.8/site-packages/ta/trend.py:939: FutureWarning: The default dtype for empty Series will be 'object' instead of 'float64' in a future version. Specify a dtype explicitly to silence this warning.\n",
      "  self._psar_down = pd.Series(index=self._psar.index)\n"
     ]
    }
   ],
   "source": [
    "# Data with full set of technical features\n",
    "X_pandas, y = prepare_dataset(select_feature=False)\n",
    "X = np.array(X_pandas)"
   ]
  },
  {
   "cell_type": "markdown",
   "metadata": {},
   "source": [
    "**Train/Test Data Split and Data Normalization**"
   ]
  },
  {
   "cell_type": "code",
   "execution_count": 4,
   "metadata": {},
   "outputs": [],
   "source": [
    "# Convert data to float32 for PyTorch\n",
    "X = X.astype(np.float32)\n",
    "\n",
    "# Split training and validation data\n",
    "split = int(0.8 * len(X))\n",
    "X_train = X[:split]\n",
    "X_valid = X[split:]\n",
    "\n",
    "y_train = y[:split]\n",
    "y_valid = y[split:]\n",
    "\n",
    "# scale data\n",
    "t_scaler = MinMaxScaler(feature_range=(-1, 1))\n",
    "v_scaler = MinMaxScaler(feature_range=(-1, 1))\n",
    "X_train = t_scaler.fit_transform(X_train)\n",
    "X_valid = v_scaler.fit_transform(X_valid)"
   ]
  },
  {
   "cell_type": "markdown",
   "metadata": {},
   "source": [
    "### (Part1) Random Forest\n",
    "\n",
    "In this part, we will implement random forest classifier model. "
   ]
  },
  {
   "cell_type": "markdown",
   "metadata": {},
   "source": [
    "**Baseline Model Without Hyperparameter Tuning**"
   ]
  },
  {
   "cell_type": "code",
   "execution_count": 5,
   "metadata": {},
   "outputs": [],
   "source": [
    "base_model = RandomForestClassifier(random_state=42)\n",
    "base_model.fit(X_train, y_train)\n",
    "base_predict = base_model.predict(X_valid)"
   ]
  },
  {
   "cell_type": "code",
   "execution_count": 6,
   "metadata": {},
   "outputs": [
    {
     "name": "stdout",
     "output_type": "stream",
     "text": [
      "              precision    recall  f1-score   support\n",
      "\n",
      "          -1       0.64      0.64      0.64        11\n",
      "           1       0.33      0.33      0.33         6\n",
      "\n",
      "    accuracy                           0.53        17\n",
      "   macro avg       0.48      0.48      0.48        17\n",
      "weighted avg       0.53      0.53      0.53        17\n",
      "\n"
     ]
    }
   ],
   "source": [
    "print(metrics.classification_report(y_valid, base_predict))"
   ]
  },
  {
   "cell_type": "code",
   "execution_count": 7,
   "metadata": {},
   "outputs": [
    {
     "name": "stdout",
     "output_type": "stream",
     "text": [
      "Accuracy = 52.94%.\n"
     ]
    }
   ],
   "source": [
    "base_accuracy = base_model.score(X_valid, y_valid)\n",
    "print('Accuracy = {:0.2f}%.'.format(base_accuracy*100))"
   ]
  },
  {
   "cell_type": "code",
   "execution_count": 8,
   "metadata": {},
   "outputs": [
    {
     "name": "stdout",
     "output_type": "stream",
     "text": [
      "Parameters currently in use:\n",
      "\n",
      "{'bootstrap': True,\n",
      " 'ccp_alpha': 0.0,\n",
      " 'class_weight': None,\n",
      " 'criterion': 'gini',\n",
      " 'max_depth': None,\n",
      " 'max_features': 'auto',\n",
      " 'max_leaf_nodes': None,\n",
      " 'max_samples': None,\n",
      " 'min_impurity_decrease': 0.0,\n",
      " 'min_samples_leaf': 1,\n",
      " 'min_samples_split': 2,\n",
      " 'min_weight_fraction_leaf': 0.0,\n",
      " 'n_estimators': 100,\n",
      " 'n_jobs': None,\n",
      " 'oob_score': False,\n",
      " 'random_state': None,\n",
      " 'verbose': 0,\n",
      " 'warm_start': False}\n"
     ]
    }
   ],
   "source": [
    "rf = RandomForestClassifier()\n",
    "# Look at parameters used by current forest, and the param need to be tuned to find the best \n",
    "# for our current dataset\n",
    "print('Parameters currently in use:\\n')\n",
    "pprint(rf.get_params())"
   ]
  },
  {
   "cell_type": "markdown",
   "metadata": {},
   "source": [
    "**Hyperparameter tuning by random search**  \n",
    "\n",
    "We refer to [here](https://medium.com/@maryamuzakariya/project-predict-stock-prices-using-random-forest-regression-model-in-python-fbe4edf01664#:~:text=The%20random%20forest%20regression%20model,based%20on%20the%20predicted%20values)"
   ]
  },
  {
   "cell_type": "code",
   "execution_count": 9,
   "metadata": {},
   "outputs": [],
   "source": [
    "# Number of trees in random forest\n",
    "n_estimators = [int(x) for x in np.linspace(start = 200, stop = 2000, num = 10)]\n",
    "# Number of features to consider at every split\n",
    "max_features = ['log2', 'sqrt']\n",
    "# Maximum number of levels in tree\n",
    "max_depth = [int(x) for x in np.linspace(10, 110, num = 11)]\n",
    "max_depth.append(None)\n",
    "# Minimum number of samples required to split a node\n",
    "min_samples_split = [2, 5, 10]\n",
    "# Minimum number of samples required at each leaf node\n",
    "min_samples_leaf = [1, 2, 4]\n",
    "# Method of selecting samples for training each tree\n",
    "bootstrap = [True, False]\n",
    "# Create the random grid\n",
    "random_grid = {'n_estimators': n_estimators,\n",
    "               'max_features': max_features,\n",
    "               'max_depth': max_depth,\n",
    "               'min_samples_split': min_samples_split,\n",
    "               'min_samples_leaf': min_samples_leaf,\n",
    "               'bootstrap': bootstrap}"
   ]
  },
  {
   "cell_type": "code",
   "execution_count": 10,
   "metadata": {},
   "outputs": [],
   "source": [
    "rf = RandomForestClassifier()\n",
    "rf_random = RandomizedSearchCV(estimator = rf, param_distributions = random_grid, n_iter = 100, cv=3, verbose=0, random_state=42, n_jobs = -1)"
   ]
  },
  {
   "cell_type": "code",
   "execution_count": 11,
   "metadata": {},
   "outputs": [
    {
     "data": {
      "text/plain": [
       "RandomizedSearchCV(cv=3, estimator=RandomForestClassifier(), n_iter=100,\n",
       "                   n_jobs=-1,\n",
       "                   param_distributions={'bootstrap': [True, False],\n",
       "                                        'max_depth': [10, 20, 30, 40, 50, 60,\n",
       "                                                      70, 80, 90, 100, 110,\n",
       "                                                      None],\n",
       "                                        'max_features': ['log2', 'sqrt'],\n",
       "                                        'min_samples_leaf': [1, 2, 4],\n",
       "                                        'min_samples_split': [2, 5, 10],\n",
       "                                        'n_estimators': [200, 400, 600, 800,\n",
       "                                                         1000, 1200, 1400, 1600,\n",
       "                                                         1800, 2000]},\n",
       "                   random_state=42)"
      ]
     },
     "execution_count": 11,
     "metadata": {},
     "output_type": "execute_result"
    }
   ],
   "source": [
    "rf_random.fit(X_train, y_train)"
   ]
  },
  {
   "cell_type": "code",
   "execution_count": 12,
   "metadata": {},
   "outputs": [
    {
     "name": "stdout",
     "output_type": "stream",
     "text": [
      "Parameters currently in use:\n",
      "\n",
      "{'n_estimators': 2000, 'min_samples_split': 10, 'min_samples_leaf': 2, 'max_features': 'log2', 'max_depth': 40, 'bootstrap': True}\n"
     ]
    }
   ],
   "source": [
    "best = rf_random.best_params_\n",
    "print('Parameters currently in use:\\n')\n",
    "print(best)"
   ]
  },
  {
   "cell_type": "markdown",
   "metadata": {},
   "source": [
    "**Model after Hyperparameter Tuning**"
   ]
  },
  {
   "cell_type": "code",
   "execution_count": 13,
   "metadata": {},
   "outputs": [],
   "source": [
    "hyper_model = RandomForestClassifier(n_estimators=best[\"n_estimators\"], min_samples_split=best[\"min_samples_split\"], \\\n",
    "        min_samples_leaf=best[\"min_samples_leaf\"], max_features=best[\"max_features\"], max_depth=best[\"max_depth\"], \\\n",
    "        bootstrap=best[\"bootstrap\"], random_state=42)"
   ]
  },
  {
   "cell_type": "code",
   "execution_count": 14,
   "metadata": {},
   "outputs": [
    {
     "data": {
      "text/plain": [
       "RandomForestClassifier(max_depth=40, max_features='log2', min_samples_leaf=2,\n",
       "                       min_samples_split=10, n_estimators=2000,\n",
       "                       random_state=42)"
      ]
     },
     "execution_count": 14,
     "metadata": {},
     "output_type": "execute_result"
    }
   ],
   "source": [
    "hyper_model.fit(X_train, y_train)"
   ]
  },
  {
   "cell_type": "code",
   "execution_count": 15,
   "metadata": {},
   "outputs": [],
   "source": [
    "hyper_predict = hyper_model.predict(X_valid)"
   ]
  },
  {
   "cell_type": "code",
   "execution_count": 16,
   "metadata": {},
   "outputs": [
    {
     "name": "stdout",
     "output_type": "stream",
     "text": [
      "              precision    recall  f1-score   support\n",
      "\n",
      "          -1       0.67      0.55      0.60        11\n",
      "           1       0.38      0.50      0.43         6\n",
      "\n",
      "    accuracy                           0.53        17\n",
      "   macro avg       0.52      0.52      0.51        17\n",
      "weighted avg       0.56      0.53      0.54        17\n",
      "\n"
     ]
    }
   ],
   "source": [
    "print(metrics.classification_report(y_valid, hyper_predict))"
   ]
  },
  {
   "cell_type": "code",
   "execution_count": 17,
   "metadata": {},
   "outputs": [
    {
     "name": "stdout",
     "output_type": "stream",
     "text": [
      "Accuracy = 52.94%.\n",
      "Improvement of 0.00%.\n"
     ]
    }
   ],
   "source": [
    "hyper_accuracy = hyper_model.score(X_valid, y_valid)\n",
    "print('Accuracy = {:0.2f}%.'.format(hyper_accuracy*100))\n",
    "print('Improvement of {:0.2f}%.'.format( 100 * (hyper_accuracy - base_accuracy) / base_accuracy))"
   ]
  },
  {
   "cell_type": "markdown",
   "metadata": {},
   "source": [
    "**Feature Importance Evaluation**"
   ]
  },
  {
   "cell_type": "code",
   "execution_count": 18,
   "metadata": {},
   "outputs": [],
   "source": [
    "importances = hyper_model.feature_importances_\n",
    "std = np.std([tree.feature_importances_ for tree in hyper_model.estimators_], axis=0)"
   ]
  },
  {
   "cell_type": "code",
   "execution_count": 19,
   "metadata": {},
   "outputs": [
    {
     "data": {
      "image/png": "[encoded data removed]",
      "text/plain": [
       "<Figure size 2160x1440 with 1 Axes>"
      ]
     },
     "metadata": {
      "needs_background": "light"
     },
     "output_type": "display_data"
    }
   ],
   "source": [
    "feature_names = [i for i in X_pandas.columns]\n",
    "forest_importances = pd.Series(importances, index=feature_names)\n",
    "forest_importances = forest_importances.sort_values(ascending=False)\n",
    "\n",
    "fig, ax = plt.subplots(figsize=(30,20))\n",
    "forest_importances.plot.bar(yerr=std, ax=ax)\n",
    "ax.set_title(\"Feature importances using MDI\")\n",
    "ax.set_ylabel(\"Mean decrease in impurity\")\n",
    "fig.tight_layout()"
   ]
  },
  {
   "cell_type": "code",
   "execution_count": 20,
   "metadata": {},
   "outputs": [
    {
     "data": {
      "text/plain": [
       "trend_kst_sig          0.037446\n",
       "volatility_bbm         0.022929\n",
       "volume_vwap            0.022386\n",
       "volatility_kcl         0.020912\n",
       "trend_ichimoku_a       0.020788\n",
       "trend_sma_slow         0.019945\n",
       "trend_ichimoku_base    0.019702\n",
       "trend_mass_index       0.019681\n",
       "volume_vpt             0.019045\n",
       "Open                   0.018894\n",
       "volatility_kcc         0.018837\n",
       "volatility_bbl         0.018115\n",
       "trend_sma_fast         0.017845\n",
       "momentum_kama          0.017589\n",
       "volatility_kch         0.016991\n",
       "trend_ema_slow         0.014862\n",
       "Low                    0.014567\n",
       "High                   0.014428\n",
       "trend_kst              0.013903\n",
       "momentum_pvo           0.013843\n",
       "dtype: float64"
      ]
     },
     "execution_count": 20,
     "metadata": {},
     "output_type": "execute_result"
    }
   ],
   "source": [
    "forest_importances.head(20)"
   ]
  },
  {
   "cell_type": "markdown",
   "metadata": {},
   "source": [
    "### Part(2) Adaboost\n",
    "\n",
    "In this part, we will implement Adaboost model. "
   ]
  },
  {
   "cell_type": "code",
   "execution_count": 21,
   "metadata": {},
   "outputs": [
    {
     "name": "stdout",
     "output_type": "stream",
     "text": [
      "              precision    recall  f1-score   support\n",
      "\n",
      "          -1       0.64      0.82      0.72        11\n",
      "           1       0.33      0.17      0.22         6\n",
      "\n",
      "    accuracy                           0.59        17\n",
      "   macro avg       0.49      0.49      0.47        17\n",
      "weighted avg       0.53      0.59      0.54        17\n",
      "\n"
     ]
    }
   ],
   "source": [
    "ada_model = AdaBoostClassifier(random_state=42)\n",
    "ada_model.fit(X_train, y_train)\n",
    "ada_predict = ada_model.predict(X_valid)\n",
    "print(metrics.classification_report(y_valid, ada_predict))"
   ]
  },
  {
   "cell_type": "code",
   "execution_count": 22,
   "metadata": {},
   "outputs": [
    {
     "name": "stdout",
     "output_type": "stream",
     "text": [
      "Accuracy = 58.82%.\n",
      "Improvement of 11.11%.\n"
     ]
    }
   ],
   "source": [
    "ada_accuracy = ada_model.score(X_valid, y_valid)\n",
    "print('Accuracy = {:0.2f}%.'.format(ada_accuracy*100))\n",
    "print('Improvement of {:0.2f}%.'.format( 100 * (ada_accuracy - base_accuracy) / base_accuracy))"
   ]
  },
  {
   "cell_type": "code",
   "execution_count": 23,
   "metadata": {},
   "outputs": [],
   "source": [
    "# Hyperparameter tuning : Didn't improve accuracy\n",
    "# random_grid_adaboost = {'n_estimators': [int(x) for x in np.linspace(start = 200, stop = 2000, num = 10)], \n",
    "#                'algorithm': ['SAMME', 'SAMME.R'],\n",
    "#                'learning_rate':[0.1, 0.2, 0.3, 0.4, 0.5, 0.6, 0.7, 0.8, 0.9, 1]}\n",
    "# ad = AdaBoostClassifier()\n",
    "# ad_random = RandomizedSearchCV(estimator = ad, param_distributions = random_grid_adaboost, n_iter = 100, cv=3, verbose=0, random_state=42, n_jobs = -1)\n",
    "# ad_random.fit(X_train, y_train)\n",
    "# ad_best = ad_random.best_params_\n",
    "# print('Parameters currently in use:\\n')\n",
    "# print(ad_best)\n",
    "# hyper_ada_model = AdaBoostClassifier(n_estimators=ad_best['n_estimators'], learning_rate=ad_best['learning_rate'], algorithm=ad_best['algorithm'], random_state=42)\n",
    "# hyper_ada_model.fit(X_train, y_train)\n",
    "# hyper_ada_predict = hyper_ada_model.predict(X_valid)\n",
    "# print(metrics.classification_report(y_valid, hyper_ada_predict))"
   ]
  },
  {
   "cell_type": "markdown",
   "metadata": {},
   "source": [
    "### Part(3) Gradient Boosting\n",
    "\n",
    "In this part, we will implement Gradient Boosting model. "
   ]
  },
  {
   "cell_type": "code",
   "execution_count": 24,
   "metadata": {},
   "outputs": [
    {
     "name": "stdout",
     "output_type": "stream",
     "text": [
      "              precision    recall  f1-score   support\n",
      "\n",
      "          -1       0.75      0.82      0.78        11\n",
      "           1       0.60      0.50      0.55         6\n",
      "\n",
      "    accuracy                           0.71        17\n",
      "   macro avg       0.68      0.66      0.66        17\n",
      "weighted avg       0.70      0.71      0.70        17\n",
      "\n"
     ]
    }
   ],
   "source": [
    "gra_model = GradientBoostingClassifier(random_state=42)\n",
    "gra_model.fit(X_train, y_train)\n",
    "gra_predict = gra_model.predict(X_valid)\n",
    "print(metrics.classification_report(y_valid, gra_predict))"
   ]
  },
  {
   "cell_type": "code",
   "execution_count": 25,
   "metadata": {},
   "outputs": [
    {
     "name": "stdout",
     "output_type": "stream",
     "text": [
      "Accuracy = 70.59%.\n",
      "Improvement of 33.33%.\n"
     ]
    }
   ],
   "source": [
    "gra_accuracy = gra_model.score(X_valid, y_valid)\n",
    "print('Accuracy = {:0.2f}%.'.format(gra_accuracy*100))\n",
    "print('Improvement of {:0.2f}%.'.format( 100 * (gra_accuracy - base_accuracy) / base_accuracy))"
   ]
  },
  {
   "cell_type": "code",
   "execution_count": 26,
   "metadata": {},
   "outputs": [],
   "source": [
    "# Hyperparameter tuning : Didn't improve accuracy\n",
    "# random_grid_gradient = {'n_estimators': n_estimators,\n",
    "#                'max_features': max_features + ['auto'],\n",
    "#                'max_depth': max_depth,\n",
    "#                'min_samples_split': min_samples_split,\n",
    "#                'min_samples_leaf': min_samples_leaf,\n",
    "#                'learning_rate': [0.1, 0.2, 0.3, 0.4, 0.5, 0.6, 0.7, 0.8, 0.9, 1]}\n",
    "\n",
    "# gr = GradientBoostingClassifier()\n",
    "# gr_random = RandomizedSearchCV(estimator = gr, param_distributions = random_grid_gradient, n_iter = 100, cv=3, verbose=0, random_state=42, n_jobs = -1)\n",
    "# gr_random.fit(X_train, y_train)\n",
    "# gr_best = gr_random.best_params_\n",
    "# print('Parameters currently in use:\\n')\n",
    "# print(gr_best)\n",
    "# hyper_gra_model = GradientBoostingClassifier(n_estimators=gr_best[\"n_estimators\"], min_samples_split=gr_best[\"min_samples_split\"], \\\n",
    "#         min_samples_leaf=gr_best[\"min_samples_leaf\"], max_features=gr_best[\"max_features\"], max_depth=gr_best[\"max_depth\"], \\\n",
    "#         learning_rate=gr_best[\"learning_rate\"], random_state=42)\n",
    "# hyper_gra_model.fit(X_train, y_train)\n",
    "# hyper_gra_predict = hyper_gra_model.predict(X_valid)\n",
    "# print(metrics.classification_report(y_valid, hyper_gra_predict))"
   ]
  }
 ],
 "metadata": {
  "interpreter": {
   "hash": "9d272364d79b62684f606616d6bd0931b0e79fea14278e158a233ed96157505c"
  },
  "kernelspec": {
   "display_name": "Python 3 (ipykernel)",
   "language": "python",
   "name": "python3"
  },
  "language_info": {
   "codemirror_mode": {
    "name": "ipython",
    "version": 3
   },
   "file_extension": ".py",
   "mimetype": "text/x-python",
   "name": "python",
   "nbconvert_exporter": "python",
   "pygments_lexer": "ipython3",
   "version": "3.8.8"
  }
 },
 "nbformat": 4,
 "nbformat_minor": 2
}
